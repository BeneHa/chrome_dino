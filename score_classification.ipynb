{
 "cells": [
  {
   "cell_type": "markdown",
   "metadata": {},
   "source": [
    "# Multi-digit recognition of Chrome dinosaur score using the Keras functional API"
   ]
  },
  {
   "cell_type": "code",
   "execution_count": 1,
   "metadata": {},
   "outputs": [
    {
     "name": "stderr",
     "output_type": "stream",
     "text": [
      "C:\\ProgramData\\Anaconda3\\lib\\site-packages\\h5py\\__init__.py:34: FutureWarning: Conversion of the second argument of issubdtype from `float` to `np.floating` is deprecated. In future, it will be treated as `np.float64 == np.dtype(float).type`.\n",
      "  from ._conv import register_converters as _register_converters\n",
      "Using TensorFlow backend.\n"
     ]
    }
   ],
   "source": [
    "import tensorflow as tf\n",
    "import keras\n",
    "#from keras import layers\n",
    "from keras import models\n",
    "from keras import optimizers\n",
    "from keras.preprocessing.image import ImageDataGenerator\n",
    "from keras.models import load_model\n",
    "from keras.models import Model\n",
    "from keras.layers import *\n",
    "import os\n",
    "import matplotlib.pyplot as plt\n",
    "import sys\n",
    "import numpy as np\n",
    "from keras.preprocessing.image import ImageDataGenerator, array_to_img, img_to_array, load_img"
   ]
  },
  {
   "cell_type": "markdown",
   "metadata": {},
   "source": [
    "## Preparation"
   ]
  },
  {
   "cell_type": "code",
   "execution_count": 2,
   "metadata": {
    "collapsed": true
   },
   "outputs": [],
   "source": [
    "base_dir = \"C:/Users/bened/OneDrive/Arbeit/Lernen/python_training/score_pics/\"\n",
    "train_dir = base_dir + \"train_pics/\"\n",
    "validation_dir = base_dir + \"validation_pics/\"\n",
    "test_dir = base_dir + \"test_pics/\""
   ]
  },
  {
   "cell_type": "code",
   "execution_count": 3,
   "metadata": {},
   "outputs": [
    {
     "name": "stdout",
     "output_type": "stream",
     "text": [
      "total training images: 132\n",
      "total validation images: 58\n",
      "total test images: 44\n"
     ]
    }
   ],
   "source": [
    "print(\"total training images:\", len(os.listdir(train_dir)))\n",
    "print(\"total validation images:\", len(os.listdir(validation_dir)))\n",
    "print(\"total test images:\", len(os.listdir(test_dir)))\n",
    "\n"
   ]
  },
  {
   "cell_type": "code",
   "execution_count": 4,
   "metadata": {
    "collapsed": true
   },
   "outputs": [],
   "source": [
    "train_folder = base_dir + \"train_pics\"\n",
    "valid_folder = base_dir + \"validation_pics\"\n",
    "test_folder = base_dir + \"test_pics\""
   ]
  },
  {
   "cell_type": "code",
   "execution_count": 5,
   "metadata": {
    "collapsed": true
   },
   "outputs": [],
   "source": [
    "train_names = [f for f in os.listdir(train_folder)]\n",
    "valid_names = [f for f in os.listdir(valid_folder)]\n",
    "test_names = [f for f in os.listdir(test_folder)]"
   ]
  },
  {
   "cell_type": "code",
   "execution_count": 6,
   "metadata": {},
   "outputs": [
    {
     "name": "stdout",
     "output_type": "stream",
     "text": [
      "132 training files\n",
      "58 validation files\n",
      "44 test files\n"
     ]
    }
   ],
   "source": [
    "print(str(len(train_names)) + \" training files\")\n",
    "print(str(len(valid_names)) + \" validation files\")\n",
    "print(str(len(test_names)) + \" test files\")"
   ]
  },
  {
   "cell_type": "markdown",
   "metadata": {},
   "source": [
    "## Create input, labels"
   ]
  },
  {
   "cell_type": "code",
   "execution_count": 7,
   "metadata": {
    "collapsed": true
   },
   "outputs": [],
   "source": [
    "def create_dataset(fold, names):\n",
    "    dataset = np.ndarray(shape=(len(names), 50, 160, 3), dtype = np.float32)\n",
    "    i = 0\n",
    "    for f in names:\n",
    "        img = load_img(base_dir + fold + \"/\" + f)\n",
    "        x = img_to_array(img)\n",
    "        x = (x - 128) / 128\n",
    "        dataset[i] = x\n",
    "        i += 1\n",
    "    dataset = dataset[:,:,:,0]\n",
    "    dataset = np.expand_dims(dataset, axis = 3)\n",
    "    return dataset\n",
    "\n",
    "\n",
    "def create_labels(names):\n",
    "    labels = [np.zeros((len(names),10)) for i in range(5)]\n",
    "    i = 0\n",
    "    for n in range(len(names)):\n",
    "        seq = names[n][0:5]\n",
    "        for digit in range(len(seq)):\n",
    "            label = int(seq[digit])\n",
    "            labels[digit][n][label] = 1\n",
    "        i += 1\n",
    "    return labels"
   ]
  },
  {
   "cell_type": "code",
   "execution_count": 8,
   "metadata": {
    "collapsed": true,
    "scrolled": false
   },
   "outputs": [],
   "source": [
    "train_dataset = create_dataset(\"train_pics\", train_names)\n",
    "validation_dataset = create_dataset(\"validation_pics\", valid_names)\n",
    "test_dataset = create_dataset(\"test_pics\", test_names)\n",
    "\n",
    "train_labels = create_labels(train_names)\n",
    "validation_labels = create_labels(valid_names)\n",
    "test_labels = create_labels(test_names)"
   ]
  },
  {
   "cell_type": "code",
   "execution_count": 9,
   "metadata": {},
   "outputs": [
    {
     "data": {
      "text/plain": [
       "(132, 50, 160, 1)"
      ]
     },
     "execution_count": 9,
     "metadata": {},
     "output_type": "execute_result"
    }
   ],
   "source": [
    "train_dataset.shape"
   ]
  },
  {
   "cell_type": "code",
   "execution_count": 10,
   "metadata": {},
   "outputs": [
    {
     "data": {
      "text/plain": [
       "array([1., 0., 0., 0., 0., 0., 0., 0., 0., 0.])"
      ]
     },
     "execution_count": 10,
     "metadata": {},
     "output_type": "execute_result"
    }
   ],
   "source": [
    "train_labels[1][1]"
   ]
  },
  {
   "cell_type": "markdown",
   "metadata": {},
   "source": [
    "## Define model"
   ]
  },
  {
   "cell_type": "code",
   "execution_count": 48,
   "metadata": {},
   "outputs": [
    {
     "name": "stderr",
     "output_type": "stream",
     "text": [
      "C:\\ProgramData\\Anaconda3\\lib\\site-packages\\ipykernel_launcher.py:27: UserWarning: Update your `Model` call to the Keras 2 API: `Model(inputs=Tensor(\"in..., outputs=[<tf.Tenso...)`\n"
     ]
    }
   ],
   "source": [
    "#Filters:\n",
    "f1, f2, f3 = 8,16,32\n",
    "patch_size = 5\n",
    "k_size = (6,6)\n",
    "p_size = (2,2)\n",
    "n_class = 10\n",
    "node = 10\n",
    "\n",
    "inp_corr = Input(shape=(50,160,1))\n",
    "\n",
    "conv1 = Conv2D(filters = f1, kernel_size = k_size, activation = \"relu\")(inp_corr)\n",
    "maxp1 = MaxPool2D(pool_size = p_size)(conv1)\n",
    "\n",
    "conv2 = Conv2D(filters = f2, kernel_size = k_size, activation = \"relu\")(maxp1)\n",
    "maxp2 = MaxPool2D(pool_size = p_size)(conv2)\n",
    "\n",
    "flat = Flatten()(maxp2)\n",
    "\n",
    "dense_21 = Dense(n_class, activation = \"softmax\")(flat)\n",
    "dense_22 = Dense(n_class, activation = \"softmax\")(flat)\n",
    "dense_23 = Dense(n_class, activation = \"softmax\")(flat)\n",
    "dense_24 = Dense(n_class, activation = \"softmax\")(flat)\n",
    "dense_25 = Dense(n_class, activation = \"softmax\")(flat)\n",
    "\n",
    "output = [dense_21, dense_22, dense_23, dense_24, dense_25]\n",
    "\n",
    "model = Model(input = inp_corr, output = output)\n",
    "model.compile(loss = \"categorical_crossentropy\", optimizer = \"sgd\", metrics = [\"accuracy\"])"
   ]
  },
  {
   "cell_type": "code",
   "execution_count": 49,
   "metadata": {},
   "outputs": [
    {
     "name": "stdout",
     "output_type": "stream",
     "text": [
      "__________________________________________________________________________________________________\n",
      "Layer (type)                    Output Shape         Param #     Connected to                     \n",
      "==================================================================================================\n",
      "input_8 (InputLayer)            (None, 50, 160, 1)   0                                            \n",
      "__________________________________________________________________________________________________\n",
      "conv2d_15 (Conv2D)              (None, 45, 155, 8)   296         input_8[0][0]                    \n",
      "__________________________________________________________________________________________________\n",
      "max_pooling2d_9 (MaxPooling2D)  (None, 22, 77, 8)    0           conv2d_15[0][0]                  \n",
      "__________________________________________________________________________________________________\n",
      "conv2d_16 (Conv2D)              (None, 17, 72, 16)   4624        max_pooling2d_9[0][0]            \n",
      "__________________________________________________________________________________________________\n",
      "max_pooling2d_10 (MaxPooling2D) (None, 8, 36, 16)    0           conv2d_16[0][0]                  \n",
      "__________________________________________________________________________________________________\n",
      "flatten_8 (Flatten)             (None, 4608)         0           max_pooling2d_10[0][0]           \n",
      "__________________________________________________________________________________________________\n",
      "dense_36 (Dense)                (None, 10)           46090       flatten_8[0][0]                  \n",
      "__________________________________________________________________________________________________\n",
      "dense_37 (Dense)                (None, 10)           46090       flatten_8[0][0]                  \n",
      "__________________________________________________________________________________________________\n",
      "dense_38 (Dense)                (None, 10)           46090       flatten_8[0][0]                  \n",
      "__________________________________________________________________________________________________\n",
      "dense_39 (Dense)                (None, 10)           46090       flatten_8[0][0]                  \n",
      "__________________________________________________________________________________________________\n",
      "dense_40 (Dense)                (None, 10)           46090       flatten_8[0][0]                  \n",
      "==================================================================================================\n",
      "Total params: 235,370\n",
      "Trainable params: 235,370\n",
      "Non-trainable params: 0\n",
      "__________________________________________________________________________________________________\n"
     ]
    }
   ],
   "source": [
    "model.summary()"
   ]
  },
  {
   "cell_type": "code",
   "execution_count": 50,
   "metadata": {
    "scrolled": true
   },
   "outputs": [
    {
     "name": "stdout",
     "output_type": "stream",
     "text": [
      "Epoch 1/35\n",
      "132/132 [==============================] - 2s 16ms/step - loss: 9.3140 - dense_36_loss: 1.2204 - dense_37_loss: 1.1898 - dense_38_loss: 2.2210 - dense_39_loss: 2.3661 - dense_40_loss: 2.3167 - dense_36_acc: 0.6212 - dense_37_acc: 0.6212 - dense_38_acc: 0.2121 - dense_39_acc: 0.1061 - dense_40_acc: 0.1288       \n",
      "Epoch 2/35\n",
      "132/132 [==============================] - 1s 5ms/step - loss: 6.5649 - dense_36_loss: 0.0152 - dense_37_loss: 0.0161 - dense_38_loss: 1.9801 - dense_39_loss: 2.2854 - dense_40_loss: 2.2681 - dense_36_acc: 1.0000 - dense_37_acc: 1.0000 - dense_38_acc: 0.1970 - dense_39_acc: 0.1288 - dense_40_acc: 0.0909\n",
      "Epoch 3/35\n",
      "132/132 [==============================] - 1s 6ms/step - loss: 6.3722 - dense_36_loss: 0.0169 - dense_37_loss: 0.0170 - dense_38_loss: 1.8965 - dense_39_loss: 2.1673 - dense_40_loss: 2.2744 - dense_36_acc: 1.0000 - dense_37_acc: 1.0000 - dense_38_acc: 0.2803 - dense_39_acc: 0.1591 - dense_40_acc: 0.1439\n",
      "Epoch 4/35\n",
      "132/132 [==============================] - 1s 5ms/step - loss: 6.0926 - dense_36_loss: 0.0102 - dense_37_loss: 0.0105 - dense_38_loss: 1.8003 - dense_39_loss: 2.1020 - dense_40_loss: 2.1696 - dense_36_acc: 1.0000 - dense_37_acc: 1.0000 - dense_38_acc: 0.3712 - dense_39_acc: 0.2424 - dense_40_acc: 0.1970\n",
      "Epoch 5/35\n",
      "132/132 [==============================] - 1s 5ms/step - loss: 5.8351 - dense_36_loss: 0.0082 - dense_37_loss: 0.0084 - dense_38_loss: 1.6557 - dense_39_loss: 2.0610 - dense_40_loss: 2.1018 - dense_36_acc: 1.0000 - dense_37_acc: 1.0000 - dense_38_acc: 0.3485 - dense_39_acc: 0.1439 - dense_40_acc: 0.3182\n",
      "Epoch 6/35\n",
      "132/132 [==============================] - 1s 5ms/step - loss: 5.5585 - dense_36_loss: 0.0040 - dense_37_loss: 0.0042 - dense_38_loss: 1.5264 - dense_39_loss: 2.0216 - dense_40_loss: 2.0023 - dense_36_acc: 1.0000 - dense_37_acc: 1.0000 - dense_38_acc: 0.5000 - dense_39_acc: 0.1970 - dense_40_acc: 0.3409\n",
      "Epoch 7/35\n",
      "132/132 [==============================] - 1s 5ms/step - loss: 5.4126 - dense_36_loss: 0.0028 - dense_37_loss: 0.0030 - dense_38_loss: 1.5311 - dense_39_loss: 1.8678 - dense_40_loss: 2.0078 - dense_36_acc: 1.0000 - dense_37_acc: 1.0000 - dense_38_acc: 0.4470 - dense_39_acc: 0.4091 - dense_40_acc: 0.4167\n",
      "Epoch 8/35\n",
      "132/132 [==============================] - 1s 5ms/step - loss: 4.9343 - dense_36_loss: 0.0014 - dense_37_loss: 0.0015 - dense_38_loss: 1.2351 - dense_39_loss: 1.8730 - dense_40_loss: 1.8233 - dense_36_acc: 1.0000 - dense_37_acc: 1.0000 - dense_38_acc: 0.7879 - dense_39_acc: 0.3636 - dense_40_acc: 0.5227\n",
      "Epoch 9/35\n",
      "132/132 [==============================] - 1s 6ms/step - loss: 4.8053 - dense_36_loss: 0.0026 - dense_37_loss: 0.0029 - dense_38_loss: 1.2340 - dense_39_loss: 1.8700 - dense_40_loss: 1.6958 - dense_36_acc: 1.0000 - dense_37_acc: 1.0000 - dense_38_acc: 0.5909 - dense_39_acc: 0.2879 - dense_40_acc: 0.5227\n",
      "Epoch 10/35\n",
      "132/132 [==============================] - 1s 6ms/step - loss: 4.1545 - dense_36_loss: 0.0014 - dense_37_loss: 0.0015 - dense_38_loss: 1.2465 - dense_39_loss: 1.4169 - dense_40_loss: 1.4881 - dense_36_acc: 1.0000 - dense_37_acc: 1.0000 - dense_38_acc: 0.4697 - dense_39_acc: 0.6894 - dense_40_acc: 0.7348\n",
      "Epoch 11/35\n",
      "132/132 [==============================] - 1s 5ms/step - loss: 4.1140 - dense_36_loss: 2.6085e-04 - dense_37_loss: 3.5617e-04 - dense_38_loss: 0.8200 - dense_39_loss: 1.5641 - dense_40_loss: 1.7293 - dense_36_acc: 1.0000 - dense_37_acc: 1.0000 - dense_38_acc: 0.7955 - dense_39_acc: 0.4318 - dense_40_acc: 0.4621\n",
      "Epoch 12/35\n",
      "132/132 [==============================] - 1s 5ms/step - loss: 3.9242 - dense_36_loss: 0.0118 - dense_37_loss: 0.0125 - dense_38_loss: 0.8977 - dense_39_loss: 1.5760 - dense_40_loss: 1.4261 - dense_36_acc: 1.0000 - dense_37_acc: 1.0000 - dense_38_acc: 0.8712 - dense_39_acc: 0.6288 - dense_40_acc: 0.6288\n",
      "Epoch 13/35\n",
      "132/132 [==============================] - 1s 6ms/step - loss: 2.7906 - dense_36_loss: 3.1530e-04 - dense_37_loss: 3.4680e-04 - dense_38_loss: 0.6842 - dense_39_loss: 0.9374 - dense_40_loss: 1.1683 - dense_36_acc: 1.0000 - dense_37_acc: 1.0000 - dense_38_acc: 0.8106 - dense_39_acc: 0.8864 - dense_40_acc: 0.6667\n",
      "Epoch 14/35\n",
      "132/132 [==============================] - 1s 5ms/step - loss: 3.4966 - dense_36_loss: 1.6052e-05 - dense_37_loss: 1.8600e-05 - dense_38_loss: 1.0934 - dense_39_loss: 1.1293 - dense_40_loss: 1.2738 - dense_36_acc: 1.0000 - dense_37_acc: 1.0000 - dense_38_acc: 0.6591 - dense_39_acc: 0.7197 - dense_40_acc: 0.6439\n",
      "Epoch 15/35\n",
      "132/132 [==============================] - 1s 5ms/step - loss: 3.1817 - dense_36_loss: 0.0237 - dense_37_loss: 0.0195 - dense_38_loss: 0.8631 - dense_39_loss: 1.2162 - dense_40_loss: 1.0591 - dense_36_acc: 1.0000 - dense_37_acc: 1.0000 - dense_38_acc: 0.8864 - dense_39_acc: 0.6970 - dense_40_acc: 0.7652\n",
      "Epoch 16/35\n",
      "132/132 [==============================] - 1s 5ms/step - loss: 1.2598 - dense_36_loss: 5.3539e-05 - dense_37_loss: 4.8394e-05 - dense_38_loss: 0.1874 - dense_39_loss: 0.5203 - dense_40_loss: 0.5520 - dense_36_acc: 1.0000 - dense_37_acc: 1.0000 - dense_38_acc: 1.0000 - dense_39_acc: 0.9394 - dense_40_acc: 0.9242\n",
      "Epoch 17/35\n",
      "132/132 [==============================] - 1s 5ms/step - loss: 1.2092 - dense_36_loss: 4.1692e-06 - dense_37_loss: 3.8856e-06 - dense_38_loss: 0.1390 - dense_39_loss: 0.4061 - dense_40_loss: 0.6641 - dense_36_acc: 1.0000 - dense_37_acc: 1.0000 - dense_38_acc: 0.9848 - dense_39_acc: 0.9394 - dense_40_acc: 0.8561\n",
      "Epoch 18/35\n",
      "132/132 [==============================] - 1s 5ms/step - loss: 0.9858 - dense_36_loss: 2.8800e-06 - dense_37_loss: 3.1636e-06 - dense_38_loss: 0.0967 - dense_39_loss: 0.3562 - dense_40_loss: 0.5329 - dense_36_acc: 1.0000 - dense_37_acc: 1.0000 - dense_38_acc: 1.0000 - dense_39_acc: 0.9621 - dense_40_acc: 0.8485\n",
      "Epoch 19/35\n",
      "132/132 [==============================] - 1s 5ms/step - loss: 0.7084 - dense_36_loss: 1.3199e-06 - dense_37_loss: 1.3939e-06 - dense_38_loss: 0.0777 - dense_39_loss: 0.2158 - dense_40_loss: 0.4148 - dense_36_acc: 1.0000 - dense_37_acc: 1.0000 - dense_38_acc: 1.0000 - dense_39_acc: 0.9924 - dense_40_acc: 0.9091\n",
      "Epoch 20/35\n",
      "132/132 [==============================] - 1s 5ms/step - loss: 0.4164 - dense_36_loss: 3.1563e-07 - dense_37_loss: 3.3911e-07 - dense_38_loss: 0.0475 - dense_39_loss: 0.1510 - dense_40_loss: 0.2180 - dense_36_acc: 1.0000 - dense_37_acc: 1.0000 - dense_38_acc: 1.0000 - dense_39_acc: 0.9924 - dense_40_acc: 0.9848\n",
      "Epoch 21/35\n",
      "132/132 [==============================] - 1s 5ms/step - loss: 0.6734 - dense_36_loss: 1.3727e-07 - dense_37_loss: 1.2734e-07 - dense_38_loss: 0.0346 - dense_39_loss: 0.4186 - dense_40_loss: 0.2203 - dense_36_acc: 1.0000 - dense_37_acc: 1.0000 - dense_38_acc: 1.0000 - dense_39_acc: 0.8258 - dense_40_acc: 0.9621\n",
      "Epoch 22/35\n",
      "132/132 [==============================] - 1s 5ms/step - loss: 3.6743 - dense_36_loss: 1.4485e-04 - dense_37_loss: 1.7673e-04 - dense_38_loss: 0.0756 - dense_39_loss: 3.4060 - dense_40_loss: 0.1924 - dense_36_acc: 1.0000 - dense_37_acc: 1.0000 - dense_38_acc: 1.0000 - dense_39_acc: 0.4924 - dense_40_acc: 0.9924\n",
      "Epoch 23/35\n",
      "132/132 [==============================] - 1s 5ms/step - loss: 1.3108 - dense_36_loss: 0.0014 - dense_37_loss: 0.0016 - dense_38_loss: 0.1297 - dense_39_loss: 0.8936 - dense_40_loss: 0.2845 - dense_36_acc: 1.0000 - dense_37_acc: 1.0000 - dense_38_acc: 1.0000 - dense_39_acc: 0.8788 - dense_40_acc: 0.9924\n",
      "Epoch 24/35\n",
      "132/132 [==============================] - 1s 5ms/step - loss: 0.4681 - dense_36_loss: 4.0796e-04 - dense_37_loss: 3.6161e-04 - dense_38_loss: 0.0743 - dense_39_loss: 0.2076 - dense_40_loss: 0.1853 - dense_36_acc: 1.0000 - dense_37_acc: 1.0000 - dense_38_acc: 1.0000 - dense_39_acc: 0.9697 - dense_40_acc: 0.9924\n",
      "Epoch 25/35\n",
      "132/132 [==============================] - 1s 5ms/step - loss: 0.2385 - dense_36_loss: 2.4530e-05 - dense_37_loss: 2.3058e-05 - dense_38_loss: 0.0375 - dense_39_loss: 0.0754 - dense_40_loss: 0.1256 - dense_36_acc: 1.0000 - dense_37_acc: 1.0000 - dense_38_acc: 1.0000 - dense_39_acc: 1.0000 - dense_40_acc: 0.9924\n",
      "Epoch 26/35\n"
     ]
    },
    {
     "name": "stdout",
     "output_type": "stream",
     "text": [
      "132/132 [==============================] - 1s 6ms/step - loss: 0.1682 - dense_36_loss: 4.2848e-06 - dense_37_loss: 3.8450e-06 - dense_38_loss: 0.0253 - dense_39_loss: 0.0510 - dense_40_loss: 0.0919 - dense_36_acc: 1.0000 - dense_37_acc: 1.0000 - dense_38_acc: 1.0000 - dense_39_acc: 1.0000 - dense_40_acc: 0.9924\n",
      "Epoch 27/35\n",
      "132/132 [==============================] - 1s 6ms/step - loss: 0.1313 - dense_36_loss: 9.8167e-07 - dense_37_loss: 7.9744e-07 - dense_38_loss: 0.0193 - dense_39_loss: 0.0380 - dense_40_loss: 0.0740 - dense_36_acc: 1.0000 - dense_37_acc: 1.0000 - dense_38_acc: 1.0000 - dense_39_acc: 1.0000 - dense_40_acc: 0.9924\n",
      "Epoch 28/35\n",
      "132/132 [==============================] - 1s 5ms/step - loss: 0.1066 - dense_36_loss: 3.3957e-07 - dense_37_loss: 2.7725e-07 - dense_38_loss: 0.0152 - dense_39_loss: 0.0311 - dense_40_loss: 0.0602 - dense_36_acc: 1.0000 - dense_37_acc: 1.0000 - dense_38_acc: 1.0000 - dense_39_acc: 1.0000 - dense_40_acc: 0.9924\n",
      "Epoch 29/35\n",
      "132/132 [==============================] - 1s 5ms/step - loss: 0.0965 - dense_36_loss: 1.8107e-07 - dense_37_loss: 1.4179e-07 - dense_38_loss: 0.0124 - dense_39_loss: 0.0258 - dense_40_loss: 0.0583 - dense_36_acc: 1.0000 - dense_37_acc: 1.0000 - dense_38_acc: 1.0000 - dense_39_acc: 1.0000 - dense_40_acc: 0.9924\n",
      "Epoch 30/35\n",
      "132/132 [==============================] - 1s 5ms/step - loss: 0.0840 - dense_36_loss: 1.2734e-07 - dense_37_loss: 1.2192e-07 - dense_38_loss: 0.0108 - dense_39_loss: 0.0220 - dense_40_loss: 0.0512 - dense_36_acc: 1.0000 - dense_37_acc: 1.0000 - dense_38_acc: 1.0000 - dense_39_acc: 1.0000 - dense_40_acc: 0.9924\n",
      "Epoch 31/35\n",
      "132/132 [==============================] - 1s 5ms/step - loss: 0.0976 - dense_36_loss: 1.2011e-07 - dense_37_loss: 1.1921e-07 - dense_38_loss: 0.0097 - dense_39_loss: 0.0197 - dense_40_loss: 0.0682 - dense_36_acc: 1.0000 - dense_37_acc: 1.0000 - dense_38_acc: 1.0000 - dense_39_acc: 1.0000 - dense_40_acc: 0.9848\n",
      "Epoch 32/35\n",
      "132/132 [==============================] - 1s 5ms/step - loss: 0.0691 - dense_36_loss: 1.1921e-07 - dense_37_loss: 1.1921e-07 - dense_38_loss: 0.0087 - dense_39_loss: 0.0174 - dense_40_loss: 0.0430 - dense_36_acc: 1.0000 - dense_37_acc: 1.0000 - dense_38_acc: 1.0000 - dense_39_acc: 1.0000 - dense_40_acc: 0.9924\n",
      "Epoch 33/35\n",
      "132/132 [==============================] - 1s 4ms/step - loss: 0.0639 - dense_36_loss: 1.1921e-07 - dense_37_loss: 1.1921e-07 - dense_38_loss: 0.0077 - dense_39_loss: 0.0158 - dense_40_loss: 0.0404 - dense_36_acc: 1.0000 - dense_37_acc: 1.0000 - dense_38_acc: 1.0000 - dense_39_acc: 1.0000 - dense_40_acc: 0.9924\n",
      "Epoch 34/35\n",
      "132/132 [==============================] - 1s 5ms/step - loss: 0.1017 - dense_36_loss: 1.1921e-07 - dense_37_loss: 1.1921e-07 - dense_38_loss: 0.0071 - dense_39_loss: 0.0147 - dense_40_loss: 0.0799 - dense_36_acc: 1.0000 - dense_37_acc: 1.0000 - dense_38_acc: 1.0000 - dense_39_acc: 1.0000 - dense_40_acc: 0.9697\n",
      "Epoch 35/35\n",
      "132/132 [==============================] - 1s 5ms/step - loss: 0.0618 - dense_36_loss: 1.1921e-07 - dense_37_loss: 1.1921e-07 - dense_38_loss: 0.0065 - dense_39_loss: 0.0137 - dense_40_loss: 0.0417 - dense_36_acc: 1.0000 - dense_37_acc: 1.0000 - dense_38_acc: 1.0000 - dense_39_acc: 1.0000 - dense_40_acc: 0.9924\n"
     ]
    },
    {
     "data": {
      "text/plain": [
       "<keras.callbacks.History at 0x28dbc0d9898>"
      ]
     },
     "execution_count": 50,
     "metadata": {},
     "output_type": "execute_result"
    }
   ],
   "source": [
    "model.fit(train_dataset, train_labels, epochs = 35, batch_size=50)"
   ]
  },
  {
   "cell_type": "markdown",
   "metadata": {},
   "source": [
    "## Evaluate model"
   ]
  },
  {
   "cell_type": "code",
   "execution_count": 51,
   "metadata": {
    "collapsed": true
   },
   "outputs": [],
   "source": [
    "def get_result(result):\n",
    "    resultstr = ''\n",
    "    for i in range(5):\n",
    "        resultstr += str(np.argmax(result[i]))\n",
    "    return resultstr"
   ]
  },
  {
   "cell_type": "code",
   "execution_count": 52,
   "metadata": {
    "scrolled": false
   },
   "outputs": [
    {
     "name": "stdout",
     "output_type": "stream",
     "text": [
      "Prediction   Original file name  Correct\n",
      "\n",
      "\n",
      "00003          00003.png      True\n",
      "00004          00004.png      True\n",
      "00012          00012.png      True\n",
      "00013          00013.png      True\n",
      "00014          00014.png      True\n",
      "00020          00020.png      True\n",
      "00022          00022.png      True\n",
      "00023          00023.png      True\n",
      "00030          00030.png      True\n",
      "00031          00031.png      True\n",
      "00032          00032.png      True\n",
      "00039          00039.png      True\n",
      "00041          00041.png      True\n",
      "00042          00042.png      True\n",
      "00043          00043.png      True\n",
      "00046          00046.png      True\n",
      "00049          00049.png      True\n",
      "00050          00050.png      True\n",
      "00052          00052.png      True\n",
      "00059          00059.png      True\n",
      "00060          00060.png      True\n",
      "00061          00061.png      True\n",
      "00068          00068.png      True\n",
      "00070          00070.png      True\n",
      "00071          00071.png      True\n",
      "00078          00078.png      True\n",
      "00080          00080.png      True\n",
      "00081          00081.png      True\n",
      "00088          00088.png      True\n",
      "00090          00090.png      True\n",
      "00091          00091.png      True\n",
      "00098          00098.png      True\n",
      "00100          00100.png      True\n",
      "00231          00231.png      True\n",
      "00242          00242.png      True\n",
      "00265          00265.png      True\n",
      "00276          00276.png      True\n",
      "00288          00288.png      True\n",
      "00336          00336.png      True\n",
      "00360          00360.png      True\n",
      "00385          00385.png      True\n",
      "00400          00400.png      True\n",
      "00474          00474.png      True\n",
      "00600          00600.png      True\n"
     ]
    }
   ],
   "source": [
    "%matplotlib inline\n",
    "print(\"Prediction   Original file name  Correct\\n\\n\")\n",
    "for i in range(44):\n",
    "    y_pred = model.predict(test_dataset[i].reshape(1, 50, 160, 1))\n",
    "    real = test_names[i][0:5]\n",
    "    comp = (real == get_result(y_pred))\n",
    "    print(get_result(y_pred) + \"          \" + str(test_names[i]) + \"      \" + str(comp))"
   ]
  },
  {
   "cell_type": "code",
   "execution_count": 53,
   "metadata": {},
   "outputs": [
    {
     "data": {
      "text/plain": [
       "'00003'"
      ]
     },
     "execution_count": 53,
     "metadata": {},
     "output_type": "execute_result"
    },
    {
     "data": {
      "image/png": "[encoded data removed]",
      "text/plain": [
       "<matplotlib.figure.Figure at 0x28dbc1b0f98>"
      ]
     },
     "metadata": {},
     "output_type": "display_data"
    }
   ],
   "source": [
    "%matplotlib inline\n",
    "plt.imshow(test_dataset[0,:,:,0], cmap = \"gray\")\n",
    "get_result(model.predict(test_dataset[0].reshape(1, 50, 160, 1)))"
   ]
  },
  {
   "cell_type": "code",
   "execution_count": 54,
   "metadata": {
    "collapsed": true
   },
   "outputs": [],
   "source": [
    "model.save('models/score_v3.h5')"
   ]
  },
  {
   "cell_type": "markdown",
   "metadata": {},
   "source": []
  }
 ],
 "metadata": {
  "kernelspec": {
   "display_name": "Python 3",
   "language": "python",
   "name": "python3"
  },
  "language_info": {
   "codemirror_mode": {
    "name": "ipython",
    "version": 3
   },
   "file_extension": ".py",
   "mimetype": "text/x-python",
   "name": "python",
   "nbconvert_exporter": "python",
   "pygments_lexer": "ipython3",
   "version": "3.6.2"
  }
 },
 "nbformat": 4,
 "nbformat_minor": 2
}
