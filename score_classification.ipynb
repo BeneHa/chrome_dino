{
 "cells": [
  {
   "cell_type": "markdown",
   "metadata": {},
   "source": [
    "# Multi-digit recognition of Chrome dinosaur score using the Keras functional API"
   ]
  },
  {
   "cell_type": "code",
   "execution_count": 1,
   "metadata": {},
   "outputs": [
    {
     "name": "stderr",
     "output_type": "stream",
     "text": [
      "C:\\ProgramData\\Anaconda3\\lib\\site-packages\\h5py\\__init__.py:34: FutureWarning: Conversion of the second argument of issubdtype from `float` to `np.floating` is deprecated. In future, it will be treated as `np.float64 == np.dtype(float).type`.\n",
      "  from ._conv import register_converters as _register_converters\n",
      "Using TensorFlow backend.\n"
     ]
    }
   ],
   "source": [
    "import tensorflow as tf\n",
    "import keras\n",
    "#from keras import layers\n",
    "from keras import models\n",
    "from keras import optimizers\n",
    "from keras.preprocessing.image import ImageDataGenerator\n",
    "from keras.models import load_model\n",
    "from keras.models import Model\n",
    "from keras.layers import *\n",
    "import os\n",
    "import matplotlib.pyplot as plt\n",
    "import sys\n",
    "import numpy as np\n",
    "from keras.preprocessing.image import ImageDataGenerator, array_to_img, img_to_array, load_img"
   ]
  },
  {
   "cell_type": "markdown",
   "metadata": {},
   "source": [
    "## Preparation"
   ]
  },
  {
   "cell_type": "code",
   "execution_count": 2,
   "metadata": {
    "collapsed": true
   },
   "outputs": [],
   "source": [
    "base_dir = \"C:/Users/bened/OneDrive/Arbeit/Lernen/python_training/score_pics/\"\n",
    "train_dir = base_dir + \"train_pics/\"\n",
    "validation_dir = base_dir + \"validation_pics/\"\n",
    "test_dir = base_dir + \"test_pics/\""
   ]
  },
  {
   "cell_type": "code",
   "execution_count": 3,
   "metadata": {},
   "outputs": [
    {
     "name": "stdout",
     "output_type": "stream",
     "text": [
      "total training images: 132\n",
      "total validation images: 58\n",
      "total test images: 44\n"
     ]
    }
   ],
   "source": [
    "print(\"total training images:\", len(os.listdir(train_dir)))\n",
    "print(\"total validation images:\", len(os.listdir(validation_dir)))\n",
    "print(\"total test images:\", len(os.listdir(test_dir)))\n",
    "\n"
   ]
  },
  {
   "cell_type": "code",
   "execution_count": 4,
   "metadata": {
    "collapsed": true
   },
   "outputs": [],
   "source": [
    "train_folder = base_dir + \"train_pics\"\n",
    "valid_folder = base_dir + \"validation_pics\"\n",
    "test_folder = base_dir + \"test_pics\""
   ]
  },
  {
   "cell_type": "code",
   "execution_count": 5,
   "metadata": {
    "collapsed": true
   },
   "outputs": [],
   "source": [
    "train_names = [f for f in os.listdir(train_folder)]\n",
    "valid_names = [f for f in os.listdir(valid_folder)]\n",
    "test_names = [f for f in os.listdir(test_folder)]"
   ]
  },
  {
   "cell_type": "code",
   "execution_count": 6,
   "metadata": {},
   "outputs": [
    {
     "name": "stdout",
     "output_type": "stream",
     "text": [
      "132 training files\n",
      "58 validation files\n",
      "44 test files\n"
     ]
    }
   ],
   "source": [
    "print(str(len(train_names)) + \" training files\")\n",
    "print(str(len(valid_names)) + \" validation files\")\n",
    "print(str(len(test_names)) + \" test files\")"
   ]
  },
  {
   "cell_type": "markdown",
   "metadata": {},
   "source": [
    "## Create input, labels"
   ]
  },
  {
   "cell_type": "code",
   "execution_count": 7,
   "metadata": {
    "collapsed": true
   },
   "outputs": [],
   "source": [
    "def create_dataset(fold, names):\n",
    "    dataset = np.ndarray(shape=(len(names), 50, 160, 3), dtype = np.float32)\n",
    "    i = 0\n",
    "    for f in names:\n",
    "        img = load_img(base_dir + fold + \"/\" + f)\n",
    "        x = img_to_array(img)\n",
    "        x = (x - 128) / 128\n",
    "        dataset[i] = x\n",
    "        i += 1\n",
    "    dataset = dataset[:,:,:,0]\n",
    "    dataset = np.expand_dims(dataset, axis = 3)\n",
    "    return dataset\n",
    "\n",
    "\n",
    "def create_labels(names):\n",
    "    labels = [np.zeros((len(names),10)) for i in range(5)]\n",
    "    i = 0\n",
    "    for n in range(len(names)):\n",
    "        seq = names[n][0:5]\n",
    "        for digit in range(len(seq)):\n",
    "            label = int(seq[digit])\n",
    "            labels[digit][n][label] = 1\n",
    "        i += 1\n",
    "    return labels"
   ]
  },
  {
   "cell_type": "code",
   "execution_count": 8,
   "metadata": {
    "collapsed": true,
    "scrolled": false
   },
   "outputs": [],
   "source": [
    "train_dataset = create_dataset(\"train_pics\", train_names)\n",
    "validation_dataset = create_dataset(\"validation_pics\", valid_names)\n",
    "test_dataset = create_dataset(\"test_pics\", test_names)\n",
    "\n",
    "train_labels = create_labels(train_names)\n",
    "validation_labels = create_labels(valid_names)\n",
    "test_labels = create_labels(test_names)"
   ]
  },
  {
   "cell_type": "code",
   "execution_count": 9,
   "metadata": {},
   "outputs": [
    {
     "data": {
      "text/plain": [
       "(132, 50, 160, 1)"
      ]
     },
     "execution_count": 9,
     "metadata": {},
     "output_type": "execute_result"
    }
   ],
   "source": [
    "train_dataset.shape"
   ]
  },
  {
   "cell_type": "code",
   "execution_count": 10,
   "metadata": {},
   "outputs": [
    {
     "data": {
      "text/plain": [
       "array([1., 0., 0., 0., 0., 0., 0., 0., 0., 0.])"
      ]
     },
     "execution_count": 10,
     "metadata": {},
     "output_type": "execute_result"
    }
   ],
   "source": [
    "train_labels[1][1]"
   ]
  },
  {
   "cell_type": "markdown",
   "metadata": {},
   "source": [
    "## Define model"
   ]
  },
  {
   "cell_type": "code",
   "execution_count": 70,
   "metadata": {},
   "outputs": [
    {
     "name": "stderr",
     "output_type": "stream",
     "text": [
      "C:\\ProgramData\\Anaconda3\\lib\\site-packages\\ipykernel_launcher.py:47: UserWarning: Update your `Model` call to the Keras 2 API: `Model(inputs=Tensor(\"in..., outputs=[<tf.Tenso...)`\n"
     ]
    }
   ],
   "source": [
    "#Filters:\n",
    "f1, f2, f3 = 8,16,32\n",
    "patch_size = 5\n",
    "k_size = (3,3)\n",
    "p_size = (2,2)\n",
    "n_class = 10\n",
    "node = 10\n",
    "\n",
    "inp_corr = Input(shape=(50,160,1))\n",
    "\n",
    "conv1 = Conv2D(filters = f1, kernel_size = k_size, activation = \"relu\")(inp_corr)\n",
    "maxp1 = MaxPool2D(pool_size = p_size)(conv1)\n",
    "\n",
    "conv2 = Conv2D(filters = f2, kernel_size = k_size, activation = \"relu\")(maxp1)\n",
    "\n",
    "flat = Flatten()(conv2)\n",
    "\n",
    "dense_21 = Dense(n_class, activation = \"softmax\")(flat)\n",
    "dense_22 = Dense(n_class, activation = \"softmax\")(flat)\n",
    "dense_23 = Dense(n_class, activation = \"softmax\")(flat)\n",
    "dense_24 = Dense(n_class, activation = \"softmax\")(flat)\n",
    "dense_25 = Dense(n_class, activation = \"softmax\")(flat)\n",
    "\n",
    "output = [dense_21, dense_22, dense_23, dense_24, dense_25]\n",
    "\n",
    "model = Model(input = inp_corr, output = output)\n",
    "model.compile(loss = \"categorical_crossentropy\", optimizer = \"sgd\", metrics = [\"accuracy\"])"
   ]
  },
  {
   "cell_type": "code",
   "execution_count": 71,
   "metadata": {},
   "outputs": [
    {
     "name": "stdout",
     "output_type": "stream",
     "text": [
      "__________________________________________________________________________________________________\n",
      "Layer (type)                    Output Shape         Param #     Connected to                     \n",
      "==================================================================================================\n",
      "input_10 (InputLayer)           (None, 50, 160, 1)   0                                            \n",
      "__________________________________________________________________________________________________\n",
      "conv2d_18 (Conv2D)              (None, 48, 158, 8)   80          input_10[0][0]                   \n",
      "__________________________________________________________________________________________________\n",
      "max_pooling2d_7 (MaxPooling2D)  (None, 24, 79, 8)    0           conv2d_18[0][0]                  \n",
      "__________________________________________________________________________________________________\n",
      "conv2d_19 (Conv2D)              (None, 22, 77, 16)   1168        max_pooling2d_7[0][0]            \n",
      "__________________________________________________________________________________________________\n",
      "flatten_10 (Flatten)            (None, 27104)        0           conv2d_19[0][0]                  \n",
      "__________________________________________________________________________________________________\n",
      "dense_46 (Dense)                (None, 10)           271050      flatten_10[0][0]                 \n",
      "__________________________________________________________________________________________________\n",
      "dense_47 (Dense)                (None, 10)           271050      flatten_10[0][0]                 \n",
      "__________________________________________________________________________________________________\n",
      "dense_48 (Dense)                (None, 10)           271050      flatten_10[0][0]                 \n",
      "__________________________________________________________________________________________________\n",
      "dense_49 (Dense)                (None, 10)           271050      flatten_10[0][0]                 \n",
      "__________________________________________________________________________________________________\n",
      "dense_50 (Dense)                (None, 10)           271050      flatten_10[0][0]                 \n",
      "==================================================================================================\n",
      "Total params: 1,356,498\n",
      "Trainable params: 1,356,498\n",
      "Non-trainable params: 0\n",
      "__________________________________________________________________________________________________\n"
     ]
    }
   ],
   "source": [
    "model.summary()"
   ]
  },
  {
   "cell_type": "code",
   "execution_count": 75,
   "metadata": {
    "scrolled": true
   },
   "outputs": [
    {
     "name": "stdout",
     "output_type": "stream",
     "text": [
      "Epoch 1/30\n",
      "132/132 [==============================] - 0s 3ms/step - loss: 0.2721 - dense_46_loss: 1.6391e-07 - dense_47_loss: 1.6617e-07 - dense_48_loss: 0.0529 - dense_49_loss: 0.0942 - dense_50_loss: 0.1250 - dense_46_acc: 1.0000 - dense_47_acc: 1.0000 - dense_48_acc: 1.0000 - dense_49_acc: 1.0000 - dense_50_acc: 0.9924\n",
      "Epoch 2/30\n",
      "132/132 [==============================] - 0s 2ms/step - loss: 0.2213 - dense_46_loss: 1.1921e-07 - dense_47_loss: 1.1921e-07 - dense_48_loss: 0.0391 - dense_49_loss: 0.0763 - dense_50_loss: 0.1059 - dense_46_acc: 1.0000 - dense_47_acc: 1.0000 - dense_48_acc: 1.0000 - dense_49_acc: 1.0000 - dense_50_acc: 0.9924\n",
      "Epoch 3/30\n",
      "132/132 [==============================] - 0s 2ms/step - loss: 0.2006 - dense_46_loss: 1.1921e-07 - dense_47_loss: 1.1921e-07 - dense_48_loss: 0.0314 - dense_49_loss: 0.0660 - dense_50_loss: 0.1032 - dense_46_acc: 1.0000 - dense_47_acc: 1.0000 - dense_48_acc: 1.0000 - dense_49_acc: 1.0000 - dense_50_acc: 0.9924\n",
      "Epoch 4/30\n",
      "132/132 [==============================] - 0s 2ms/step - loss: 0.1777 - dense_46_loss: 1.1921e-07 - dense_47_loss: 1.1921e-07 - dense_48_loss: 0.0268 - dense_49_loss: 0.0555 - dense_50_loss: 0.0953 - dense_46_acc: 1.0000 - dense_47_acc: 1.0000 - dense_48_acc: 1.0000 - dense_49_acc: 1.0000 - dense_50_acc: 0.9924\n",
      "Epoch 5/30\n",
      "132/132 [==============================] - 0s 2ms/step - loss: 0.1504 - dense_46_loss: 1.1921e-07 - dense_47_loss: 1.1921e-07 - dense_48_loss: 0.0228 - dense_49_loss: 0.0480 - dense_50_loss: 0.0796 - dense_46_acc: 1.0000 - dense_47_acc: 1.0000 - dense_48_acc: 1.0000 - dense_49_acc: 1.0000 - dense_50_acc: 0.9924\n",
      "Epoch 6/30\n",
      "132/132 [==============================] - 0s 3ms/step - loss: 0.1302 - dense_46_loss: 1.1921e-07 - dense_47_loss: 1.1921e-07 - dense_48_loss: 0.0200 - dense_49_loss: 0.0416 - dense_50_loss: 0.0686 - dense_46_acc: 1.0000 - dense_47_acc: 1.0000 - dense_48_acc: 1.0000 - dense_49_acc: 1.0000 - dense_50_acc: 0.9924\n",
      "Epoch 7/30\n",
      "132/132 [==============================] - 0s 3ms/step - loss: 0.7024 - dense_46_loss: 1.1921e-07 - dense_47_loss: 1.1921e-07 - dense_48_loss: 0.0186 - dense_49_loss: 0.0373 - dense_50_loss: 0.6465 - dense_46_acc: 1.0000 - dense_47_acc: 1.0000 - dense_48_acc: 1.0000 - dense_49_acc: 1.0000 - dense_50_acc: 0.8788\n",
      "Epoch 8/30\n",
      "132/132 [==============================] - 0s 3ms/step - loss: 1.0080 - dense_46_loss: 7.8886e-07 - dense_47_loss: 8.1324e-07 - dense_48_loss: 0.0332 - dense_49_loss: 0.0618 - dense_50_loss: 0.9130 - dense_46_acc: 1.0000 - dense_47_acc: 1.0000 - dense_48_acc: 1.0000 - dense_49_acc: 1.0000 - dense_50_acc: 0.9091\n",
      "Epoch 9/30\n",
      "132/132 [==============================] - 0s 3ms/step - loss: 0.1813 - dense_46_loss: 3.0480e-07 - dense_47_loss: 3.1067e-07 - dense_48_loss: 0.0317 - dense_49_loss: 0.0549 - dense_50_loss: 0.0948 - dense_46_acc: 1.0000 - dense_47_acc: 1.0000 - dense_48_acc: 1.0000 - dense_49_acc: 1.0000 - dense_50_acc: 0.9924\n",
      "Epoch 10/30\n",
      "132/132 [==============================] - 0s 2ms/step - loss: 0.1432 - dense_46_loss: 1.2011e-07 - dense_47_loss: 1.1921e-07 - dense_48_loss: 0.0245 - dense_49_loss: 0.0472 - dense_50_loss: 0.0716 - dense_46_acc: 1.0000 - dense_47_acc: 1.0000 - dense_48_acc: 1.0000 - dense_49_acc: 1.0000 - dense_50_acc: 0.9924\n",
      "Epoch 11/30\n",
      "132/132 [==============================] - 0s 2ms/step - loss: 0.1236 - dense_46_loss: 1.1921e-07 - dense_47_loss: 1.1921e-07 - dense_48_loss: 0.0212 - dense_49_loss: 0.0401 - dense_50_loss: 0.0623 - dense_46_acc: 1.0000 - dense_47_acc: 1.0000 - dense_48_acc: 1.0000 - dense_49_acc: 1.0000 - dense_50_acc: 0.9924\n",
      "Epoch 12/30\n",
      "132/132 [==============================] - 0s 2ms/step - loss: 0.1092 - dense_46_loss: 1.1921e-07 - dense_47_loss: 1.1921e-07 - dense_48_loss: 0.0187 - dense_49_loss: 0.0343 - dense_50_loss: 0.0562 - dense_46_acc: 1.0000 - dense_47_acc: 1.0000 - dense_48_acc: 1.0000 - dense_49_acc: 1.0000 - dense_50_acc: 0.9924\n",
      "Epoch 13/30\n",
      "132/132 [==============================] - 0s 2ms/step - loss: 0.1082 - dense_46_loss: 1.1921e-07 - dense_47_loss: 1.1921e-07 - dense_48_loss: 0.0166 - dense_49_loss: 0.0308 - dense_50_loss: 0.0608 - dense_46_acc: 1.0000 - dense_47_acc: 1.0000 - dense_48_acc: 1.0000 - dense_49_acc: 1.0000 - dense_50_acc: 0.9924\n",
      "Epoch 14/30\n",
      "132/132 [==============================] - 0s 2ms/step - loss: 0.1081 - dense_46_loss: 1.1921e-07 - dense_47_loss: 1.1921e-07 - dense_48_loss: 0.0147 - dense_49_loss: 0.0283 - dense_50_loss: 0.0650 - dense_46_acc: 1.0000 - dense_47_acc: 1.0000 - dense_48_acc: 1.0000 - dense_49_acc: 1.0000 - dense_50_acc: 0.9924\n",
      "Epoch 15/30\n",
      "132/132 [==============================] - 0s 2ms/step - loss: 0.0848 - dense_46_loss: 1.1921e-07 - dense_47_loss: 1.1921e-07 - dense_48_loss: 0.0135 - dense_49_loss: 0.0252 - dense_50_loss: 0.0461 - dense_46_acc: 1.0000 - dense_47_acc: 1.0000 - dense_48_acc: 1.0000 - dense_49_acc: 1.0000 - dense_50_acc: 0.9924\n",
      "Epoch 16/30\n",
      "132/132 [==============================] - 0s 3ms/step - loss: 0.0757 - dense_46_loss: 1.1921e-07 - dense_47_loss: 1.1921e-07 - dense_48_loss: 0.0123 - dense_49_loss: 0.0231 - dense_50_loss: 0.0404 - dense_46_acc: 1.0000 - dense_47_acc: 1.0000 - dense_48_acc: 1.0000 - dense_49_acc: 1.0000 - dense_50_acc: 0.9924\n",
      "Epoch 17/30\n",
      "132/132 [==============================] - 0s 2ms/step - loss: 0.0741 - dense_46_loss: 1.1921e-07 - dense_47_loss: 1.1921e-07 - dense_48_loss: 0.0113 - dense_49_loss: 0.0213 - dense_50_loss: 0.0415 - dense_46_acc: 1.0000 - dense_47_acc: 1.0000 - dense_48_acc: 1.0000 - dense_49_acc: 1.0000 - dense_50_acc: 0.9924\n",
      "Epoch 18/30\n",
      "132/132 [==============================] - 0s 2ms/step - loss: 0.1304 - dense_46_loss: 1.1921e-07 - dense_47_loss: 1.1921e-07 - dense_48_loss: 0.0106 - dense_49_loss: 0.0198 - dense_50_loss: 0.1000 - dense_46_acc: 1.0000 - dense_47_acc: 1.0000 - dense_48_acc: 1.0000 - dense_49_acc: 1.0000 - dense_50_acc: 0.9773\n",
      "Epoch 19/30\n",
      "132/132 [==============================] - 0s 2ms/step - loss: 0.0653 - dense_46_loss: 1.1921e-07 - dense_47_loss: 1.1921e-07 - dense_48_loss: 0.0099 - dense_49_loss: 0.0192 - dense_50_loss: 0.0362 - dense_46_acc: 1.0000 - dense_47_acc: 1.0000 - dense_48_acc: 1.0000 - dense_49_acc: 1.0000 - dense_50_acc: 0.9924\n",
      "Epoch 20/30\n",
      "132/132 [==============================] - 0s 3ms/step - loss: 0.0643 - dense_46_loss: 1.1921e-07 - dense_47_loss: 1.1921e-07 - dense_48_loss: 0.0093 - dense_49_loss: 0.0178 - dense_50_loss: 0.0373 - dense_46_acc: 1.0000 - dense_47_acc: 1.0000 - dense_48_acc: 1.0000 - dense_49_acc: 1.0000 - dense_50_acc: 0.9924\n",
      "Epoch 21/30\n",
      "132/132 [==============================] - 0s 2ms/step - loss: 0.0632 - dense_46_loss: 1.1921e-07 - dense_47_loss: 1.1921e-07 - dense_48_loss: 0.0087 - dense_49_loss: 0.0164 - dense_50_loss: 0.0381 - dense_46_acc: 1.0000 - dense_47_acc: 1.0000 - dense_48_acc: 1.0000 - dense_49_acc: 1.0000 - dense_50_acc: 0.9924\n",
      "Epoch 22/30\n",
      "132/132 [==============================] - 0s 2ms/step - loss: 0.0572 - dense_46_loss: 1.1921e-07 - dense_47_loss: 1.1921e-07 - dense_48_loss: 0.0082 - dense_49_loss: 0.0152 - dense_50_loss: 0.0337 - dense_46_acc: 1.0000 - dense_47_acc: 1.0000 - dense_48_acc: 1.0000 - dense_49_acc: 1.0000 - dense_50_acc: 0.9924\n",
      "Epoch 23/30\n",
      "132/132 [==============================] - 0s 2ms/step - loss: 0.0606 - dense_46_loss: 1.1921e-07 - dense_47_loss: 1.1921e-07 - dense_48_loss: 0.0077 - dense_49_loss: 0.0145 - dense_50_loss: 0.0383 - dense_46_acc: 1.0000 - dense_47_acc: 1.0000 - dense_48_acc: 1.0000 - dense_49_acc: 1.0000 - dense_50_acc: 0.9924\n",
      "Epoch 24/30\n",
      "132/132 [==============================] - 0s 2ms/step - loss: 0.0550 - dense_46_loss: 1.1921e-07 - dense_47_loss: 1.1921e-07 - dense_48_loss: 0.0073 - dense_49_loss: 0.0137 - dense_50_loss: 0.0340 - dense_46_acc: 1.0000 - dense_47_acc: 1.0000 - dense_48_acc: 1.0000 - dense_49_acc: 1.0000 - dense_50_acc: 0.9924\n",
      "Epoch 25/30\n",
      "132/132 [==============================] - 0s 2ms/step - loss: 0.0494 - dense_46_loss: 1.1921e-07 - dense_47_loss: 1.1921e-07 - dense_48_loss: 0.0069 - dense_49_loss: 0.0129 - dense_50_loss: 0.0296 - dense_46_acc: 1.0000 - dense_47_acc: 1.0000 - dense_48_acc: 1.0000 - dense_49_acc: 1.0000 - dense_50_acc: 0.9924\n",
      "Epoch 26/30\n",
      "132/132 [==============================] - 0s 3ms/step - loss: 0.0578 - dense_46_loss: 1.1921e-07 - dense_47_loss: 1.1921e-07 - dense_48_loss: 0.0065 - dense_49_loss: 0.0123 - dense_50_loss: 0.0391 - dense_46_acc: 1.0000 - dense_47_acc: 1.0000 - dense_48_acc: 1.0000 - dense_49_acc: 1.0000 - dense_50_acc: 0.9924\n",
      "Epoch 27/30\n",
      "132/132 [==============================] - 0s 3ms/step - loss: 0.0497 - dense_46_loss: 1.1921e-07 - dense_47_loss: 1.1921e-07 - dense_48_loss: 0.0063 - dense_49_loss: 0.0118 - dense_50_loss: 0.0316 - dense_46_acc: 1.0000 - dense_47_acc: 1.0000 - dense_48_acc: 1.0000 - dense_49_acc: 1.0000 - dense_50_acc: 0.9924\n",
      "Epoch 28/30\n",
      "132/132 [==============================] - 0s 2ms/step - loss: 0.0373 - dense_46_loss: 1.1921e-07 - dense_47_loss: 1.1921e-07 - dense_48_loss: 0.0060 - dense_49_loss: 0.0112 - dense_50_loss: 0.0201 - dense_46_acc: 1.0000 - dense_47_acc: 1.0000 - dense_48_acc: 1.0000 - dense_49_acc: 1.0000 - dense_50_acc: 1.0000\n",
      "Epoch 29/30\n",
      "132/132 [==============================] - 0s 2ms/step - loss: 0.0367 - dense_46_loss: 1.1921e-07 - dense_47_loss: 1.1921e-07 - dense_48_loss: 0.0057 - dense_49_loss: 0.0107 - dense_50_loss: 0.0204 - dense_46_acc: 1.0000 - dense_47_acc: 1.0000 - dense_48_acc: 1.0000 - dense_49_acc: 1.0000 - dense_50_acc: 0.9924\n",
      "Epoch 30/30\n",
      "132/132 [==============================] - 0s 3ms/step - loss: 0.0353 - dense_46_loss: 1.1921e-07 - dense_47_loss: 1.1921e-07 - dense_48_loss: 0.0054 - dense_49_loss: 0.0103 - dense_50_loss: 0.0196 - dense_46_acc: 1.0000 - dense_47_acc: 1.0000 - dense_48_acc: 1.0000 - dense_49_acc: 1.0000 - dense_50_acc: 0.9924\n"
     ]
    },
    {
     "data": {
      "text/plain": [
       "<keras.callbacks.History at 0x2f9546435f8>"
      ]
     },
     "execution_count": 75,
     "metadata": {},
     "output_type": "execute_result"
    }
   ],
   "source": [
    "model.fit(train_dataset, train_labels, epochs = 30, batch_size=50)"
   ]
  },
  {
   "cell_type": "markdown",
   "metadata": {},
   "source": [
    "## Evaluate model"
   ]
  },
  {
   "cell_type": "code",
   "execution_count": 76,
   "metadata": {
    "collapsed": true
   },
   "outputs": [],
   "source": [
    "def get_result(result):\n",
    "    resultstr = ''\n",
    "    for i in range(5):\n",
    "        resultstr += str(np.argmax(result[i]))\n",
    "    return resultstr"
   ]
  },
  {
   "cell_type": "code",
   "execution_count": 77,
   "metadata": {
    "scrolled": false
   },
   "outputs": [
    {
     "name": "stdout",
     "output_type": "stream",
     "text": [
      "Prediction   Original file name  Correct\n",
      "\n",
      "\n",
      "00003          00003.png      True\n",
      "00004          00004.png      True\n",
      "00012          00012.png      True\n",
      "00013          00013.png      True\n",
      "00014          00014.png      True\n",
      "00020          00020.png      True\n",
      "00022          00022.png      True\n",
      "00023          00023.png      True\n",
      "00030          00030.png      True\n",
      "00031          00031.png      True\n",
      "00032          00032.png      True\n",
      "00039          00039.png      True\n",
      "00041          00041.png      True\n",
      "00042          00042.png      True\n",
      "00043          00043.png      True\n",
      "00046          00046.png      True\n",
      "00049          00049.png      True\n",
      "00050          00050.png      True\n",
      "00052          00052.png      True\n",
      "00059          00059.png      True\n",
      "00060          00060.png      True\n",
      "00061          00061.png      True\n",
      "00068          00068.png      True\n",
      "00070          00070.png      True\n",
      "00071          00071.png      True\n",
      "00078          00078.png      True\n",
      "00080          00080.png      True\n",
      "00081          00081.png      True\n",
      "00088          00088.png      True\n",
      "00090          00090.png      True\n",
      "00091          00091.png      True\n",
      "00098          00098.png      True\n",
      "00100          00100.png      True\n",
      "00231          00231.png      True\n",
      "00242          00242.png      True\n",
      "00265          00265.png      True\n",
      "00276          00276.png      True\n",
      "00288          00288.png      True\n",
      "00336          00336.png      True\n",
      "00360          00360.png      True\n",
      "00385          00385.png      True\n",
      "00400          00400.png      True\n",
      "00474          00474.png      True\n",
      "00600          00600.png      True\n"
     ]
    }
   ],
   "source": [
    "%matplotlib inline\n",
    "print(\"Prediction   Original file name  Correct\\n\\n\")\n",
    "for i in range(44):\n",
    "    y_pred = model.predict(test_dataset[i].reshape(1, 50, 160, 1))\n",
    "    real = test_names[i][0:5]\n",
    "    comp = (real == get_result(y_pred))\n",
    "    print(get_result(y_pred) + \"          \" + str(test_names[i]) + \"      \" + str(comp))"
   ]
  },
  {
   "cell_type": "code",
   "execution_count": 78,
   "metadata": {},
   "outputs": [
    {
     "data": {
      "text/plain": [
       "'00003'"
      ]
     },
     "execution_count": 78,
     "metadata": {},
     "output_type": "execute_result"
    },
    {
     "data": {
      "image/png": "[encoded data removed]",
      "text/plain": [
       "<matplotlib.figure.Figure at 0x2f9485c09e8>"
      ]
     },
     "metadata": {},
     "output_type": "display_data"
    }
   ],
   "source": [
    "%matplotlib inline\n",
    "plt.imshow(test_dataset[0,:,:,0], cmap = \"gray\")\n",
    "get_result(model.predict(test_dataset[0].reshape(1, 50, 160, 1)))"
   ]
  },
  {
   "cell_type": "code",
   "execution_count": 79,
   "metadata": {
    "collapsed": true
   },
   "outputs": [],
   "source": [
    "model.save('models/score_v2.h5')"
   ]
  },
  {
   "cell_type": "markdown",
   "metadata": {},
   "source": []
  }
 ],
 "metadata": {
  "kernelspec": {
   "display_name": "Python 3",
   "language": "python",
   "name": "python3"
  },
  "language_info": {
   "codemirror_mode": {
    "name": "ipython",
    "version": 3
   },
   "file_extension": ".py",
   "mimetype": "text/x-python",
   "name": "python",
   "nbconvert_exporter": "python",
   "pygments_lexer": "ipython3",
   "version": "3.6.2"
  }
 },
 "nbformat": 4,
 "nbformat_minor": 2
}
