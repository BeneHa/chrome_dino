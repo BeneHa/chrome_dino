{
 "cells": [
  {
   "cell_type": "code",
   "execution_count": 1,
   "metadata": {},
   "outputs": [
    {
     "name": "stderr",
     "output_type": "stream",
     "text": [
      "C:\\ProgramData\\Anaconda3\\lib\\site-packages\\h5py\\__init__.py:34: FutureWarning: Conversion of the second argument of issubdtype from `float` to `np.floating` is deprecated. In future, it will be treated as `np.float64 == np.dtype(float).type`.\n",
      "  from ._conv import register_converters as _register_converters\n",
      "Using TensorFlow backend.\n"
     ]
    }
   ],
   "source": [
    "import tensorflow as tf\n",
    "import keras\n",
    "#from keras import layers\n",
    "from keras import models\n",
    "from keras import optimizers\n",
    "from keras.preprocessing.image import ImageDataGenerator\n",
    "from keras.models import load_model\n",
    "from keras.models import Model\n",
    "from keras.layers import *\n",
    "import os\n",
    "import sys\n",
    "import numpy as np\n",
    "from keras.preprocessing.image import ImageDataGenerator, array_to_img, img_to_array, load_img"
   ]
  },
  {
   "cell_type": "code",
   "execution_count": 2,
   "metadata": {
    "collapsed": true
   },
   "outputs": [],
   "source": [
    "base_dir = \"C:/Users/bened/OneDrive/Arbeit/Lernen/python_training/score_pics/\"\n",
    "train_dir = base_dir + \"train_pics/\"\n",
    "validation_dir = base_dir + \"validation_pics/\"\n",
    "test_dir = base_dir + \"test_pics/\""
   ]
  },
  {
   "cell_type": "code",
   "execution_count": 3,
   "metadata": {},
   "outputs": [
    {
     "name": "stdout",
     "output_type": "stream",
     "text": [
      "total training images: 29\n",
      "total validation images: 14\n",
      "total test images: 16\n"
     ]
    }
   ],
   "source": [
    "print(\"total training images:\", len(os.listdir(train_dir)))\n",
    "print(\"total validation images:\", len(os.listdir(validation_dir)))\n",
    "print(\"total test images:\", len(os.listdir(test_dir)))\n",
    "\n"
   ]
  },
  {
   "cell_type": "markdown",
   "metadata": {},
   "source": [
    "## Keras Sequential API (old)"
   ]
  },
  {
   "cell_type": "code",
   "execution_count": 31,
   "metadata": {
    "collapsed": true
   },
   "outputs": [],
   "source": [
    "model = ks.models.Sequential()\n",
    "model.add(layers.Conv2D(16, (5,5), activation = \"relu\", input_shape=(160, 50, 3)))\n",
    "model.add(layers.MaxPooling2D((2,2)))\n",
    "model.add(layers.Conv2D(32, (5,5), activation = \"relu\"))\n",
    "model.add(layers.MaxPooling2D((2,2)))\n",
    "model.add(layers.Conv2D(64, (5,5), activation = \"relu\"))\n",
    "model.add(layers.MaxPooling2D((2,2)))\n",
    "model.add(layers.Flatten())"
   ]
  },
  {
   "cell_type": "code",
   "execution_count": 32,
   "metadata": {},
   "outputs": [
    {
     "name": "stdout",
     "output_type": "stream",
     "text": [
      "_________________________________________________________________\n",
      "Layer (type)                 Output Shape              Param #   \n",
      "=================================================================\n",
      "conv2d_13 (Conv2D)           (None, 156, 46, 16)       1216      \n",
      "_________________________________________________________________\n",
      "max_pooling2d_13 (MaxPooling (None, 78, 23, 16)        0         \n",
      "_________________________________________________________________\n",
      "conv2d_14 (Conv2D)           (None, 74, 19, 32)        12832     \n",
      "_________________________________________________________________\n",
      "max_pooling2d_14 (MaxPooling (None, 37, 9, 32)         0         \n",
      "_________________________________________________________________\n",
      "conv2d_15 (Conv2D)           (None, 33, 5, 64)         51264     \n",
      "_________________________________________________________________\n",
      "max_pooling2d_15 (MaxPooling (None, 16, 2, 64)         0         \n",
      "_________________________________________________________________\n",
      "flatten_6 (Flatten)          (None, 2048)              0         \n",
      "=================================================================\n",
      "Total params: 65,312\n",
      "Trainable params: 65,312\n",
      "Non-trainable params: 0\n",
      "_________________________________________________________________\n"
     ]
    }
   ],
   "source": [
    "model.summary()"
   ]
  },
  {
   "cell_type": "code",
   "execution_count": null,
   "metadata": {
    "collapsed": true
   },
   "outputs": [],
   "source": [
    "model.compile(loss=\"binary_crossentropy\",\n",
    "             optimizer = optimizers.RMSprop(lr=1e-4),\n",
    "             metrics=[\"acc\"])"
   ]
  },
  {
   "cell_type": "code",
   "execution_count": 35,
   "metadata": {},
   "outputs": [
    {
     "name": "stdout",
     "output_type": "stream",
     "text": [
      "Found 0 images belonging to 0 classes.\n",
      "Found 0 images belonging to 0 classes.\n",
      "Found 0 images belonging to 0 classes.\n"
     ]
    }
   ],
   "source": [
    "train_datagen = ImageDataGenerator(rescale=1./255)\n",
    "validation_datagen = ImageDataGenerator(rescale=1./255)\n",
    "test_datagen = ImageDataGenerator(rescale=1./255)\n",
    "\n",
    "\n",
    "train_generator = train_datagen.flow_from_directory(\n",
    "        train_dir,\n",
    "        target_size=(160, 50),\n",
    "        batch_size=20,\n",
    "        class_mode='binary')\n",
    "\n",
    "validation_generator = validation_datagen.flow_from_directory(\n",
    "        validation_dir,\n",
    "        target_size=(160, 75),\n",
    "        batch_size=20,\n",
    "        class_mode='binary')\n",
    "\n",
    "test_generator = test_datagen.flow_from_directory(\n",
    "        test_dir,\n",
    "        target_size=(160, 75),\n",
    "        batch_size=20,\n",
    "        class_mode='binary')"
   ]
  },
  {
   "cell_type": "code",
   "execution_count": null,
   "metadata": {
    "collapsed": true
   },
   "outputs": [],
   "source": []
  },
  {
   "cell_type": "markdown",
   "metadata": {},
   "source": [
    "## Keras functional API"
   ]
  },
  {
   "cell_type": "code",
   "execution_count": 75,
   "metadata": {
    "collapsed": true
   },
   "outputs": [],
   "source": [
    "train_folder = base_dir + \"train_pics\"\n",
    "valid_folder = base_dir + \"validation_pics\"\n",
    "test_folder = base_dir + \"test_pics\""
   ]
  },
  {
   "cell_type": "code",
   "execution_count": 76,
   "metadata": {
    "collapsed": true
   },
   "outputs": [],
   "source": [
    "train_names = [f for f in os.listdir(train_folder)]\n",
    "valid_names = [f for f in os.listdir(valid_folder)]\n",
    "test_names = [f for f in os.listdir(test_folder)]"
   ]
  },
  {
   "cell_type": "code",
   "execution_count": 77,
   "metadata": {},
   "outputs": [
    {
     "name": "stdout",
     "output_type": "stream",
     "text": [
      "29 training files\n",
      "13 validation files\n",
      "15 test files\n"
     ]
    }
   ],
   "source": [
    "print(str(len(train_names)) + \" training files\")\n",
    "print(str(len(valid_names)) + \" validation files\")\n",
    "print(str(len(test_names)) + \" test files\")"
   ]
  },
  {
   "cell_type": "code",
   "execution_count": 127,
   "metadata": {
    "collapsed": true
   },
   "outputs": [],
   "source": [
    "def create_dataset(fold, names):\n",
    "    dataset = np.ndarray(shape=(len(names), 50, 160, 3), dtype = np.float32)\n",
    "    i = 0\n",
    "    for f in names:\n",
    "        img = load_img(base_dir + fold + \"/\" + f)\n",
    "        x = img_to_array(img)\n",
    "        #x = x.reshape(())\n",
    "        x = (x - 128) / 128\n",
    "        dataset[i] = x\n",
    "        i += 1\n",
    "    return dataset\n",
    "\n",
    "def create_labels(names):\n",
    "    labels = [np.zeros((len(names),10)) for i in range(5)]\n",
    "    i = 0\n",
    "    for n in range(len(names)):\n",
    "        seq = names[n][0:5]\n",
    "        for digit in range(len(seq)):\n",
    "            label = int(seq[digit])\n",
    "            #print(str(digit) + \";\" + str(label) + \";\" + str(n))\n",
    "            labels[digit][n][label] = 1\n",
    "        i += 1\n",
    "    return labels"
   ]
  },
  {
   "cell_type": "code",
   "execution_count": 128,
   "metadata": {},
   "outputs": [
    {
     "data": {
      "text/plain": [
       "[array([29, 10]),\n",
       " array([29, 10]),\n",
       " array([29, 10]),\n",
       " array([29, 10]),\n",
       " array([29, 10])]"
      ]
     },
     "execution_count": 128,
     "metadata": {},
     "output_type": "execute_result"
    }
   ],
   "source": [
    "[np.array((len(train_names),10)) for i in range(5)]"
   ]
  },
  {
   "cell_type": "code",
   "execution_count": 129,
   "metadata": {
    "scrolled": false
   },
   "outputs": [],
   "source": [
    "train_dataset = create_dataset(\"train_pics\", train_names)\n",
    "validation_dataset = create_dataset(\"validation_pics\", valid_names)\n",
    "test_dataset = create_dataset(\"test_pics\", test_names)\n",
    "\n",
    "train_labels = create_labels(train_names)\n",
    "validation_labels = create_labels(valid_names)\n",
    "test_dataset = create_labels(test_names)"
   ]
  },
  {
   "cell_type": "code",
   "execution_count": 130,
   "metadata": {},
   "outputs": [
    {
     "data": {
      "text/plain": [
       "[array([[1., 0., 0., 0., 0., 0., 0., 0., 0., 0.],\n",
       "        [1., 0., 0., 0., 0., 0., 0., 0., 0., 0.],\n",
       "        [1., 0., 0., 0., 0., 0., 0., 0., 0., 0.],\n",
       "        [1., 0., 0., 0., 0., 0., 0., 0., 0., 0.],\n",
       "        [1., 0., 0., 0., 0., 0., 0., 0., 0., 0.],\n",
       "        [1., 0., 0., 0., 0., 0., 0., 0., 0., 0.],\n",
       "        [1., 0., 0., 0., 0., 0., 0., 0., 0., 0.],\n",
       "        [1., 0., 0., 0., 0., 0., 0., 0., 0., 0.],\n",
       "        [1., 0., 0., 0., 0., 0., 0., 0., 0., 0.],\n",
       "        [1., 0., 0., 0., 0., 0., 0., 0., 0., 0.],\n",
       "        [1., 0., 0., 0., 0., 0., 0., 0., 0., 0.],\n",
       "        [1., 0., 0., 0., 0., 0., 0., 0., 0., 0.],\n",
       "        [1., 0., 0., 0., 0., 0., 0., 0., 0., 0.],\n",
       "        [1., 0., 0., 0., 0., 0., 0., 0., 0., 0.],\n",
       "        [1., 0., 0., 0., 0., 0., 0., 0., 0., 0.],\n",
       "        [1., 0., 0., 0., 0., 0., 0., 0., 0., 0.],\n",
       "        [1., 0., 0., 0., 0., 0., 0., 0., 0., 0.],\n",
       "        [1., 0., 0., 0., 0., 0., 0., 0., 0., 0.],\n",
       "        [1., 0., 0., 0., 0., 0., 0., 0., 0., 0.],\n",
       "        [1., 0., 0., 0., 0., 0., 0., 0., 0., 0.],\n",
       "        [1., 0., 0., 0., 0., 0., 0., 0., 0., 0.],\n",
       "        [1., 0., 0., 0., 0., 0., 0., 0., 0., 0.],\n",
       "        [1., 0., 0., 0., 0., 0., 0., 0., 0., 0.],\n",
       "        [1., 0., 0., 0., 0., 0., 0., 0., 0., 0.],\n",
       "        [1., 0., 0., 0., 0., 0., 0., 0., 0., 0.],\n",
       "        [1., 0., 0., 0., 0., 0., 0., 0., 0., 0.],\n",
       "        [1., 0., 0., 0., 0., 0., 0., 0., 0., 0.],\n",
       "        [1., 0., 0., 0., 0., 0., 0., 0., 0., 0.],\n",
       "        [1., 0., 0., 0., 0., 0., 0., 0., 0., 0.]])]"
      ]
     },
     "execution_count": 130,
     "metadata": {},
     "output_type": "execute_result"
    }
   ],
   "source": [
    "train_labels[0:1]"
   ]
  },
  {
   "cell_type": "code",
   "execution_count": 94,
   "metadata": {},
   "outputs": [
    {
     "data": {
      "text/plain": [
       "chararray([b'0', b'0', b'0', b'0', b'0', b'0', b'0', b'0', b'0', b'0',\n",
       "           b'0', b'0', b'0', b'0', b'0', b'0', b'0', b'0', b'0', b'0',\n",
       "           b'0', b'0', b'0', b'0', b'0', b'0', b'0', b'0', b'0'],\n",
       "          dtype='|S1')"
      ]
     },
     "execution_count": 94,
     "metadata": {},
     "output_type": "execute_result"
    }
   ],
   "source": [
    "train_labels"
   ]
  },
  {
   "cell_type": "code",
   "execution_count": 39,
   "metadata": {},
   "outputs": [
    {
     "name": "stderr",
     "output_type": "stream",
     "text": [
      "C:\\ProgramData\\Anaconda3\\lib\\site-packages\\ipykernel_launcher.py:40: UserWarning: Update your `Model` call to the Keras 2 API: `Model(inputs=Tensor(\"in..., outputs=[<tf.Tenso...)`\n"
     ]
    }
   ],
   "source": [
    "#Filters:\n",
    "f1, f2, f3 = 16,32,64\n",
    "patch_size = 5\n",
    "k_size = (3,3)\n",
    "p_size = (2,2)\n",
    "n_class = 10\n",
    "node = 10\n",
    "\n",
    "#TODO correct shape\n",
    "inp = Input(shape=(75, 250, 1))\n",
    "\n",
    "\n",
    "conv1 = Conv2D(filters = f1, kernel_size = k_size, activation = \"relu\")(inp)\n",
    "maxp1 = MaxPool2D(pool_size = p_size)(conv1)\n",
    "\n",
    "conv2 = Conv2D(filters = f2, kernel_size = k_size, activation = \"relu\")(maxp1)\n",
    "maxp2 = MaxPool2D(pool_size = p_size)(conv2)\n",
    "\n",
    "conv3 = Conv2D(filters = f3, kernel_size = k_size, activation = \"relu\")(maxp2)\n",
    "maxp3 = MaxPool2D(pool_size = p_size)(conv3)\n",
    "\n",
    "flat = Flatten()(maxp3)\n",
    "drop = Dropout(0.25)(flat)\n",
    "\n",
    "dense_11 = Dense(node, activation = \"relu\")(drop)\n",
    "dense_12 = Dense(node, activation = \"relu\")(drop)\n",
    "dense_13 = Dense(node, activation = \"relu\")(drop)\n",
    "dense_14 = Dense(node, activation = \"relu\")(drop)\n",
    "dense_15 = Dense(node, activation = \"relu\")(drop)\n",
    "\n",
    "dense_21 = Dense(n_class, activation = \"softmax\")(dense_11)\n",
    "dense_22 = Dense(n_class, activation = \"softmax\")(dense_12)\n",
    "dense_23 = Dense(n_class, activation = \"softmax\")(dense_13)\n",
    "dense_24 = Dense(n_class, activation = \"softmax\")(dense_14)\n",
    "dense_25 = Dense(n_class, activation = \"softmax\")(dense_15)\n",
    "\n",
    "output = [dense_21, dense_22, dense_23, dense_24, dense_25]\n",
    "\n",
    "\n",
    "model = Model(input = inp, output = output)\n",
    "model.compile(loss = \"categorical_crossentropy\", optimizer = \"adadelta\", metrics = [\"accuracy\"])"
   ]
  },
  {
   "cell_type": "code",
   "execution_count": 40,
   "metadata": {},
   "outputs": [
    {
     "name": "stdout",
     "output_type": "stream",
     "text": [
      "__________________________________________________________________________________________________\n",
      "Layer (type)                    Output Shape         Param #     Connected to                     \n",
      "==================================================================================================\n",
      "input_10 (InputLayer)           (None, 75, 250, 1)   0                                            \n",
      "__________________________________________________________________________________________________\n",
      "conv2d_28 (Conv2D)              (None, 73, 248, 16)  160         input_10[0][0]                   \n",
      "__________________________________________________________________________________________________\n",
      "max_pooling2d_28 (MaxPooling2D) (None, 36, 124, 16)  0           conv2d_28[0][0]                  \n",
      "__________________________________________________________________________________________________\n",
      "conv2d_29 (Conv2D)              (None, 34, 122, 32)  4640        max_pooling2d_28[0][0]           \n",
      "__________________________________________________________________________________________________\n",
      "max_pooling2d_29 (MaxPooling2D) (None, 17, 61, 32)   0           conv2d_29[0][0]                  \n",
      "__________________________________________________________________________________________________\n",
      "conv2d_30 (Conv2D)              (None, 15, 59, 64)   18496       max_pooling2d_29[0][0]           \n",
      "__________________________________________________________________________________________________\n",
      "max_pooling2d_30 (MaxPooling2D) (None, 7, 29, 64)    0           conv2d_30[0][0]                  \n",
      "__________________________________________________________________________________________________\n",
      "flatten_10 (Flatten)            (None, 12992)        0           max_pooling2d_30[0][0]           \n",
      "__________________________________________________________________________________________________\n",
      "dropout_6 (Dropout)             (None, 12992)        0           flatten_10[0][0]                 \n",
      "__________________________________________________________________________________________________\n",
      "dense_31 (Dense)                (None, 10)           129930      dropout_6[0][0]                  \n",
      "__________________________________________________________________________________________________\n",
      "dense_32 (Dense)                (None, 10)           129930      dropout_6[0][0]                  \n",
      "__________________________________________________________________________________________________\n",
      "dense_33 (Dense)                (None, 10)           129930      dropout_6[0][0]                  \n",
      "__________________________________________________________________________________________________\n",
      "dense_34 (Dense)                (None, 10)           129930      dropout_6[0][0]                  \n",
      "__________________________________________________________________________________________________\n",
      "dense_35 (Dense)                (None, 10)           129930      dropout_6[0][0]                  \n",
      "__________________________________________________________________________________________________\n",
      "dense_36 (Dense)                (None, 10)           110         dense_31[0][0]                   \n",
      "__________________________________________________________________________________________________\n",
      "dense_37 (Dense)                (None, 10)           110         dense_32[0][0]                   \n",
      "__________________________________________________________________________________________________\n",
      "dense_38 (Dense)                (None, 10)           110         dense_33[0][0]                   \n",
      "__________________________________________________________________________________________________\n",
      "dense_39 (Dense)                (None, 10)           110         dense_34[0][0]                   \n",
      "__________________________________________________________________________________________________\n",
      "dense_40 (Dense)                (None, 10)           110         dense_35[0][0]                   \n",
      "==================================================================================================\n",
      "Total params: 673,496\n",
      "Trainable params: 673,496\n",
      "Non-trainable params: 0\n",
      "__________________________________________________________________________________________________\n"
     ]
    }
   ],
   "source": [
    "model.summary()"
   ]
  },
  {
   "cell_type": "code",
   "execution_count": 26,
   "metadata": {
    "collapsed": true
   },
   "outputs": [],
   "source": []
  },
  {
   "cell_type": "code",
   "execution_count": null,
   "metadata": {
    "collapsed": true
   },
   "outputs": [],
   "source": []
  }
 ],
 "metadata": {
  "kernelspec": {
   "display_name": "Python 3",
   "language": "python",
   "name": "python3"
  },
  "language_info": {
   "codemirror_mode": {
    "name": "ipython",
    "version": 3
   },
   "file_extension": ".py",
   "mimetype": "text/x-python",
   "name": "python",
   "nbconvert_exporter": "python",
   "pygments_lexer": "ipython3",
   "version": "3.6.2"
  }
 },
 "nbformat": 4,
 "nbformat_minor": 2
}
