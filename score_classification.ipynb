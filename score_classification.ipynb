{
 "cells": [
  {
   "cell_type": "code",
   "execution_count": 31,
   "metadata": {},
   "outputs": [],
   "source": [
    "import tensorflow as tf\n",
    "import keras\n",
    "#from keras import layers\n",
    "from keras import models\n",
    "from keras import optimizers\n",
    "from keras.preprocessing.image import ImageDataGenerator\n",
    "from keras.models import load_model\n",
    "from keras.models import Model\n",
    "from keras.layers import *\n",
    "import os\n",
    "import sys\n",
    "import numpy as np\n",
    "from keras.preprocessing.image import ImageDataGenerator, array_to_img, img_to_array, load_img"
   ]
  },
  {
   "cell_type": "code",
   "execution_count": 2,
   "metadata": {
    "collapsed": true
   },
   "outputs": [],
   "source": [
    "base_dir = \"C:/Users/bened/OneDrive/Arbeit/Lernen/python_training/score_pics/\"\n",
    "train_dir = base_dir + \"train_pics/\"\n",
    "validation_dir = base_dir + \"validation_pics/\"\n",
    "test_dir = base_dir + \"test_pics/\""
   ]
  },
  {
   "cell_type": "code",
   "execution_count": 4,
   "metadata": {},
   "outputs": [
    {
     "name": "stdout",
     "output_type": "stream",
     "text": [
      "total training images: 37\n",
      "total validation images: 14\n",
      "total test images: 16\n"
     ]
    }
   ],
   "source": [
    "print(\"total training images:\", len(os.listdir(train_dir)))\n",
    "print(\"total validation images:\", len(os.listdir(validation_dir)))\n",
    "print(\"total test images:\", len(os.listdir(test_dir)))\n",
    "\n"
   ]
  },
  {
   "cell_type": "markdown",
   "metadata": {},
   "source": [
    "## Keras Sequential API"
   ]
  },
  {
   "cell_type": "code",
   "execution_count": 31,
   "metadata": {
    "collapsed": true
   },
   "outputs": [],
   "source": [
    "model = ks.models.Sequential()\n",
    "model.add(layers.Conv2D(16, (5,5), activation = \"relu\", input_shape=(160, 50, 3)))\n",
    "model.add(layers.MaxPooling2D((2,2)))\n",
    "model.add(layers.Conv2D(32, (5,5), activation = \"relu\"))\n",
    "model.add(layers.MaxPooling2D((2,2)))\n",
    "model.add(layers.Conv2D(64, (5,5), activation = \"relu\"))\n",
    "model.add(layers.MaxPooling2D((2,2)))\n",
    "model.add(layers.Flatten())"
   ]
  },
  {
   "cell_type": "code",
   "execution_count": 32,
   "metadata": {},
   "outputs": [
    {
     "name": "stdout",
     "output_type": "stream",
     "text": [
      "_________________________________________________________________\n",
      "Layer (type)                 Output Shape              Param #   \n",
      "=================================================================\n",
      "conv2d_13 (Conv2D)           (None, 156, 46, 16)       1216      \n",
      "_________________________________________________________________\n",
      "max_pooling2d_13 (MaxPooling (None, 78, 23, 16)        0         \n",
      "_________________________________________________________________\n",
      "conv2d_14 (Conv2D)           (None, 74, 19, 32)        12832     \n",
      "_________________________________________________________________\n",
      "max_pooling2d_14 (MaxPooling (None, 37, 9, 32)         0         \n",
      "_________________________________________________________________\n",
      "conv2d_15 (Conv2D)           (None, 33, 5, 64)         51264     \n",
      "_________________________________________________________________\n",
      "max_pooling2d_15 (MaxPooling (None, 16, 2, 64)         0         \n",
      "_________________________________________________________________\n",
      "flatten_6 (Flatten)          (None, 2048)              0         \n",
      "=================================================================\n",
      "Total params: 65,312\n",
      "Trainable params: 65,312\n",
      "Non-trainable params: 0\n",
      "_________________________________________________________________\n"
     ]
    }
   ],
   "source": [
    "model.summary()"
   ]
  },
  {
   "cell_type": "code",
   "execution_count": null,
   "metadata": {
    "collapsed": true
   },
   "outputs": [],
   "source": [
    "model.compile(loss=\"binary_crossentropy\",\n",
    "             optimizer = optimizers.RMSprop(lr=1e-4),\n",
    "             metrics=[\"acc\"])"
   ]
  },
  {
   "cell_type": "code",
   "execution_count": 35,
   "metadata": {},
   "outputs": [
    {
     "name": "stdout",
     "output_type": "stream",
     "text": [
      "Found 0 images belonging to 0 classes.\n",
      "Found 0 images belonging to 0 classes.\n",
      "Found 0 images belonging to 0 classes.\n"
     ]
    }
   ],
   "source": [
    "train_datagen = ImageDataGenerator(rescale=1./255)\n",
    "validation_datagen = ImageDataGenerator(rescale=1./255)\n",
    "test_datagen = ImageDataGenerator(rescale=1./255)\n",
    "\n",
    "\n",
    "train_generator = train_datagen.flow_from_directory(\n",
    "        train_dir,\n",
    "        target_size=(160, 50),\n",
    "        batch_size=20,\n",
    "        class_mode='binary')\n",
    "\n",
    "validation_generator = validation_datagen.flow_from_directory(\n",
    "        validation_dir,\n",
    "        target_size=(160, 75),\n",
    "        batch_size=20,\n",
    "        class_mode='binary')\n",
    "\n",
    "test_generator = test_datagen.flow_from_directory(\n",
    "        test_dir,\n",
    "        target_size=(160, 75),\n",
    "        batch_size=20,\n",
    "        class_mode='binary')"
   ]
  },
  {
   "cell_type": "code",
   "execution_count": null,
   "metadata": {
    "collapsed": true
   },
   "outputs": [],
   "source": []
  },
  {
   "cell_type": "markdown",
   "metadata": {},
   "source": [
    "## Keras functional API"
   ]
  },
  {
   "cell_type": "code",
   "execution_count": 50,
   "metadata": {
    "collapsed": true
   },
   "outputs": [],
   "source": [
    "train_folder = base_dir + \"train_pics\"\n",
    "valid_folder = base_dir + \"validation_pics\"\n",
    "test_folder = base_dir + \"test_pics\""
   ]
  },
  {
   "cell_type": "code",
   "execution_count": 51,
   "metadata": {},
   "outputs": [],
   "source": [
    "train_names = [f for f in os.listdir(train_folder)]\n",
    "valid_names = [f for f in os.listdir(valid_folder)]\n",
    "test_names = [f for f in os.listdir(test_folder)]"
   ]
  },
  {
   "cell_type": "code",
   "execution_count": 52,
   "metadata": {},
   "outputs": [
    {
     "name": "stdout",
     "output_type": "stream",
     "text": [
      "29 training files\n",
      "14 validation files\n",
      "16 test files\n"
     ]
    }
   ],
   "source": [
    "print(str(len(train_names)) + \" training files\")\n",
    "print(str(len(valid_names)) + \" validation files\")\n",
    "print(str(len(test_names)) + \" test files\")"
   ]
  },
  {
   "cell_type": "code",
   "execution_count": 34,
   "metadata": {},
   "outputs": [],
   "source": [
    "train_dataset = np.ndarray(shape=(len(train_names), 50, 160, 3), dtype = np.float32)\n",
    "\n",
    "i = 0\n",
    "for f in train_names:\n",
    "    img = load_img(folder + \"/\" + f)\n",
    "    x = img_to_array(img)\n",
    "    #x = x.reshape(())\n",
    "    x = (x - 128) / 128\n",
    "    dataset[i] = x\n",
    "    i += 1"
   ]
  },
  {
   "cell_type": "code",
   "execution_count": 55,
   "metadata": {
    "collapsed": true
   },
   "outputs": [],
   "source": [
    "def create_dataset(fold, names):\n",
    "    dataset = np.ndarray(shape=(len(train_names), 50, 160, 3), dtype = np.float32)\n",
    "    i = 0\n",
    "    for f in names:\n",
    "        img = load_img(base_dir + fold + \"/\" + f)\n",
    "        x = img_to_array(img)\n",
    "        #x = x.reshape(())\n",
    "        x = (x - 128) / 128\n",
    "        dataset[i] = x\n",
    "        i += 1\n",
    "    return dataset"
   ]
  },
  {
   "cell_type": "code",
   "execution_count": 57,
   "metadata": {},
   "outputs": [],
   "source": [
    "train_dataset = create_dataset(\"train_pics\", train_names)\n",
    "validation_dataset = create_dataset(\"validation_pics\", valid_names)\n",
    "test_dataset = create_dataset(\"test_pics\", test_names)"
   ]
  },
  {
   "cell_type": "code",
   "execution_count": 19,
   "metadata": {},
   "outputs": [],
   "source": [
    "#Filters:\n",
    "f1, f2, f3 = 16,32,64\n",
    "patch_size = 5\n",
    "p_size = (2,2)\n",
    "\n",
    "#TODO correct shape\n",
    "inp = Input(shape=(75, 250,1))\n",
    "\n",
    "\n",
    "conv1 = Conv2D(filters = f1, kernel_size = (3,3), activation = \"relu\")(inp)\n",
    "maxp1 = MaxPool2D(pool_size = p_size)(conv1)\n",
    "#tbc"
   ]
  },
  {
   "cell_type": "code",
   "execution_count": 9,
   "metadata": {
    "collapsed": true
   },
   "outputs": [],
   "source": []
  },
  {
   "cell_type": "code",
   "execution_count": null,
   "metadata": {},
   "outputs": [],
   "source": []
  },
  {
   "cell_type": "code",
   "execution_count": null,
   "metadata": {
    "collapsed": true
   },
   "outputs": [],
   "source": []
  }
 ],
 "metadata": {
  "kernelspec": {
   "display_name": "Python 3",
   "language": "python",
   "name": "python3"
  },
  "language_info": {
   "codemirror_mode": {
    "name": "ipython",
    "version": 3
   },
   "file_extension": ".py",
   "mimetype": "text/x-python",
   "name": "python",
   "nbconvert_exporter": "python",
   "pygments_lexer": "ipython3",
   "version": "3.6.2"
  }
 },
 "nbformat": 4,
 "nbformat_minor": 2
}
