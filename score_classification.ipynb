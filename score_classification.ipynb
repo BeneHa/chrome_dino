{
 "cells": [
  {
   "cell_type": "markdown",
   "metadata": {},
   "source": [
    "# Multi-digit recognition of Chrome dinosaur score using the Keras functional API"
   ]
  },
  {
   "cell_type": "code",
   "execution_count": 1,
   "metadata": {},
   "outputs": [
    {
     "name": "stderr",
     "output_type": "stream",
     "text": [
      "C:\\ProgramData\\Anaconda3\\lib\\site-packages\\h5py\\__init__.py:34: FutureWarning: Conversion of the second argument of issubdtype from `float` to `np.floating` is deprecated. In future, it will be treated as `np.float64 == np.dtype(float).type`.\n",
      "  from ._conv import register_converters as _register_converters\n",
      "Using TensorFlow backend.\n"
     ]
    }
   ],
   "source": [
    "import tensorflow as tf\n",
    "import keras\n",
    "#from keras import layers\n",
    "from keras import models\n",
    "from keras import optimizers\n",
    "from keras.preprocessing.image import ImageDataGenerator\n",
    "from keras.models import load_model\n",
    "from keras.models import Model\n",
    "from keras.layers import *\n",
    "import os\n",
    "import matplotlib.pyplot as plt\n",
    "import sys\n",
    "import numpy as np\n",
    "from keras.preprocessing.image import ImageDataGenerator, array_to_img, img_to_array, load_img"
   ]
  },
  {
   "cell_type": "markdown",
   "metadata": {},
   "source": [
    "## Preparation"
   ]
  },
  {
   "cell_type": "code",
   "execution_count": 2,
   "metadata": {
    "collapsed": true
   },
   "outputs": [],
   "source": [
    "base_dir = \"C:/Users/bened/OneDrive/Arbeit/Lernen/python_training/score_pics/\"\n",
    "train_dir = base_dir + \"train_pics/\"\n",
    "validation_dir = base_dir + \"validation_pics/\"\n",
    "test_dir = base_dir + \"test_pics/\""
   ]
  },
  {
   "cell_type": "code",
   "execution_count": 3,
   "metadata": {},
   "outputs": [
    {
     "name": "stdout",
     "output_type": "stream",
     "text": [
      "total training images: 29\n",
      "total validation images: 13\n",
      "total test images: 15\n"
     ]
    }
   ],
   "source": [
    "print(\"total training images:\", len(os.listdir(train_dir)))\n",
    "print(\"total validation images:\", len(os.listdir(validation_dir)))\n",
    "print(\"total test images:\", len(os.listdir(test_dir)))\n",
    "\n"
   ]
  },
  {
   "cell_type": "code",
   "execution_count": 293,
   "metadata": {
    "collapsed": true
   },
   "outputs": [],
   "source": [
    "train_folder = base_dir + \"train_pics\"\n",
    "valid_folder = base_dir + \"validation_pics\"\n",
    "test_folder = base_dir + \"test_pics\""
   ]
  },
  {
   "cell_type": "code",
   "execution_count": 294,
   "metadata": {
    "collapsed": true
   },
   "outputs": [],
   "source": [
    "train_names = [f for f in os.listdir(train_folder)]\n",
    "valid_names = [f for f in os.listdir(valid_folder)]\n",
    "test_names = [f for f in os.listdir(test_folder)]"
   ]
  },
  {
   "cell_type": "code",
   "execution_count": 295,
   "metadata": {},
   "outputs": [
    {
     "name": "stdout",
     "output_type": "stream",
     "text": [
      "132 training files\n",
      "58 validation files\n",
      "44 test files\n"
     ]
    }
   ],
   "source": [
    "print(str(len(train_names)) + \" training files\")\n",
    "print(str(len(valid_names)) + \" validation files\")\n",
    "print(str(len(test_names)) + \" test files\")"
   ]
  },
  {
   "cell_type": "markdown",
   "metadata": {},
   "source": [
    "## Create input, labels"
   ]
  },
  {
   "cell_type": "code",
   "execution_count": 296,
   "metadata": {
    "collapsed": true
   },
   "outputs": [],
   "source": [
    "def create_dataset(fold, names):\n",
    "    dataset = np.ndarray(shape=(len(names), 50, 160, 3), dtype = np.float32)\n",
    "    i = 0\n",
    "    for f in names:\n",
    "        img = load_img(base_dir + fold + \"/\" + f)\n",
    "        x = img_to_array(img)\n",
    "        #x = x.reshape(())\n",
    "        x = (x - 128) / 128\n",
    "        dataset[i] = x\n",
    "        i += 1\n",
    "    dataset = dataset[:,:,:,0]\n",
    "    dataset = np.expand_dims(dataset, axis = 3)\n",
    "    return dataset\n",
    "\n",
    "\n",
    "def create_labels(names):\n",
    "    labels = [np.zeros((len(names),10)) for i in range(5)]\n",
    "    i = 0\n",
    "    for n in range(len(names)):\n",
    "        seq = names[n][0:5]\n",
    "        for digit in range(len(seq)):\n",
    "            label = int(seq[digit])\n",
    "            #print(str(digit) + \";\" + str(label) + \";\" + str(n))\n",
    "            labels[digit][n][label] = 1\n",
    "        i += 1\n",
    "    return labels"
   ]
  },
  {
   "cell_type": "code",
   "execution_count": 298,
   "metadata": {
    "collapsed": true,
    "scrolled": false
   },
   "outputs": [],
   "source": [
    "train_dataset = create_dataset(\"train_pics\", train_names)\n",
    "validation_dataset = create_dataset(\"validation_pics\", valid_names)\n",
    "test_dataset = create_dataset(\"test_pics\", test_names)\n",
    "\n",
    "train_labels = create_labels(train_names)\n",
    "validation_labels = create_labels(valid_names)\n",
    "test_labels = create_labels(test_names)"
   ]
  },
  {
   "cell_type": "code",
   "execution_count": 300,
   "metadata": {},
   "outputs": [
    {
     "data": {
      "text/plain": [
       "(132, 50, 160, 1)"
      ]
     },
     "execution_count": 300,
     "metadata": {},
     "output_type": "execute_result"
    }
   ],
   "source": [
    "train_dataset.shape"
   ]
  },
  {
   "cell_type": "code",
   "execution_count": 301,
   "metadata": {},
   "outputs": [
    {
     "data": {
      "text/plain": [
       "array([1., 0., 0., 0., 0., 0., 0., 0., 0., 0.])"
      ]
     },
     "execution_count": 301,
     "metadata": {},
     "output_type": "execute_result"
    }
   ],
   "source": [
    "train_labels[1][1]"
   ]
  },
  {
   "cell_type": "markdown",
   "metadata": {},
   "source": [
    "## Define model"
   ]
  },
  {
   "cell_type": "code",
   "execution_count": 302,
   "metadata": {},
   "outputs": [
    {
     "name": "stderr",
     "output_type": "stream",
     "text": [
      "C:\\ProgramData\\Anaconda3\\lib\\site-packages\\ipykernel_launcher.py:47: UserWarning: Update your `Model` call to the Keras 2 API: `Model(inputs=Tensor(\"in..., outputs=[<tf.Tenso...)`\n"
     ]
    }
   ],
   "source": [
    "#Filters:\n",
    "f1, f2, f3 = 8,16,32\n",
    "patch_size = 5\n",
    "k_size = (3,3)\n",
    "p_size = (4,4)\n",
    "n_class = 10\n",
    "node = 10\n",
    "\n",
    "inp_corr = Input(shape=(50,160,1))\n",
    "\n",
    "conv1 = Conv2D(filters = f1, kernel_size = k_size, activation = \"relu\")(inp_corr)\n",
    "#maxp1 = MaxPool2D(pool_size = p_size)(conv1)\n",
    "\n",
    "#conv2 = Conv2D(filters = f2, kernel_size = k_size, activation = \"relu\")(maxp1)\n",
    "#maxp2 = MaxPool2D(pool_size = p_size)(conv2)\n",
    "\n",
    "#conv3 = Conv2D(filters = f3, kernel_size = k_size, activation = \"relu\")(maxp2)\n",
    "#maxp3 = MaxPool2D(pool_size = p_size)(conv3)\n",
    "\n",
    "flat = Flatten()(conv1)\n",
    "#drop = Dropout(0.1)(flat)\n",
    "\n",
    "#dense_11 = Dense(node, activation = \"relu\")(drop)\n",
    "#dense_12 = Dense(node, activation = \"relu\")(drop)\n",
    "#dense_13 = Dense(node, activation = \"relu\")(drop)\n",
    "#dense_14 = Dense(node, activation = \"relu\")(drop)\n",
    "#dense_15 = Dense(node, activation = \"relu\")(drop)\n",
    "\n",
    "#dense_21 = Dense(n_class, activation = \"softmax\")(dense_11)\n",
    "#dense_22 = Dense(n_class, activation = \"softmax\")(dense_12)\n",
    "#dense_23 = Dense(n_class, activation = \"softmax\")(dense_13)\n",
    "#dense_24 = Dense(n_class, activation = \"softmax\")(dense_14)\n",
    "#dense_25 = Dense(n_class, activation = \"softmax\")(dense_15)\n",
    "\n",
    "#Alternative:\n",
    "dense_21 = Dense(n_class, activation = \"softmax\")(flat)\n",
    "dense_22 = Dense(n_class, activation = \"softmax\")(flat)\n",
    "dense_23 = Dense(n_class, activation = \"softmax\")(flat)\n",
    "dense_24 = Dense(n_class, activation = \"softmax\")(flat)\n",
    "dense_25 = Dense(n_class, activation = \"softmax\")(flat)\n",
    "\n",
    "output = [dense_21, dense_22, dense_23, dense_24, dense_25]\n",
    "\n",
    "#output = [dense_11, dense_12, dense_13, dense_14, dense_15]\n",
    "\n",
    "\n",
    "model = Model(input = inp_corr, output = output)\n",
    "model.compile(loss = \"categorical_crossentropy\", optimizer = \"sgd\", metrics = [\"accuracy\"])"
   ]
  },
  {
   "cell_type": "code",
   "execution_count": 303,
   "metadata": {},
   "outputs": [
    {
     "name": "stdout",
     "output_type": "stream",
     "text": [
      "__________________________________________________________________________________________________\n",
      "Layer (type)                    Output Shape         Param #     Connected to                     \n",
      "==================================================================================================\n",
      "input_44 (InputLayer)           (None, 50, 160, 1)   0                                            \n",
      "__________________________________________________________________________________________________\n",
      "conv2d_46 (Conv2D)              (None, 48, 158, 8)   80          input_44[0][0]                   \n",
      "__________________________________________________________________________________________________\n",
      "flatten_25 (Flatten)            (None, 60672)        0           conv2d_46[0][0]                  \n",
      "__________________________________________________________________________________________________\n",
      "dense_216 (Dense)               (None, 10)           606730      flatten_25[0][0]                 \n",
      "__________________________________________________________________________________________________\n",
      "dense_217 (Dense)               (None, 10)           606730      flatten_25[0][0]                 \n",
      "__________________________________________________________________________________________________\n",
      "dense_218 (Dense)               (None, 10)           606730      flatten_25[0][0]                 \n",
      "__________________________________________________________________________________________________\n",
      "dense_219 (Dense)               (None, 10)           606730      flatten_25[0][0]                 \n",
      "__________________________________________________________________________________________________\n",
      "dense_220 (Dense)               (None, 10)           606730      flatten_25[0][0]                 \n",
      "==================================================================================================\n",
      "Total params: 3,033,730\n",
      "Trainable params: 3,033,730\n",
      "Non-trainable params: 0\n",
      "__________________________________________________________________________________________________\n"
     ]
    }
   ],
   "source": [
    "model.summary()"
   ]
  },
  {
   "cell_type": "code",
   "execution_count": 304,
   "metadata": {
    "scrolled": true
   },
   "outputs": [
    {
     "name": "stderr",
     "output_type": "stream",
     "text": [
      "C:\\ProgramData\\Anaconda3\\lib\\site-packages\\ipykernel_launcher.py:1: UserWarning: The `nb_epoch` argument in `fit` has been renamed `epochs`.\n",
      "  \"\"\"Entry point for launching an IPython kernel.\n"
     ]
    },
    {
     "name": "stdout",
     "output_type": "stream",
     "text": [
      "Epoch 1/40\n",
      "132/132 [==============================] - 4s 32ms/step - loss: 9.5388 - dense_216_loss: 0.8305 - dense_217_loss: 1.0131 - dense_218_loss: 2.4760 - dense_219_loss: 2.5887 - dense_220_loss: 2.6305 - dense_216_acc: 0.6288 - dense_217_acc: 0.6212 - dense_218_acc: 0.1288 - dense_219_acc: 0.1818 - dense_220_acc: 0.1212\n",
      "Epoch 2/40\n",
      "132/132 [==============================] - 0s 3ms/step - loss: 7.1411 - dense_216_loss: 0.4044 - dense_217_loss: 0.3631 - dense_218_loss: 1.9936 - dense_219_loss: 2.2052 - dense_220_loss: 2.1749 - dense_216_acc: 1.0000 - dense_217_acc: 1.0000 - dense_218_acc: 0.3182 - dense_219_acc: 0.3333 - dense_220_acc: 0.3409\n",
      "Epoch 3/40\n",
      "132/132 [==============================] - 0s 3ms/step - loss: 5.7437 - dense_216_loss: 0.0303 - dense_217_loss: 0.0285 - dense_218_loss: 1.6647 - dense_219_loss: 2.0104 - dense_220_loss: 2.0099 - dense_216_acc: 1.0000 - dense_217_acc: 1.0000 - dense_218_acc: 0.3939 - dense_219_acc: 0.3712 - dense_220_acc: 0.4545\n",
      "Epoch 4/40\n",
      "132/132 [==============================] - 0s 3ms/step - loss: 5.0953 - dense_216_loss: 0.0049 - dense_217_loss: 0.0046 - dense_218_loss: 1.4244 - dense_219_loss: 1.7977 - dense_220_loss: 1.8638 - dense_216_acc: 1.0000 - dense_217_acc: 1.0000 - dense_218_acc: 0.5455 - dense_219_acc: 0.7273 - dense_220_acc: 0.5227\n",
      "Epoch 5/40\n",
      "132/132 [==============================] - 0s 3ms/step - loss: 4.4749 - dense_216_loss: 9.8598e-04 - dense_217_loss: 9.3291e-04 - dense_218_loss: 1.1725 - dense_219_loss: 1.6046 - dense_220_loss: 1.6959 - dense_216_acc: 1.0000 - dense_217_acc: 1.0000 - dense_218_acc: 0.7045 - dense_219_acc: 0.7652 - dense_220_acc: 0.7348\n",
      "Epoch 6/40\n",
      "132/132 [==============================] - 0s 3ms/step - loss: 3.8509 - dense_216_loss: 3.8396e-04 - dense_217_loss: 3.6080e-04 - dense_218_loss: 0.9658 - dense_219_loss: 1.4044 - dense_220_loss: 1.4800 - dense_216_acc: 1.0000 - dense_217_acc: 1.0000 - dense_218_acc: 0.8864 - dense_219_acc: 0.7576 - dense_220_acc: 0.7879\n",
      "Epoch 7/40\n",
      "132/132 [==============================] - 0s 3ms/step - loss: 3.1811 - dense_216_loss: 1.0320e-04 - dense_217_loss: 9.8427e-05 - dense_218_loss: 0.7456 - dense_219_loss: 1.1787 - dense_220_loss: 1.2566 - dense_216_acc: 1.0000 - dense_217_acc: 1.0000 - dense_218_acc: 0.9545 - dense_219_acc: 0.8106 - dense_220_acc: 0.8561\n",
      "Epoch 8/40\n",
      "132/132 [==============================] - 0s 3ms/step - loss: 2.5802 - dense_216_loss: 2.4532e-05 - dense_217_loss: 2.3628e-05 - dense_218_loss: 0.5693 - dense_219_loss: 0.9743 - dense_220_loss: 1.0365 - dense_216_acc: 1.0000 - dense_217_acc: 1.0000 - dense_218_acc: 0.9621 - dense_219_acc: 0.9848 - dense_220_acc: 0.9015\n",
      "Epoch 9/40\n",
      "132/132 [==============================] - 0s 3ms/step - loss: 2.2258 - dense_216_loss: 1.4904e-05 - dense_217_loss: 1.4359e-05 - dense_218_loss: 0.4476 - dense_219_loss: 0.8589 - dense_220_loss: 0.9193 - dense_216_acc: 1.0000 - dense_217_acc: 1.0000 - dense_218_acc: 1.0000 - dense_219_acc: 0.8333 - dense_220_acc: 0.9318\n",
      "Epoch 10/40\n",
      "132/132 [==============================] - 0s 3ms/step - loss: 1.6859 - dense_216_loss: 8.2399e-06 - dense_217_loss: 8.0435e-06 - dense_218_loss: 0.3410 - dense_219_loss: 0.6451 - dense_220_loss: 0.6998 - dense_216_acc: 1.0000 - dense_217_acc: 1.0000 - dense_218_acc: 0.9773 - dense_219_acc: 0.9848 - dense_220_acc: 0.9924\n",
      "Epoch 11/40\n",
      "132/132 [==============================] - 0s 3ms/step - loss: 1.3557 - dense_216_loss: 2.6691e-06 - dense_217_loss: 2.5761e-06 - dense_218_loss: 0.2873 - dense_219_loss: 0.4837 - dense_220_loss: 0.5846 - dense_216_acc: 1.0000 - dense_217_acc: 1.0000 - dense_218_acc: 1.0000 - dense_219_acc: 0.9924 - dense_220_acc: 0.9318\n",
      "Epoch 12/40\n",
      "132/132 [==============================] - 0s 3ms/step - loss: 0.9802 - dense_216_loss: 7.4190e-07 - dense_217_loss: 7.2745e-07 - dense_218_loss: 0.2157 - dense_219_loss: 0.3662 - dense_220_loss: 0.3984 - dense_216_acc: 1.0000 - dense_217_acc: 1.0000 - dense_218_acc: 1.0000 - dense_219_acc: 0.9924 - dense_220_acc: 0.9924\n",
      "Epoch 13/40\n",
      "132/132 [==============================] - 0s 3ms/step - loss: 0.8135 - dense_216_loss: 2.7409e-07 - dense_217_loss: 2.8583e-07 - dense_218_loss: 0.1562 - dense_219_loss: 0.2923 - dense_220_loss: 0.3650 - dense_216_acc: 1.0000 - dense_217_acc: 1.0000 - dense_218_acc: 1.0000 - dense_219_acc: 0.9924 - dense_220_acc: 0.9924\n",
      "Epoch 14/40\n",
      "132/132 [==============================] - 0s 3ms/step - loss: 0.6593 - dense_216_loss: 1.6256e-07 - dense_217_loss: 1.6572e-07 - dense_218_loss: 0.1272 - dense_219_loss: 0.2383 - dense_220_loss: 0.2937 - dense_216_acc: 1.0000 - dense_217_acc: 1.0000 - dense_218_acc: 1.0000 - dense_219_acc: 0.9924 - dense_220_acc: 0.9924\n",
      "Epoch 15/40\n",
      "132/132 [==============================] - 0s 3ms/step - loss: 0.5379 - dense_216_loss: 1.2011e-07 - dense_217_loss: 1.1921e-07 - dense_218_loss: 0.1053 - dense_219_loss: 0.2058 - dense_220_loss: 0.2268 - dense_216_acc: 1.0000 - dense_217_acc: 1.0000 - dense_218_acc: 1.0000 - dense_219_acc: 0.9924 - dense_220_acc: 0.9924\n",
      "Epoch 16/40\n",
      "132/132 [==============================] - 0s 3ms/step - loss: 0.4393 - dense_216_loss: 1.1921e-07 - dense_217_loss: 1.1921e-07 - dense_218_loss: 0.0844 - dense_219_loss: 0.1648 - dense_220_loss: 0.1901 - dense_216_acc: 1.0000 - dense_217_acc: 1.0000 - dense_218_acc: 1.0000 - dense_219_acc: 0.9924 - dense_220_acc: 0.9924\n",
      "Epoch 17/40\n",
      "132/132 [==============================] - 0s 3ms/step - loss: 0.3882 - dense_216_loss: 1.1921e-07 - dense_217_loss: 1.1921e-07 - dense_218_loss: 0.0725 - dense_219_loss: 0.1418 - dense_220_loss: 0.1739 - dense_216_acc: 1.0000 - dense_217_acc: 1.0000 - dense_218_acc: 1.0000 - dense_219_acc: 0.9924 - dense_220_acc: 0.9924\n",
      "Epoch 18/40\n",
      "132/132 [==============================] - 0s 3ms/step - loss: 0.3423 - dense_216_loss: 1.1921e-07 - dense_217_loss: 1.1921e-07 - dense_218_loss: 0.0637 - dense_219_loss: 0.1269 - dense_220_loss: 0.1517 - dense_216_acc: 1.0000 - dense_217_acc: 1.0000 - dense_218_acc: 1.0000 - dense_219_acc: 0.9924 - dense_220_acc: 0.9924\n",
      "Epoch 19/40\n",
      "132/132 [==============================] - 0s 3ms/step - loss: 0.2973 - dense_216_loss: 1.1921e-07 - dense_217_loss: 1.1921e-07 - dense_218_loss: 0.0563 - dense_219_loss: 0.1072 - dense_220_loss: 0.1339 - dense_216_acc: 1.0000 - dense_217_acc: 1.0000 - dense_218_acc: 1.0000 - dense_219_acc: 0.9924 - dense_220_acc: 0.9924\n",
      "Epoch 20/40\n",
      "132/132 [==============================] - 0s 3ms/step - loss: 0.2633 - dense_216_loss: 1.1921e-07 - dense_217_loss: 1.1921e-07 - dense_218_loss: 0.0493 - dense_219_loss: 0.0935 - dense_220_loss: 0.1205 - dense_216_acc: 1.0000 - dense_217_acc: 1.0000 - dense_218_acc: 1.0000 - dense_219_acc: 1.0000 - dense_220_acc: 0.9924\n",
      "Epoch 21/40\n",
      "132/132 [==============================] - 0s 3ms/step - loss: 0.2404 - dense_216_loss: 1.1921e-07 - dense_217_loss: 1.1921e-07 - dense_218_loss: 0.0438 - dense_219_loss: 0.0854 - dense_220_loss: 0.1112 - dense_216_acc: 1.0000 - dense_217_acc: 1.0000 - dense_218_acc: 1.0000 - dense_219_acc: 1.0000 - dense_220_acc: 0.9924\n",
      "Epoch 22/40\n",
      "132/132 [==============================] - 0s 3ms/step - loss: 0.2157 - dense_216_loss: 1.1921e-07 - dense_217_loss: 1.1921e-07 - dense_218_loss: 0.0404 - dense_219_loss: 0.0767 - dense_220_loss: 0.0986 - dense_216_acc: 1.0000 - dense_217_acc: 1.0000 - dense_218_acc: 1.0000 - dense_219_acc: 1.0000 - dense_220_acc: 0.9924\n",
      "Epoch 23/40\n",
      "132/132 [==============================] - 0s 3ms/step - loss: 0.1974 - dense_216_loss: 1.1921e-07 - dense_217_loss: 1.1921e-07 - dense_218_loss: 0.0366 - dense_219_loss: 0.0673 - dense_220_loss: 0.0936 - dense_216_acc: 1.0000 - dense_217_acc: 1.0000 - dense_218_acc: 1.0000 - dense_219_acc: 1.0000 - dense_220_acc: 0.9924\n",
      "Epoch 24/40\n",
      "132/132 [==============================] - 0s 3ms/step - loss: 0.1833 - dense_216_loss: 1.1921e-07 - dense_217_loss: 1.1921e-07 - dense_218_loss: 0.0332 - dense_219_loss: 0.0617 - dense_220_loss: 0.0884 - dense_216_acc: 1.0000 - dense_217_acc: 1.0000 - dense_218_acc: 1.0000 - dense_219_acc: 1.0000 - dense_220_acc: 0.9924\n",
      "Epoch 25/40\n"
     ]
    },
    {
     "name": "stdout",
     "output_type": "stream",
     "text": [
      "132/132 [==============================] - 0s 3ms/step - loss: 0.1675 - dense_216_loss: 1.1921e-07 - dense_217_loss: 1.1921e-07 - dense_218_loss: 0.0305 - dense_219_loss: 0.0560 - dense_220_loss: 0.0810 - dense_216_acc: 1.0000 - dense_217_acc: 1.0000 - dense_218_acc: 1.0000 - dense_219_acc: 1.0000 - dense_220_acc: 0.9924\n",
      "Epoch 26/40\n",
      "132/132 [==============================] - 0s 3ms/step - loss: 0.1580 - dense_216_loss: 1.1921e-07 - dense_217_loss: 1.1921e-07 - dense_218_loss: 0.0283 - dense_219_loss: 0.0516 - dense_220_loss: 0.0781 - dense_216_acc: 1.0000 - dense_217_acc: 1.0000 - dense_218_acc: 1.0000 - dense_219_acc: 1.0000 - dense_220_acc: 0.9924\n",
      "Epoch 27/40\n",
      "132/132 [==============================] - 0s 3ms/step - loss: 0.1423 - dense_216_loss: 1.1921e-07 - dense_217_loss: 1.1921e-07 - dense_218_loss: 0.0265 - dense_219_loss: 0.0475 - dense_220_loss: 0.0684 - dense_216_acc: 1.0000 - dense_217_acc: 1.0000 - dense_218_acc: 1.0000 - dense_219_acc: 1.0000 - dense_220_acc: 0.9924\n",
      "Epoch 28/40\n",
      "132/132 [==============================] - 0s 3ms/step - loss: 0.1325 - dense_216_loss: 1.1921e-07 - dense_217_loss: 1.1921e-07 - dense_218_loss: 0.0245 - dense_219_loss: 0.0442 - dense_220_loss: 0.0639 - dense_216_acc: 1.0000 - dense_217_acc: 1.0000 - dense_218_acc: 1.0000 - dense_219_acc: 1.0000 - dense_220_acc: 0.9924\n",
      "Epoch 29/40\n",
      "132/132 [==============================] - 0s 3ms/step - loss: 0.1220 - dense_216_loss: 1.1921e-07 - dense_217_loss: 1.1921e-07 - dense_218_loss: 0.0227 - dense_219_loss: 0.0408 - dense_220_loss: 0.0585 - dense_216_acc: 1.0000 - dense_217_acc: 1.0000 - dense_218_acc: 1.0000 - dense_219_acc: 1.0000 - dense_220_acc: 1.0000\n",
      "Epoch 30/40\n",
      "132/132 [==============================] - 0s 3ms/step - loss: 0.1186 - dense_216_loss: 1.1921e-07 - dense_217_loss: 1.1921e-07 - dense_218_loss: 0.0215 - dense_219_loss: 0.0384 - dense_220_loss: 0.0587 - dense_216_acc: 1.0000 - dense_217_acc: 1.0000 - dense_218_acc: 1.0000 - dense_219_acc: 1.0000 - dense_220_acc: 0.9924\n",
      "Epoch 31/40\n",
      "132/132 [==============================] - 0s 3ms/step - loss: 0.1107 - dense_216_loss: 1.1921e-07 - dense_217_loss: 1.1921e-07 - dense_218_loss: 0.0203 - dense_219_loss: 0.0363 - dense_220_loss: 0.0542 - dense_216_acc: 1.0000 - dense_217_acc: 1.0000 - dense_218_acc: 1.0000 - dense_219_acc: 1.0000 - dense_220_acc: 0.9924\n",
      "Epoch 32/40\n",
      "132/132 [==============================] - 0s 3ms/step - loss: 0.1065 - dense_216_loss: 1.1921e-07 - dense_217_loss: 1.1921e-07 - dense_218_loss: 0.0191 - dense_219_loss: 0.0343 - dense_220_loss: 0.0531 - dense_216_acc: 1.0000 - dense_217_acc: 1.0000 - dense_218_acc: 1.0000 - dense_219_acc: 1.0000 - dense_220_acc: 0.9924\n",
      "Epoch 33/40\n",
      "132/132 [==============================] - 0s 3ms/step - loss: 0.0997 - dense_216_loss: 1.1921e-07 - dense_217_loss: 1.1921e-07 - dense_218_loss: 0.0182 - dense_219_loss: 0.0318 - dense_220_loss: 0.0496 - dense_216_acc: 1.0000 - dense_217_acc: 1.0000 - dense_218_acc: 1.0000 - dense_219_acc: 1.0000 - dense_220_acc: 0.9924\n",
      "Epoch 34/40\n",
      "132/132 [==============================] - 0s 3ms/step - loss: 0.0996 - dense_216_loss: 1.1921e-07 - dense_217_loss: 1.1921e-07 - dense_218_loss: 0.0172 - dense_219_loss: 0.0301 - dense_220_loss: 0.0524 - dense_216_acc: 1.0000 - dense_217_acc: 1.0000 - dense_218_acc: 1.0000 - dense_219_acc: 1.0000 - dense_220_acc: 0.9924\n",
      "Epoch 35/40\n",
      "132/132 [==============================] - 0s 3ms/step - loss: 0.0932 - dense_216_loss: 1.1921e-07 - dense_217_loss: 1.1921e-07 - dense_218_loss: 0.0163 - dense_219_loss: 0.0284 - dense_220_loss: 0.0485 - dense_216_acc: 1.0000 - dense_217_acc: 1.0000 - dense_218_acc: 1.0000 - dense_219_acc: 1.0000 - dense_220_acc: 1.0000\n",
      "Epoch 36/40\n",
      "132/132 [==============================] - 0s 3ms/step - loss: 0.0926 - dense_216_loss: 1.1921e-07 - dense_217_loss: 1.1921e-07 - dense_218_loss: 0.0155 - dense_219_loss: 0.0272 - dense_220_loss: 0.0499 - dense_216_acc: 1.0000 - dense_217_acc: 1.0000 - dense_218_acc: 1.0000 - dense_219_acc: 1.0000 - dense_220_acc: 0.9924\n",
      "Epoch 37/40\n",
      "132/132 [==============================] - 0s 3ms/step - loss: 0.0832 - dense_216_loss: 1.1921e-07 - dense_217_loss: 1.1921e-07 - dense_218_loss: 0.0148 - dense_219_loss: 0.0258 - dense_220_loss: 0.0426 - dense_216_acc: 1.0000 - dense_217_acc: 1.0000 - dense_218_acc: 1.0000 - dense_219_acc: 1.0000 - dense_220_acc: 0.9924\n",
      "Epoch 38/40\n",
      "132/132 [==============================] - 0s 3ms/step - loss: 0.0764 - dense_216_loss: 1.1921e-07 - dense_217_loss: 1.1921e-07 - dense_218_loss: 0.0142 - dense_219_loss: 0.0245 - dense_220_loss: 0.0377 - dense_216_acc: 1.0000 - dense_217_acc: 1.0000 - dense_218_acc: 1.0000 - dense_219_acc: 1.0000 - dense_220_acc: 0.9924\n",
      "Epoch 39/40\n",
      "132/132 [==============================] - 0s 3ms/step - loss: 0.0758 - dense_216_loss: 1.1921e-07 - dense_217_loss: 1.1921e-07 - dense_218_loss: 0.0136 - dense_219_loss: 0.0236 - dense_220_loss: 0.0386 - dense_216_acc: 1.0000 - dense_217_acc: 1.0000 - dense_218_acc: 1.0000 - dense_219_acc: 1.0000 - dense_220_acc: 0.9924\n",
      "Epoch 40/40\n",
      "132/132 [==============================] - 0s 3ms/step - loss: 0.0742 - dense_216_loss: 1.1921e-07 - dense_217_loss: 1.1921e-07 - dense_218_loss: 0.0130 - dense_219_loss: 0.0226 - dense_220_loss: 0.0386 - dense_216_acc: 1.0000 - dense_217_acc: 1.0000 - dense_218_acc: 1.0000 - dense_219_acc: 1.0000 - dense_220_acc: 0.9924\n"
     ]
    },
    {
     "data": {
      "text/plain": [
       "<keras.callbacks.History at 0x1f929ec8828>"
      ]
     },
     "execution_count": 304,
     "metadata": {},
     "output_type": "execute_result"
    }
   ],
   "source": [
    "model.fit(train_dataset, train_labels,nb_epoch = 40, batch_size=50)"
   ]
  },
  {
   "cell_type": "markdown",
   "metadata": {},
   "source": [
    "## Evaluate model"
   ]
  },
  {
   "cell_type": "code",
   "execution_count": 305,
   "metadata": {
    "collapsed": true
   },
   "outputs": [],
   "source": [
    "def get_result(result):\n",
    "    resultstr = ''\n",
    "    for i in range(5):\n",
    "        resultstr += str(np.argmax(result[i]))\n",
    "    return resultstr"
   ]
  },
  {
   "cell_type": "code",
   "execution_count": 308,
   "metadata": {
    "scrolled": false
   },
   "outputs": [
    {
     "name": "stdout",
     "output_type": "stream",
     "text": [
      "Prediction   Original file name  Correct\n",
      "\n",
      "\n",
      "00003          00003.png      True\n",
      "00004          00004.png      True\n",
      "00012          00012.png      True\n",
      "00013          00013.png      True\n",
      "00014          00014.png      True\n",
      "00020          00020.png      True\n",
      "00022          00022.png      True\n",
      "00023          00023.png      True\n",
      "00030          00030.png      True\n",
      "00031          00031.png      True\n",
      "00032          00032.png      True\n",
      "00039          00039.png      True\n",
      "00041          00041.png      True\n",
      "00042          00042.png      True\n",
      "00043          00043.png      True\n",
      "00046          00046.png      True\n",
      "00049          00049.png      True\n",
      "00050          00050.png      True\n",
      "00052          00052.png      True\n",
      "00059          00059.png      True\n",
      "00060          00060.png      True\n",
      "00061          00061.png      True\n",
      "00068          00068.png      True\n",
      "00070          00070.png      True\n",
      "00071          00071.png      True\n",
      "00078          00078.png      True\n",
      "00080          00080.png      True\n",
      "00081          00081.png      True\n",
      "00088          00088.png      True\n",
      "00090          00090.png      True\n",
      "00091          00091.png      True\n",
      "00098          00098.png      True\n",
      "00100          00100.png      True\n",
      "00231          00231.png      True\n",
      "00242          00242.png      True\n",
      "00265          00265.png      True\n",
      "00276          00276.png      True\n",
      "00288          00288.png      True\n",
      "00336          00336.png      True\n",
      "00360          00360.png      True\n",
      "00385          00385.png      True\n",
      "00400          00400.png      True\n",
      "00474          00474.png      True\n",
      "00600          12345.png      False\n"
     ]
    }
   ],
   "source": [
    "%matplotlib inline\n",
    "print(\"Prediction   Original file name  Correct\\n\\n\")\n",
    "for i in range(44):\n",
    "    y_pred = model.predict(test_dataset[i].reshape(1, 50, 160, 1))\n",
    "    real = test_names[i][0:5]\n",
    "    comp = (real == get_result(y_pred))\n",
    "    print(get_result(y_pred) + \"          \" + str(test_names[i]) + \"      \" + str(comp))"
   ]
  },
  {
   "cell_type": "code",
   "execution_count": 309,
   "metadata": {},
   "outputs": [
    {
     "data": {
      "text/plain": [
       "'00003'"
      ]
     },
     "execution_count": 309,
     "metadata": {},
     "output_type": "execute_result"
    },
    {
     "data": {
      "image/png": "[encoded data removed]",
      "text/plain": [
       "<matplotlib.figure.Figure at 0x1f9321ff588>"
      ]
     },
     "metadata": {
      "image/png": {
       "height": 138,
       "width": 370
      }
     },
     "output_type": "display_data"
    }
   ],
   "source": [
    "%matplotlib inline\n",
    "plt.imshow(test_dataset[0,:,:,0], cmap = \"gray\")\n",
    "get_result(model.predict(test_dataset[0].reshape(1, 50, 160, 1)))"
   ]
  },
  {
   "cell_type": "code",
   "execution_count": 311,
   "metadata": {},
   "outputs": [],
   "source": [
    "model.save('models/score_v1.h5')"
   ]
  },
  {
   "cell_type": "markdown",
   "metadata": {},
   "source": [
    "Todo:\n",
    "Overfitting?"
   ]
  }
 ],
 "metadata": {
  "kernelspec": {
   "display_name": "Python 3",
   "language": "python",
   "name": "python3"
  },
  "language_info": {
   "codemirror_mode": {
    "name": "ipython",
    "version": 3
   },
   "file_extension": ".py",
   "mimetype": "text/x-python",
   "name": "python",
   "nbconvert_exporter": "python",
   "pygments_lexer": "ipython3",
   "version": "3.6.2"
  }
 },
 "nbformat": 4,
 "nbformat_minor": 2
}
