{
 "cells": [
  {
   "cell_type": "code",
   "execution_count": 1,
   "metadata": {},
   "outputs": [
    {
     "name": "stderr",
     "output_type": "stream",
     "text": [
      "C:\\ProgramData\\Anaconda3\\lib\\site-packages\\h5py\\__init__.py:34: FutureWarning: Conversion of the second argument of issubdtype from `float` to `np.floating` is deprecated. In future, it will be treated as `np.float64 == np.dtype(float).type`.\n",
      "  from ._conv import register_converters as _register_converters\n",
      "Using TensorFlow backend.\n"
     ]
    }
   ],
   "source": [
    "import tensorflow as tf\n",
    "import keras\n",
    "from keras import models\n",
    "from keras import optimizers\n",
    "from keras.preprocessing.image import ImageDataGenerator, array_to_img, img_to_array, load_img\n",
    "from keras.models import load_model, Model\n",
    "from keras.layers import *\n",
    "import os\n",
    "import sys\n",
    "import numpy as np\n",
    "from score_dataset_helpers import *"
   ]
  },
  {
   "cell_type": "code",
   "execution_count": 2,
   "metadata": {
    "collapsed": true
   },
   "outputs": [],
   "source": [
    "base_dir = 'C:/Users/bened/OneDrive/Arbeit/Lernen/python_training/data_dual_inputs/'\n",
    "train_dir = base_dir + 'train'\n",
    "validation_dir = base_dir + 'validation'\n",
    "test_dir = base_dir + 'test'"
   ]
  },
  {
   "cell_type": "markdown",
   "metadata": {},
   "source": [
    "## Define model"
   ]
  },
  {
   "cell_type": "code",
   "execution_count": 3,
   "metadata": {},
   "outputs": [],
   "source": [
    "f1, f2, f3 = 8,16,32\n",
    "k_size = (3,3)\n",
    "\n",
    "pics_input = Input(shape = (250, 75, 3))\n",
    "pics_c1 = Conv2D(filters = f1, kernel_size = k_size, activation = \"relu\")(pics_input)\n",
    "pics_m1 = MaxPooling2D((2,2))(pics_c1)\n",
    "pics_c2 = Conv2D(filters = f2, kernel_size = k_size, activation = \"relu\")(pics_m1)\n",
    "pics_m2 = MaxPooling2D((2,2))(pics_c2)\n",
    "pics_c3 = Conv2D(filters = f3, kernel_size = k_size, activation = \"relu\")(pics_m2)\n",
    "pics_m3 = MaxPooling2D((2,2))(pics_c3)\n",
    "pics_f = Flatten()(pics_m3)\n",
    "pics_d = Dense(512, activation = \"softmax\")(pics_f)\n",
    "\n",
    "nums_input = Input(shape = ([1]))\n",
    "nums_features = Dense(1, activation = \"softmax\")(nums_input)\n",
    "\n",
    "conc_layer = concatenate([pics_d, nums_features])\n",
    "dense_1 = Dense(10, activation = \"softmax\")(conc_layer)\n",
    "\n",
    "model = Model(inputs = [pics_input, nums_input], outputs = dense_1)"
   ]
  },
  {
   "cell_type": "code",
   "execution_count": 4,
   "metadata": {},
   "outputs": [
    {
     "name": "stdout",
     "output_type": "stream",
     "text": [
      "__________________________________________________________________________________________________\n",
      "Layer (type)                    Output Shape         Param #     Connected to                     \n",
      "==================================================================================================\n",
      "input_1 (InputLayer)            (None, 250, 75, 3)   0                                            \n",
      "__________________________________________________________________________________________________\n",
      "conv2d_1 (Conv2D)               (None, 248, 73, 8)   224         input_1[0][0]                    \n",
      "__________________________________________________________________________________________________\n",
      "max_pooling2d_1 (MaxPooling2D)  (None, 124, 36, 8)   0           conv2d_1[0][0]                   \n",
      "__________________________________________________________________________________________________\n",
      "conv2d_2 (Conv2D)               (None, 122, 34, 16)  1168        max_pooling2d_1[0][0]            \n",
      "__________________________________________________________________________________________________\n",
      "max_pooling2d_2 (MaxPooling2D)  (None, 61, 17, 16)   0           conv2d_2[0][0]                   \n",
      "__________________________________________________________________________________________________\n",
      "conv2d_3 (Conv2D)               (None, 59, 15, 32)   4640        max_pooling2d_2[0][0]            \n",
      "__________________________________________________________________________________________________\n",
      "max_pooling2d_3 (MaxPooling2D)  (None, 29, 7, 32)    0           conv2d_3[0][0]                   \n",
      "__________________________________________________________________________________________________\n",
      "flatten_1 (Flatten)             (None, 6496)         0           max_pooling2d_3[0][0]            \n",
      "__________________________________________________________________________________________________\n",
      "input_2 (InputLayer)            (None, 1)            0                                            \n",
      "__________________________________________________________________________________________________\n",
      "dense_1 (Dense)                 (None, 512)          3326464     flatten_1[0][0]                  \n",
      "__________________________________________________________________________________________________\n",
      "dense_2 (Dense)                 (None, 1)            2           input_2[0][0]                    \n",
      "__________________________________________________________________________________________________\n",
      "concatenate_1 (Concatenate)     (None, 513)          0           dense_1[0][0]                    \n",
      "                                                                 dense_2[0][0]                    \n",
      "__________________________________________________________________________________________________\n",
      "dense_3 (Dense)                 (None, 10)           5140        concatenate_1[0][0]              \n",
      "==================================================================================================\n",
      "Total params: 3,337,638\n",
      "Trainable params: 3,337,638\n",
      "Non-trainable params: 0\n",
      "__________________________________________________________________________________________________\n"
     ]
    }
   ],
   "source": [
    "model.summary()"
   ]
  },
  {
   "cell_type": "markdown",
   "metadata": {},
   "source": [
    "## Create vectors of scores from pictures"
   ]
  },
  {
   "cell_type": "code",
   "execution_count": 5,
   "metadata": {},
   "outputs": [],
   "source": [
    "train_scores = train_dir + \"/score\"\n",
    "\n",
    "#valid_scores_up = validation_dir + \"/up/score\"\n",
    "\n",
    "#test_scores_up = test_dir + \"/up/score\""
   ]
  },
  {
   "cell_type": "code",
   "execution_count": 6,
   "metadata": {},
   "outputs": [],
   "source": [
    "train_names = [f for f in os.listdir(train_scores)]\n",
    "#train_names_right = [f for f in os.listdir(train_scores_right)]\n",
    "\n",
    "#valid_names_up = [f for f in os.listdir(valid_scores_up)]\n",
    "#valid_names_right = [f for f in os.listdir(valid_scores_right)]\n",
    "\n",
    "#test_names_up = [f for f in os.listdir(test_scores_up)]\n",
    "#test_names_right = [f for f in os.listdir(test_scores_right)]"
   ]
  },
  {
   "cell_type": "code",
   "execution_count": 7,
   "metadata": {},
   "outputs": [
    {
     "name": "stdout",
     "output_type": "stream",
     "text": [
      "91 training files\n"
     ]
    }
   ],
   "source": [
    "print(str(len(train_names)) + \" training files\")\n",
    "#print(str(len(train_names_right)) + \" training files right\")\n",
    "\n",
    "#print(str(len(valid_names_up)) + \" validation files up\")\n",
    "#print(str(len(valid_names_right)) + \" validation files right\")\n",
    "\n",
    "#print(str(len(test_names_up)) + \" test files up\")\n",
    "#print(str(len(test_names_right)) + \" test files right\")"
   ]
  },
  {
   "cell_type": "code",
   "execution_count": 10,
   "metadata": {},
   "outputs": [],
   "source": [
    "train_dataset = create_dataset(\"score\", train_names, base_dir + \"train/\")\n",
    "#validation_dataset = create_dataset(\"validation/score\", valid_names)\n",
    "#test_dataset = create_dataset(\"test/score\", test_names)"
   ]
  },
  {
   "cell_type": "code",
   "execution_count": 17,
   "metadata": {
    "collapsed": true
   },
   "outputs": [],
   "source": [
    "def get_result(result):\n",
    "    resultstr = ''\n",
    "    for i in range(5):\n",
    "        resultstr += str(np.argmax(result[i]))\n",
    "    return resultstr"
   ]
  },
  {
   "cell_type": "code",
   "execution_count": 15,
   "metadata": {
    "collapsed": true
   },
   "outputs": [],
   "source": [
    "score_model = load_model(\"C:/Users/bened/OneDrive/Arbeit/Lernen/python_training/models/score_v2.h5\")"
   ]
  },
  {
   "cell_type": "code",
   "execution_count": 21,
   "metadata": {},
   "outputs": [
    {
     "name": "stdout",
     "output_type": "stream",
     "text": [
      "00061    10.png\n",
      "00497    100.png\n",
      "00066    11.png\n",
      "00070    12.png\n",
      "00073    13.png\n",
      "00078    14.png\n",
      "00082    15.png\n",
      "00087    16.png\n",
      "00091    17.png\n",
      "00093    18.png\n",
      "00098    19.png\n",
      "00021    2.png\n",
      "00100    23.png\n",
      "00100    24.png\n",
      "00123    25.png\n",
      "00128    26.png\n",
      "00131    27.png\n",
      "00137    28.png\n",
      "00142    29.png\n",
      "00027    3.png\n",
      "00145    30.png\n",
      "00148    31.png\n",
      "00154    32.png\n",
      "00158    33.png\n",
      "00162    34.png\n",
      "00167    35.png\n",
      "00172    36.png\n",
      "00177    37.png\n",
      "00180    38.png\n",
      "00187    39.png\n",
      "00032    4.png\n",
      "00192    40.png\n",
      "00195    41.png\n",
      "00198    42.png\n",
      "00200    43.png\n",
      "00200    44.png\n",
      "00200    47.png\n",
      "00226    48.png\n",
      "00229    49.png\n",
      "00038    5.png\n",
      "00234    50.png\n",
      "00238    51.png\n",
      "00239    52.png\n",
      "00256    53.png\n",
      "00263    54.png\n",
      "00265    55.png\n",
      "00270    56.png\n",
      "00273    57.png\n",
      "00279    58.png\n",
      "00283    59.png\n",
      "00042    6.png\n",
      "00287    60.png\n",
      "00291    61.png\n",
      "00296    62.png\n",
      "00299    63.png\n",
      "00300    65.png\n",
      "00300    67.png\n",
      "00324    68.png\n",
      "00329    69.png\n",
      "00045    7.png\n",
      "00331    70.png\n",
      "00338    71.png\n",
      "00343    72.png\n",
      "00349    73.png\n",
      "00358    74.png\n",
      "00367    75.png\n",
      "00374    76.png\n",
      "00378    77.png\n",
      "00382    78.png\n",
      "00385    79.png\n",
      "00051    8.png\n",
      "00392    80.png\n",
      "00396    81.png\n",
      "00398    82.png\n",
      "00400    83.png\n",
      "00400    84.png\n",
      "00400    85.png\n",
      "00400    87.png\n",
      "00429    88.png\n",
      "00436    89.png\n",
      "00056    9.png\n",
      "00440    90.png\n",
      "00442    91.png\n",
      "00450    92.png\n",
      "00458    93.png\n",
      "00462    94.png\n",
      "00468    95.png\n",
      "00476    96.png\n",
      "00481    97.png\n",
      "00485    98.png\n",
      "00492    99.png\n"
     ]
    }
   ],
   "source": [
    "for i in range(len(train_names)):\n",
    "    y_pred = score_model.predict(train_dataset[i].reshape(1, 50, 160, 1))\n",
    "    print(get_result(y_pred) + \"    \" + str(train_names[i]))\n",
    "\n",
    "#TODO: sort files non-alphabetical in order to create vector for scores.\n",
    "#Create input dataset for dual model: pic_as_array, score, label"
   ]
  },
  {
   "cell_type": "code",
   "execution_count": null,
   "metadata": {
    "collapsed": true
   },
   "outputs": [],
   "source": []
  },
  {
   "cell_type": "code",
   "execution_count": null,
   "metadata": {
    "collapsed": true
   },
   "outputs": [],
   "source": []
  },
  {
   "cell_type": "code",
   "execution_count": null,
   "metadata": {
    "collapsed": true
   },
   "outputs": [],
   "source": []
  },
  {
   "cell_type": "code",
   "execution_count": null,
   "metadata": {
    "collapsed": true
   },
   "outputs": [],
   "source": []
  },
  {
   "cell_type": "code",
   "execution_count": null,
   "metadata": {
    "collapsed": true
   },
   "outputs": [],
   "source": []
  },
  {
   "cell_type": "code",
   "execution_count": null,
   "metadata": {
    "collapsed": true
   },
   "outputs": [],
   "source": []
  },
  {
   "cell_type": "code",
   "execution_count": null,
   "metadata": {
    "collapsed": true
   },
   "outputs": [],
   "source": []
  },
  {
   "cell_type": "code",
   "execution_count": null,
   "metadata": {},
   "outputs": [],
   "source": []
  },
  {
   "cell_type": "code",
   "execution_count": null,
   "metadata": {},
   "outputs": [],
   "source": []
  },
  {
   "cell_type": "code",
   "execution_count": 12,
   "metadata": {},
   "outputs": [
    {
     "data": {
      "text/plain": [
       "['10.png',\n",
       " '100.png',\n",
       " '11.png',\n",
       " '12.png',\n",
       " '13.png',\n",
       " '14.png',\n",
       " '15.png',\n",
       " '16.png',\n",
       " '17.png',\n",
       " '18.png',\n",
       " '19.png',\n",
       " '2.png',\n",
       " '23.png',\n",
       " '24.png',\n",
       " '25.png',\n",
       " '26.png',\n",
       " '27.png',\n",
       " '28.png',\n",
       " '29.png',\n",
       " '3.png',\n",
       " '30.png',\n",
       " '31.png',\n",
       " '32.png',\n",
       " '33.png',\n",
       " '34.png',\n",
       " '35.png',\n",
       " '36.png',\n",
       " '37.png',\n",
       " '38.png',\n",
       " '39.png',\n",
       " '4.png',\n",
       " '40.png',\n",
       " '41.png',\n",
       " '42.png',\n",
       " '43.png',\n",
       " '44.png',\n",
       " '47.png',\n",
       " '48.png',\n",
       " '49.png',\n",
       " '5.png',\n",
       " '50.png',\n",
       " '51.png',\n",
       " '52.png',\n",
       " '53.png',\n",
       " '54.png',\n",
       " '55.png',\n",
       " '56.png',\n",
       " '57.png',\n",
       " '58.png',\n",
       " '59.png',\n",
       " '6.png',\n",
       " '60.png',\n",
       " '61.png',\n",
       " '62.png',\n",
       " '63.png',\n",
       " '65.png',\n",
       " '67.png',\n",
       " '68.png',\n",
       " '69.png',\n",
       " '7.png',\n",
       " '70.png',\n",
       " '71.png',\n",
       " '72.png',\n",
       " '73.png',\n",
       " '74.png',\n",
       " '75.png',\n",
       " '76.png',\n",
       " '77.png',\n",
       " '78.png',\n",
       " '79.png',\n",
       " '8.png',\n",
       " '80.png',\n",
       " '81.png',\n",
       " '82.png',\n",
       " '83.png',\n",
       " '84.png',\n",
       " '85.png',\n",
       " '87.png',\n",
       " '88.png',\n",
       " '89.png',\n",
       " '9.png',\n",
       " '90.png',\n",
       " '91.png',\n",
       " '92.png',\n",
       " '93.png',\n",
       " '94.png',\n",
       " '95.png',\n",
       " '96.png',\n",
       " '97.png',\n",
       " '98.png',\n",
       " '99.png']"
      ]
     },
     "execution_count": 12,
     "metadata": {},
     "output_type": "execute_result"
    }
   ],
   "source": [
    "train_names"
   ]
  },
  {
   "cell_type": "code",
   "execution_count": null,
   "metadata": {
    "collapsed": true
   },
   "outputs": [],
   "source": []
  },
  {
   "cell_type": "code",
   "execution_count": null,
   "metadata": {
    "collapsed": true
   },
   "outputs": [],
   "source": []
  }
 ],
 "metadata": {
  "kernelspec": {
   "display_name": "Python 3",
   "language": "python",
   "name": "python3"
  },
  "language_info": {
   "codemirror_mode": {
    "name": "ipython",
    "version": 3
   },
   "file_extension": ".py",
   "mimetype": "text/x-python",
   "name": "python",
   "nbconvert_exporter": "python",
   "pygments_lexer": "ipython3",
   "version": "3.6.2"
  }
 },
 "nbformat": 4,
 "nbformat_minor": 2
}
