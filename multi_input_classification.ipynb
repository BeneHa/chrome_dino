{
 "cells": [
  {
   "cell_type": "code",
   "execution_count": 1,
   "metadata": {},
   "outputs": [
    {
     "name": "stderr",
     "output_type": "stream",
     "text": [
      "C:\\ProgramData\\Anaconda3\\lib\\site-packages\\h5py\\__init__.py:34: FutureWarning: Conversion of the second argument of issubdtype from `float` to `np.floating` is deprecated. In future, it will be treated as `np.float64 == np.dtype(float).type`.\n",
      "  from ._conv import register_converters as _register_converters\n",
      "Using TensorFlow backend.\n"
     ]
    }
   ],
   "source": [
    "import tensorflow as tf\n",
    "import keras\n",
    "from keras import models\n",
    "from keras import optimizers\n",
    "from keras.preprocessing.image import ImageDataGenerator, array_to_img, img_to_array, load_img\n",
    "from keras.models import load_model, Model\n",
    "from keras.layers import *\n",
    "import os\n",
    "import sys\n",
    "import numpy as np\n",
    "from score_dataset_helpers import *\n",
    "import pandas as pd"
   ]
  },
  {
   "cell_type": "code",
   "execution_count": 2,
   "metadata": {
    "collapsed": true
   },
   "outputs": [],
   "source": [
    "base_dir = 'C:/Users/bened/OneDrive/Arbeit/Lernen/python_training/data_dual_inputs/'\n",
    "train_dir = base_dir + 'train'\n",
    "validation_dir = base_dir + 'validation'\n",
    "test_dir = base_dir + 'test'"
   ]
  },
  {
   "cell_type": "markdown",
   "metadata": {},
   "source": [
    "## Define model"
   ]
  },
  {
   "cell_type": "code",
   "execution_count": 114,
   "metadata": {},
   "outputs": [],
   "source": [
    "f1, f2, f3 = 8,16,32\n",
    "k_size = (3,3)\n",
    "\n",
    "pics_input = Input(shape = (75, 250, 3))\n",
    "pics_c1 = Conv2D(filters = f1, kernel_size = k_size, activation = \"relu\")(pics_input)\n",
    "pics_m1 = MaxPooling2D(k_size)(pics_c1)\n",
    "pics_c2 = Conv2D(filters = f2, kernel_size = k_size, activation = \"relu\")(pics_m1)\n",
    "pics_m2 = MaxPooling2D(k_size)(pics_c2)\n",
    "pics_c3 = Conv2D(filters = f3, kernel_size = k_size, activation = \"relu\")(pics_m2)\n",
    "pics_m3 = MaxPooling2D((2,2))(pics_c3)\n",
    "pics_f = Flatten()(pics_m3)\n",
    "pics_d = Dense(265, activation = \"softmax\")(pics_f)\n",
    "\n",
    "nums_input = Input(shape = ([1]))\n",
    "nums_features = Dense(10, activation = \"softmax\")(nums_input)\n",
    "\n",
    "conc_layer = concatenate([pics_d, nums_features])\n",
    "dense_1 = Dense(50, activation = \"softmax\")(conc_layer)\n",
    "dense_2 = Dense(1, activation = \"softmax\")(dense_1)\n",
    "\n",
    "model = Model(inputs = [pics_input, nums_input], outputs = dense_2)\n",
    "model.compile(loss = \"binary_crossentropy\", optimizer = \"sgd\", metrics = [\"accuracy\"])"
   ]
  },
  {
   "cell_type": "code",
   "execution_count": 115,
   "metadata": {
    "scrolled": true
   },
   "outputs": [
    {
     "name": "stdout",
     "output_type": "stream",
     "text": [
      "__________________________________________________________________________________________________\n",
      "Layer (type)                    Output Shape         Param #     Connected to                     \n",
      "==================================================================================================\n",
      "input_21 (InputLayer)           (None, 75, 250, 3)   0                                            \n",
      "__________________________________________________________________________________________________\n",
      "conv2d_31 (Conv2D)              (None, 73, 248, 8)   224         input_21[0][0]                   \n",
      "__________________________________________________________________________________________________\n",
      "max_pooling2d_31 (MaxPooling2D) (None, 24, 82, 8)    0           conv2d_31[0][0]                  \n",
      "__________________________________________________________________________________________________\n",
      "conv2d_32 (Conv2D)              (None, 22, 80, 16)   1168        max_pooling2d_31[0][0]           \n",
      "__________________________________________________________________________________________________\n",
      "max_pooling2d_32 (MaxPooling2D) (None, 7, 26, 16)    0           conv2d_32[0][0]                  \n",
      "__________________________________________________________________________________________________\n",
      "conv2d_33 (Conv2D)              (None, 5, 24, 32)    4640        max_pooling2d_32[0][0]           \n",
      "__________________________________________________________________________________________________\n",
      "max_pooling2d_33 (MaxPooling2D) (None, 2, 12, 32)    0           conv2d_33[0][0]                  \n",
      "__________________________________________________________________________________________________\n",
      "flatten_11 (Flatten)            (None, 768)          0           max_pooling2d_33[0][0]           \n",
      "__________________________________________________________________________________________________\n",
      "input_22 (InputLayer)           (None, 1)            0                                            \n",
      "__________________________________________________________________________________________________\n",
      "dense_39 (Dense)                (None, 265)          203785      flatten_11[0][0]                 \n",
      "__________________________________________________________________________________________________\n",
      "dense_40 (Dense)                (None, 10)           20          input_22[0][0]                   \n",
      "__________________________________________________________________________________________________\n",
      "concatenate_11 (Concatenate)    (None, 275)          0           dense_39[0][0]                   \n",
      "                                                                 dense_40[0][0]                   \n",
      "__________________________________________________________________________________________________\n",
      "dense_41 (Dense)                (None, 50)           13800       concatenate_11[0][0]             \n",
      "__________________________________________________________________________________________________\n",
      "dense_42 (Dense)                (None, 1)            51          dense_41[0][0]                   \n",
      "==================================================================================================\n",
      "Total params: 223,688\n",
      "Trainable params: 223,688\n",
      "Non-trainable params: 0\n",
      "__________________________________________________________________________________________________\n"
     ]
    }
   ],
   "source": [
    "model.summary()"
   ]
  },
  {
   "cell_type": "markdown",
   "metadata": {},
   "source": [
    "## Create vectors of scores from pictures"
   ]
  },
  {
   "cell_type": "code",
   "execution_count": 133,
   "metadata": {
    "collapsed": true
   },
   "outputs": [],
   "source": [
    "train_scores = train_dir + \"/score\"\n",
    "train_pics = train_dir + \"/pics\"\n",
    "\n",
    "#valid_scores_up = validation_dir + \"/up/score\"\n",
    "\n",
    "#test_scores_up = test_dir + \"/up/score\""
   ]
  },
  {
   "cell_type": "code",
   "execution_count": 134,
   "metadata": {
    "collapsed": true
   },
   "outputs": [],
   "source": [
    "train_names_scores = [f for f in os.listdir(train_scores)]\n",
    "train_names_pics = [f for f in os.listdir(train_pics)]\n",
    "\n",
    "#valid_names_up = [f for f in os.listdir(valid_scores_up)]\n",
    "\n",
    "#test_names_up = [f for f in os.listdir(test_scores_up)]"
   ]
  },
  {
   "cell_type": "code",
   "execution_count": 135,
   "metadata": {},
   "outputs": [
    {
     "name": "stdout",
     "output_type": "stream",
     "text": [
      "517 training files for scores\n",
      "517 training files for pictures\n"
     ]
    }
   ],
   "source": [
    "print(str(len(train_names_scores)) + \" training files for scores\")\n",
    "print(str(len(train_names_pics)) + \" training files for pictures\")\n",
    "\n",
    "#print(str(len(valid_names_up)) + \" validation files up\")\n",
    "\n",
    "#print(str(len(test_names_up)) + \" test files up\")"
   ]
  },
  {
   "cell_type": "code",
   "execution_count": 136,
   "metadata": {
    "collapsed": true
   },
   "outputs": [],
   "source": [
    "train_dataset_score = create_dataset(\"score\", train_names_scores, base_dir + \"train/\")\n",
    "#validation_dataset = create_dataset(\"validation/score\", valid_names)\n",
    "#test_dataset = create_dataset(\"test/score\", test_names)"
   ]
  },
  {
   "cell_type": "code",
   "execution_count": 137,
   "metadata": {
    "collapsed": true
   },
   "outputs": [],
   "source": [
    "def get_result(result):\n",
    "    resultstr = ''\n",
    "    for i in range(5):\n",
    "        resultstr += str(np.argmax(result[i]))\n",
    "    return resultstr"
   ]
  },
  {
   "cell_type": "code",
   "execution_count": 138,
   "metadata": {
    "collapsed": true
   },
   "outputs": [],
   "source": [
    "score_model = load_model(\"C:/Users/bened/OneDrive/Arbeit/Lernen/python_training/models/score_v2.h5\")"
   ]
  },
  {
   "cell_type": "code",
   "execution_count": 139,
   "metadata": {},
   "outputs": [],
   "source": [
    "#Create vectors for scores and for labels\n",
    "score_vec = []\n",
    "for i in range(len(train_names_scores)):\n",
    "    y_pred = score_model.predict(train_dataset_score[i].reshape(1, 50, 160, 1))\n",
    "    score_vec.append(get_result(y_pred))\n",
    "\n",
    "label_vec = ['up' in x for x in train_names_pics]\n",
    "label_vec = np.array(label_vec)\n",
    "label_array = label_vec.astype(int)"
   ]
  },
  {
   "cell_type": "code",
   "execution_count": 140,
   "metadata": {
    "scrolled": true
   },
   "outputs": [
    {
     "data": {
      "text/html": [
       "<div>\n",
       "<style>\n",
       "    .dataframe thead tr:only-child th {\n",
       "        text-align: right;\n",
       "    }\n",
       "\n",
       "    .dataframe thead th {\n",
       "        text-align: left;\n",
       "    }\n",
       "\n",
       "    .dataframe tbody tr th {\n",
       "        vertical-align: top;\n",
       "    }\n",
       "</style>\n",
       "<table border=\"1\" class=\"dataframe\">\n",
       "  <thead>\n",
       "    <tr style=\"text-align: right;\">\n",
       "      <th></th>\n",
       "      <th>label</th>\n",
       "      <th>orig_name</th>\n",
       "      <th>score</th>\n",
       "    </tr>\n",
       "  </thead>\n",
       "  <tbody>\n",
       "    <tr>\n",
       "      <th>0</th>\n",
       "      <td>False</td>\n",
       "      <td>right_1.png</td>\n",
       "      <td>00008</td>\n",
       "    </tr>\n",
       "    <tr>\n",
       "      <th>1</th>\n",
       "      <td>False</td>\n",
       "      <td>right_10.png</td>\n",
       "      <td>00073</td>\n",
       "    </tr>\n",
       "    <tr>\n",
       "      <th>2</th>\n",
       "      <td>False</td>\n",
       "      <td>right_100.png</td>\n",
       "      <td>00172</td>\n",
       "    </tr>\n",
       "    <tr>\n",
       "      <th>3</th>\n",
       "      <td>False</td>\n",
       "      <td>right_101.png</td>\n",
       "      <td>00185</td>\n",
       "    </tr>\n",
       "    <tr>\n",
       "      <th>4</th>\n",
       "      <td>False</td>\n",
       "      <td>right_102.png</td>\n",
       "      <td>00190</td>\n",
       "    </tr>\n",
       "    <tr>\n",
       "      <th>5</th>\n",
       "      <td>False</td>\n",
       "      <td>right_105.png</td>\n",
       "      <td>00200</td>\n",
       "    </tr>\n",
       "    <tr>\n",
       "      <th>6</th>\n",
       "      <td>False</td>\n",
       "      <td>right_106.png</td>\n",
       "      <td>00200</td>\n",
       "    </tr>\n",
       "    <tr>\n",
       "      <th>7</th>\n",
       "      <td>False</td>\n",
       "      <td>right_107.png</td>\n",
       "      <td>00226</td>\n",
       "    </tr>\n",
       "    <tr>\n",
       "      <th>8</th>\n",
       "      <td>False</td>\n",
       "      <td>right_108.png</td>\n",
       "      <td>00238</td>\n",
       "    </tr>\n",
       "    <tr>\n",
       "      <th>9</th>\n",
       "      <td>False</td>\n",
       "      <td>right_109.png</td>\n",
       "      <td>00243</td>\n",
       "    </tr>\n",
       "    <tr>\n",
       "      <th>10</th>\n",
       "      <td>False</td>\n",
       "      <td>right_11.png</td>\n",
       "      <td>00089</td>\n",
       "    </tr>\n",
       "    <tr>\n",
       "      <th>11</th>\n",
       "      <td>False</td>\n",
       "      <td>right_110.png</td>\n",
       "      <td>00254</td>\n",
       "    </tr>\n",
       "    <tr>\n",
       "      <th>12</th>\n",
       "      <td>False</td>\n",
       "      <td>right_111.png</td>\n",
       "      <td>00261</td>\n",
       "    </tr>\n",
       "    <tr>\n",
       "      <th>13</th>\n",
       "      <td>False</td>\n",
       "      <td>right_112.png</td>\n",
       "      <td>00271</td>\n",
       "    </tr>\n",
       "    <tr>\n",
       "      <th>14</th>\n",
       "      <td>False</td>\n",
       "      <td>right_113.png</td>\n",
       "      <td>00277</td>\n",
       "    </tr>\n",
       "    <tr>\n",
       "      <th>15</th>\n",
       "      <td>False</td>\n",
       "      <td>right_114.png</td>\n",
       "      <td>00289</td>\n",
       "    </tr>\n",
       "    <tr>\n",
       "      <th>16</th>\n",
       "      <td>False</td>\n",
       "      <td>right_115.png</td>\n",
       "      <td>00295</td>\n",
       "    </tr>\n",
       "    <tr>\n",
       "      <th>17</th>\n",
       "      <td>False</td>\n",
       "      <td>right_118.png</td>\n",
       "      <td>00300</td>\n",
       "    </tr>\n",
       "    <tr>\n",
       "      <th>18</th>\n",
       "      <td>False</td>\n",
       "      <td>right_119.png</td>\n",
       "      <td>00334</td>\n",
       "    </tr>\n",
       "    <tr>\n",
       "      <th>19</th>\n",
       "      <td>False</td>\n",
       "      <td>right_12.png</td>\n",
       "      <td>00098</td>\n",
       "    </tr>\n",
       "    <tr>\n",
       "      <th>20</th>\n",
       "      <td>False</td>\n",
       "      <td>right_120.png</td>\n",
       "      <td>00340</td>\n",
       "    </tr>\n",
       "    <tr>\n",
       "      <th>21</th>\n",
       "      <td>False</td>\n",
       "      <td>right_121.png</td>\n",
       "      <td>00352</td>\n",
       "    </tr>\n",
       "    <tr>\n",
       "      <th>22</th>\n",
       "      <td>False</td>\n",
       "      <td>right_122.png</td>\n",
       "      <td>00358</td>\n",
       "    </tr>\n",
       "    <tr>\n",
       "      <th>23</th>\n",
       "      <td>False</td>\n",
       "      <td>right_123.png</td>\n",
       "      <td>00368</td>\n",
       "    </tr>\n",
       "    <tr>\n",
       "      <th>24</th>\n",
       "      <td>False</td>\n",
       "      <td>right_124.png</td>\n",
       "      <td>00373</td>\n",
       "    </tr>\n",
       "    <tr>\n",
       "      <th>25</th>\n",
       "      <td>False</td>\n",
       "      <td>right_125.png</td>\n",
       "      <td>00383</td>\n",
       "    </tr>\n",
       "    <tr>\n",
       "      <th>26</th>\n",
       "      <td>False</td>\n",
       "      <td>right_126.png</td>\n",
       "      <td>00396</td>\n",
       "    </tr>\n",
       "    <tr>\n",
       "      <th>27</th>\n",
       "      <td>False</td>\n",
       "      <td>right_130.png</td>\n",
       "      <td>00429</td>\n",
       "    </tr>\n",
       "    <tr>\n",
       "      <th>28</th>\n",
       "      <td>False</td>\n",
       "      <td>right_131.png</td>\n",
       "      <td>00439</td>\n",
       "    </tr>\n",
       "    <tr>\n",
       "      <th>29</th>\n",
       "      <td>False</td>\n",
       "      <td>right_132.png</td>\n",
       "      <td>00445</td>\n",
       "    </tr>\n",
       "    <tr>\n",
       "      <th>...</th>\n",
       "      <td>...</td>\n",
       "      <td>...</td>\n",
       "      <td>...</td>\n",
       "    </tr>\n",
       "    <tr>\n",
       "      <th>487</th>\n",
       "      <td>True</td>\n",
       "      <td>up_6.png</td>\n",
       "      <td>00084</td>\n",
       "    </tr>\n",
       "    <tr>\n",
       "      <th>488</th>\n",
       "      <td>True</td>\n",
       "      <td>up_60.png</td>\n",
       "      <td>00194</td>\n",
       "    </tr>\n",
       "    <tr>\n",
       "      <th>489</th>\n",
       "      <td>True</td>\n",
       "      <td>up_61.png</td>\n",
       "      <td>00199</td>\n",
       "    </tr>\n",
       "    <tr>\n",
       "      <th>490</th>\n",
       "      <td>True</td>\n",
       "      <td>up_63.png</td>\n",
       "      <td>00231</td>\n",
       "    </tr>\n",
       "    <tr>\n",
       "      <th>491</th>\n",
       "      <td>True</td>\n",
       "      <td>up_64.png</td>\n",
       "      <td>00248</td>\n",
       "    </tr>\n",
       "    <tr>\n",
       "      <th>492</th>\n",
       "      <td>True</td>\n",
       "      <td>up_65.png</td>\n",
       "      <td>00265</td>\n",
       "    </tr>\n",
       "    <tr>\n",
       "      <th>493</th>\n",
       "      <td>True</td>\n",
       "      <td>up_66.png</td>\n",
       "      <td>00283</td>\n",
       "    </tr>\n",
       "    <tr>\n",
       "      <th>494</th>\n",
       "      <td>True</td>\n",
       "      <td>up_68.png</td>\n",
       "      <td>00300</td>\n",
       "    </tr>\n",
       "    <tr>\n",
       "      <th>495</th>\n",
       "      <td>True</td>\n",
       "      <td>up_69.png</td>\n",
       "      <td>00326</td>\n",
       "    </tr>\n",
       "    <tr>\n",
       "      <th>496</th>\n",
       "      <td>True</td>\n",
       "      <td>up_7.png</td>\n",
       "      <td>00093</td>\n",
       "    </tr>\n",
       "    <tr>\n",
       "      <th>497</th>\n",
       "      <td>True</td>\n",
       "      <td>up_70.png</td>\n",
       "      <td>00344</td>\n",
       "    </tr>\n",
       "    <tr>\n",
       "      <th>498</th>\n",
       "      <td>True</td>\n",
       "      <td>up_71.png</td>\n",
       "      <td>00361</td>\n",
       "    </tr>\n",
       "    <tr>\n",
       "      <th>499</th>\n",
       "      <td>True</td>\n",
       "      <td>up_72.png</td>\n",
       "      <td>00376</td>\n",
       "    </tr>\n",
       "    <tr>\n",
       "      <th>500</th>\n",
       "      <td>True</td>\n",
       "      <td>up_73.png</td>\n",
       "      <td>00389</td>\n",
       "    </tr>\n",
       "    <tr>\n",
       "      <th>501</th>\n",
       "      <td>True</td>\n",
       "      <td>up_75.png</td>\n",
       "      <td>00400</td>\n",
       "    </tr>\n",
       "    <tr>\n",
       "      <th>502</th>\n",
       "      <td>True</td>\n",
       "      <td>up_76.png</td>\n",
       "      <td>00433</td>\n",
       "    </tr>\n",
       "    <tr>\n",
       "      <th>503</th>\n",
       "      <td>True</td>\n",
       "      <td>up_77.png</td>\n",
       "      <td>00450</td>\n",
       "    </tr>\n",
       "    <tr>\n",
       "      <th>504</th>\n",
       "      <td>True</td>\n",
       "      <td>up_78.png</td>\n",
       "      <td>00467</td>\n",
       "    </tr>\n",
       "    <tr>\n",
       "      <th>505</th>\n",
       "      <td>True</td>\n",
       "      <td>up_79.png</td>\n",
       "      <td>00483</td>\n",
       "    </tr>\n",
       "    <tr>\n",
       "      <th>506</th>\n",
       "      <td>True</td>\n",
       "      <td>up_82.png</td>\n",
       "      <td>00500</td>\n",
       "    </tr>\n",
       "    <tr>\n",
       "      <th>507</th>\n",
       "      <td>True</td>\n",
       "      <td>up_83.png</td>\n",
       "      <td>00528</td>\n",
       "    </tr>\n",
       "    <tr>\n",
       "      <th>508</th>\n",
       "      <td>True</td>\n",
       "      <td>up_84.png</td>\n",
       "      <td>00544</td>\n",
       "    </tr>\n",
       "    <tr>\n",
       "      <th>509</th>\n",
       "      <td>True</td>\n",
       "      <td>up_85.png</td>\n",
       "      <td>00560</td>\n",
       "    </tr>\n",
       "    <tr>\n",
       "      <th>510</th>\n",
       "      <td>True</td>\n",
       "      <td>up_86.png</td>\n",
       "      <td>00577</td>\n",
       "    </tr>\n",
       "    <tr>\n",
       "      <th>511</th>\n",
       "      <td>True</td>\n",
       "      <td>up_87.png</td>\n",
       "      <td>00594</td>\n",
       "    </tr>\n",
       "    <tr>\n",
       "      <th>512</th>\n",
       "      <td>True</td>\n",
       "      <td>up_9.png</td>\n",
       "      <td>00100</td>\n",
       "    </tr>\n",
       "    <tr>\n",
       "      <th>513</th>\n",
       "      <td>True</td>\n",
       "      <td>up_90.png</td>\n",
       "      <td>00635</td>\n",
       "    </tr>\n",
       "    <tr>\n",
       "      <th>514</th>\n",
       "      <td>True</td>\n",
       "      <td>up_91.png</td>\n",
       "      <td>00645</td>\n",
       "    </tr>\n",
       "    <tr>\n",
       "      <th>515</th>\n",
       "      <td>True</td>\n",
       "      <td>up_92.png</td>\n",
       "      <td>00653</td>\n",
       "    </tr>\n",
       "    <tr>\n",
       "      <th>516</th>\n",
       "      <td>True</td>\n",
       "      <td>up_93.png</td>\n",
       "      <td>00669</td>\n",
       "    </tr>\n",
       "  </tbody>\n",
       "</table>\n",
       "<p>517 rows × 3 columns</p>\n",
       "</div>"
      ],
      "text/plain": [
       "     label      orig_name  score\n",
       "0    False    right_1.png  00008\n",
       "1    False   right_10.png  00073\n",
       "2    False  right_100.png  00172\n",
       "3    False  right_101.png  00185\n",
       "4    False  right_102.png  00190\n",
       "5    False  right_105.png  00200\n",
       "6    False  right_106.png  00200\n",
       "7    False  right_107.png  00226\n",
       "8    False  right_108.png  00238\n",
       "9    False  right_109.png  00243\n",
       "10   False   right_11.png  00089\n",
       "11   False  right_110.png  00254\n",
       "12   False  right_111.png  00261\n",
       "13   False  right_112.png  00271\n",
       "14   False  right_113.png  00277\n",
       "15   False  right_114.png  00289\n",
       "16   False  right_115.png  00295\n",
       "17   False  right_118.png  00300\n",
       "18   False  right_119.png  00334\n",
       "19   False   right_12.png  00098\n",
       "20   False  right_120.png  00340\n",
       "21   False  right_121.png  00352\n",
       "22   False  right_122.png  00358\n",
       "23   False  right_123.png  00368\n",
       "24   False  right_124.png  00373\n",
       "25   False  right_125.png  00383\n",
       "26   False  right_126.png  00396\n",
       "27   False  right_130.png  00429\n",
       "28   False  right_131.png  00439\n",
       "29   False  right_132.png  00445\n",
       "..     ...            ...    ...\n",
       "487   True       up_6.png  00084\n",
       "488   True      up_60.png  00194\n",
       "489   True      up_61.png  00199\n",
       "490   True      up_63.png  00231\n",
       "491   True      up_64.png  00248\n",
       "492   True      up_65.png  00265\n",
       "493   True      up_66.png  00283\n",
       "494   True      up_68.png  00300\n",
       "495   True      up_69.png  00326\n",
       "496   True       up_7.png  00093\n",
       "497   True      up_70.png  00344\n",
       "498   True      up_71.png  00361\n",
       "499   True      up_72.png  00376\n",
       "500   True      up_73.png  00389\n",
       "501   True      up_75.png  00400\n",
       "502   True      up_76.png  00433\n",
       "503   True      up_77.png  00450\n",
       "504   True      up_78.png  00467\n",
       "505   True      up_79.png  00483\n",
       "506   True      up_82.png  00500\n",
       "507   True      up_83.png  00528\n",
       "508   True      up_84.png  00544\n",
       "509   True      up_85.png  00560\n",
       "510   True      up_86.png  00577\n",
       "511   True      up_87.png  00594\n",
       "512   True       up_9.png  00100\n",
       "513   True      up_90.png  00635\n",
       "514   True      up_91.png  00645\n",
       "515   True      up_92.png  00653\n",
       "516   True      up_93.png  00669\n",
       "\n",
       "[517 rows x 3 columns]"
      ]
     },
     "execution_count": 140,
     "metadata": {},
     "output_type": "execute_result"
    }
   ],
   "source": [
    "print_dat = pd.DataFrame({'score' : score_vec, 'label' : label_vec, 'orig_name' : train_names_scores})\n",
    "print_dat"
   ]
  },
  {
   "cell_type": "code",
   "execution_count": 141,
   "metadata": {},
   "outputs": [
    {
     "data": {
      "text/plain": [
       "(75, 250, 3)"
      ]
     },
     "execution_count": 141,
     "metadata": {},
     "output_type": "execute_result"
    }
   ],
   "source": [
    "x = load_img(train_pics + \"/\" + train_names_pics[1], target_size = (75, 250))\n",
    "x = img_to_array(x)\n",
    "x.shape\n"
   ]
  },
  {
   "cell_type": "code",
   "execution_count": 142,
   "metadata": {
    "collapsed": true
   },
   "outputs": [],
   "source": [
    "pic_array = np.zeros((len(train_names_pics), 75, 250, 3))\n",
    "\n",
    "for i in range(len(train_names_pics)):\n",
    "    x = load_img(train_pics + '/' + train_names_pics[i], target_size = (75, 250))\n",
    "    x = img_to_array(x)\n",
    "    pic_array[i] = x\n",
    "    \n",
    "    "
   ]
  },
  {
   "cell_type": "code",
   "execution_count": 143,
   "metadata": {},
   "outputs": [
    {
     "data": {
      "text/plain": [
       "(517, 75, 250, 3)"
      ]
     },
     "execution_count": 143,
     "metadata": {},
     "output_type": "execute_result"
    }
   ],
   "source": [
    "pic_array.shape"
   ]
  },
  {
   "cell_type": "code",
   "execution_count": 144,
   "metadata": {},
   "outputs": [],
   "source": [
    "pic_array = np.array(pic_array)\n",
    "score_array = np.array(score_vec)"
   ]
  },
  {
   "cell_type": "code",
   "execution_count": 145,
   "metadata": {},
   "outputs": [
    {
     "data": {
      "text/plain": [
       "(517, 75, 250, 3)"
      ]
     },
     "execution_count": 145,
     "metadata": {},
     "output_type": "execute_result"
    }
   ],
   "source": [
    "pic_array.shape"
   ]
  },
  {
   "cell_type": "code",
   "execution_count": 146,
   "metadata": {},
   "outputs": [
    {
     "data": {
      "text/plain": [
       "(517,)"
      ]
     },
     "execution_count": 146,
     "metadata": {},
     "output_type": "execute_result"
    }
   ],
   "source": [
    "score_array.shape"
   ]
  },
  {
   "cell_type": "code",
   "execution_count": 147,
   "metadata": {},
   "outputs": [
    {
     "data": {
      "text/plain": [
       "(517,)"
      ]
     },
     "execution_count": 147,
     "metadata": {},
     "output_type": "execute_result"
    }
   ],
   "source": [
    "label_array.shape"
   ]
  },
  {
   "cell_type": "code",
   "execution_count": 148,
   "metadata": {},
   "outputs": [
    {
     "name": "stdout",
     "output_type": "stream",
     "text": [
      "Epoch 1/3\n",
      "517/517 [==============================] - 3s 5ms/step - loss: 10.1143 - acc: 0.3656\n",
      "Epoch 2/3\n",
      "517/517 [==============================] - 3s 5ms/step - loss: 10.1143 - acc: 0.3656\n",
      "Epoch 3/3\n",
      "517/517 [==============================] - 3s 5ms/step - loss: 10.1143 - acc: 0.3656\n"
     ]
    },
    {
     "data": {
      "text/plain": [
       "<keras.callbacks.History at 0x29e065cde80>"
      ]
     },
     "execution_count": 148,
     "metadata": {},
     "output_type": "execute_result"
    }
   ],
   "source": [
    "model.fit([pic_array, score_array], label_array, epochs = 3, batch_size = 50)"
   ]
  },
  {
   "cell_type": "code",
   "execution_count": null,
   "metadata": {
    "collapsed": true
   },
   "outputs": [],
   "source": []
  },
  {
   "cell_type": "code",
   "execution_count": null,
   "metadata": {
    "collapsed": true
   },
   "outputs": [],
   "source": []
  },
  {
   "cell_type": "code",
   "execution_count": null,
   "metadata": {
    "collapsed": true
   },
   "outputs": [],
   "source": [
    "\n",
    "\n",
    "\n",
    "#TODO: generate data, delete white pictures in both images"
   ]
  },
  {
   "cell_type": "code",
   "execution_count": null,
   "metadata": {
    "collapsed": true
   },
   "outputs": [],
   "source": []
  },
  {
   "cell_type": "code",
   "execution_count": null,
   "metadata": {
    "collapsed": true
   },
   "outputs": [],
   "source": []
  },
  {
   "cell_type": "code",
   "execution_count": null,
   "metadata": {
    "collapsed": true
   },
   "outputs": [],
   "source": []
  },
  {
   "cell_type": "code",
   "execution_count": null,
   "metadata": {
    "collapsed": true
   },
   "outputs": [],
   "source": []
  },
  {
   "cell_type": "code",
   "execution_count": null,
   "metadata": {
    "collapsed": true
   },
   "outputs": [],
   "source": []
  }
 ],
 "metadata": {
  "kernelspec": {
   "display_name": "Python 3",
   "language": "python",
   "name": "python3"
  },
  "language_info": {
   "codemirror_mode": {
    "name": "ipython",
    "version": 3
   },
   "file_extension": ".py",
   "mimetype": "text/x-python",
   "name": "python",
   "nbconvert_exporter": "python",
   "pygments_lexer": "ipython3",
   "version": "3.6.2"
  }
 },
 "nbformat": 4,
 "nbformat_minor": 2
}
