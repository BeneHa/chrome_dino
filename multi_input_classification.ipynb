{
 "cells": [
  {
   "cell_type": "code",
   "execution_count": 166,
   "metadata": {},
   "outputs": [],
   "source": [
    "import tensorflow as tf\n",
    "import keras\n",
    "from keras import models\n",
    "from keras import optimizers\n",
    "from keras.preprocessing.image import ImageDataGenerator, array_to_img, img_to_array, load_img\n",
    "from keras.models import load_model, Model\n",
    "from keras.layers import *\n",
    "from sklearn.metrics import confusion_matrix\n",
    "import os\n",
    "import sys\n",
    "import numpy as np\n",
    "from score_dataset_helpers import *\n",
    "import pandas as pd\n",
    "from itertools import chain"
   ]
  },
  {
   "cell_type": "code",
   "execution_count": 2,
   "metadata": {
    "collapsed": true
   },
   "outputs": [],
   "source": [
    "base_dir = 'C:/Users/bened/OneDrive/Arbeit/Lernen/python_training/data_dual_inputs/'\n",
    "train_dir = base_dir + 'train'\n",
    "test_dir = base_dir + 'test'"
   ]
  },
  {
   "cell_type": "markdown",
   "metadata": {},
   "source": [
    "## Define model"
   ]
  },
  {
   "cell_type": "code",
   "execution_count": 228,
   "metadata": {
    "collapsed": true
   },
   "outputs": [],
   "source": [
    "f1, f2, f3 = 16,32,64\n",
    "c_size = (10,10)\n",
    "p_size = (4,4)\n",
    "\n",
    "pics_input = Input(shape = (75, 250, 3))\n",
    "pics_c1 = Conv2D(filters = f1, kernel_size = c_size, activation = \"relu\")(pics_input)\n",
    "pics_m1 = MaxPooling2D(k_size)(pics_c1)\n",
    "\n",
    "pics_c2 = Conv2D(filters = f2, kernel_size = c_size, activation = \"relu\")(pics_m1)\n",
    "pics_m2 = MaxPooling2D(k_size)(pics_c2)\n",
    "\n",
    "#pics_c3 = Conv2D(filters = f3, kernel_size = c_size, activation = \"relu\")(pics_m2)\n",
    "#pics_m3 = MaxPooling2D((k_size))(pics_c3)\n",
    "\n",
    "pics_f = Flatten()(pics_m2)\n",
    "pics_drop = Dropout(0.5)(pics_f)\n",
    "pics_d = Dense(20, activation = \"relu\")(pics_drop)\n",
    "\n",
    "nums_input = Input(shape = ([1]))\n",
    "nums_features = Dense(1, activation = \"relu\")(nums_input)\n",
    "\n",
    "conc_layer = concatenate([pics_d, nums_features])\n",
    "dense_1 = Dense(30, activation = \"relu\")(conc_layer)\n",
    "dense_2 = Dense(1, activation = \"sigmoid\")(dense_1)\n",
    "\n",
    "model = Model(inputs = [pics_input, nums_input], outputs = dense_2)\n",
    "model.compile(loss = \"binary_crossentropy\", optimizer = \"adam\", metrics = [\"acc\"])"
   ]
  },
  {
   "cell_type": "code",
   "execution_count": 229,
   "metadata": {
    "scrolled": true
   },
   "outputs": [
    {
     "name": "stdout",
     "output_type": "stream",
     "text": [
      "__________________________________________________________________________________________________\n",
      "Layer (type)                    Output Shape         Param #     Connected to                     \n",
      "==================================================================================================\n",
      "input_51 (InputLayer)           (None, 75, 250, 3)   0                                            \n",
      "__________________________________________________________________________________________________\n",
      "conv2d_66 (Conv2D)              (None, 66, 241, 16)  4816        input_51[0][0]                   \n",
      "__________________________________________________________________________________________________\n",
      "max_pooling2d_66 (MaxPooling2D) (None, 33, 120, 16)  0           conv2d_66[0][0]                  \n",
      "__________________________________________________________________________________________________\n",
      "conv2d_67 (Conv2D)              (None, 24, 111, 32)  51232       max_pooling2d_66[0][0]           \n",
      "__________________________________________________________________________________________________\n",
      "max_pooling2d_67 (MaxPooling2D) (None, 12, 55, 32)   0           conv2d_67[0][0]                  \n",
      "__________________________________________________________________________________________________\n",
      "flatten_26 (Flatten)            (None, 21120)        0           max_pooling2d_67[0][0]           \n",
      "__________________________________________________________________________________________________\n",
      "dropout_11 (Dropout)            (None, 21120)        0           flatten_26[0][0]                 \n",
      "__________________________________________________________________________________________________\n",
      "input_52 (InputLayer)           (None, 1)            0                                            \n",
      "__________________________________________________________________________________________________\n",
      "dense_101 (Dense)               (None, 20)           422420      dropout_11[0][0]                 \n",
      "__________________________________________________________________________________________________\n",
      "dense_102 (Dense)               (None, 1)            2           input_52[0][0]                   \n",
      "__________________________________________________________________________________________________\n",
      "concatenate_26 (Concatenate)    (None, 21)           0           dense_101[0][0]                  \n",
      "                                                                 dense_102[0][0]                  \n",
      "__________________________________________________________________________________________________\n",
      "dense_103 (Dense)               (None, 30)           660         concatenate_26[0][0]             \n",
      "__________________________________________________________________________________________________\n",
      "dense_104 (Dense)               (None, 1)            31          dense_103[0][0]                  \n",
      "==================================================================================================\n",
      "Total params: 479,161\n",
      "Trainable params: 479,161\n",
      "Non-trainable params: 0\n",
      "__________________________________________________________________________________________________\n"
     ]
    }
   ],
   "source": [
    "model.summary()"
   ]
  },
  {
   "cell_type": "markdown",
   "metadata": {},
   "source": [
    "## Create vectors of scores from pictures"
   ]
  },
  {
   "cell_type": "code",
   "execution_count": 43,
   "metadata": {
    "collapsed": true
   },
   "outputs": [],
   "source": [
    "train_scores = train_dir + \"/score\"\n",
    "train_pics = train_dir + \"/pics\"\n",
    "\n",
    "test_scores = test_dir + \"/score\"\n",
    "test_pics = test_dir + \"/pics\""
   ]
  },
  {
   "cell_type": "code",
   "execution_count": 44,
   "metadata": {
    "collapsed": true
   },
   "outputs": [],
   "source": [
    "train_names_scores = [f for f in os.listdir(train_scores)]\n",
    "train_names_pics = [f for f in os.listdir(train_pics)]\n",
    "\n",
    "test_names_scores = [f for f in os.listdir(test_scores)]\n",
    "test_names_pics = [f for f in os.listdir(test_pics)]"
   ]
  },
  {
   "cell_type": "code",
   "execution_count": 45,
   "metadata": {},
   "outputs": [
    {
     "name": "stdout",
     "output_type": "stream",
     "text": [
      "1077 training files for scores\n",
      "1077 training files for pictures\n",
      "108 test files for scores\n",
      "108 test files for pictures\n"
     ]
    }
   ],
   "source": [
    "print(str(len(train_names_scores)) + \" training files for scores\")\n",
    "print(str(len(train_names_pics)) + \" training files for pictures\")\n",
    "\n",
    "print(str(len(test_names_scores)) + \" test files for scores\")\n",
    "print(str(len(test_names_pics)) + \" test files for pictures\")"
   ]
  },
  {
   "cell_type": "code",
   "execution_count": 46,
   "metadata": {
    "collapsed": true
   },
   "outputs": [],
   "source": [
    "train_dataset_score = create_dataset(\"score\", train_names_scores, base_dir + \"train/\")\n",
    "\n",
    "test_dataset_score = create_dataset(\"score\", test_names_scores, base_dir + \"test/\")"
   ]
  },
  {
   "cell_type": "code",
   "execution_count": 47,
   "metadata": {
    "collapsed": true
   },
   "outputs": [],
   "source": [
    "def get_result(result):\n",
    "    resultstr = ''\n",
    "    for i in range(5):\n",
    "        resultstr += str(np.argmax(result[i]))\n",
    "    return resultstr"
   ]
  },
  {
   "cell_type": "code",
   "execution_count": 48,
   "metadata": {
    "collapsed": true
   },
   "outputs": [],
   "source": [
    "score_model = load_model(\"C:/Users/bened/OneDrive/Arbeit/Lernen/python_training/models/score_v2.h5\")"
   ]
  },
  {
   "cell_type": "code",
   "execution_count": 49,
   "metadata": {
    "collapsed": true
   },
   "outputs": [],
   "source": [
    "#Create vectors for scores and for labels\n",
    "score_vec = []\n",
    "for i in range(len(train_names_scores)):\n",
    "    y_pred = score_model.predict(train_dataset_score[i].reshape(1, 50, 160, 1))\n",
    "    score_vec.append(get_result(y_pred))\n",
    "\n",
    "label_vec = ['up' in x for x in train_names_pics]\n",
    "label_vec = np.array(label_vec)\n",
    "label_array = label_vec.astype(float)\n",
    "\n",
    "score_vec_test = []\n",
    "for i in range(len(test_names_scores)):\n",
    "    y_pred_test = score_model.predict(test_dataset_score[i].reshape(1, 50, 160, 1))\n",
    "    score_vec_test.append(get_result(y_pred_test))\n",
    "\n",
    "label_vec_test = ['up' in x for x in test_names_pics]\n",
    "label_vec_test = np.array(label_vec_test)\n",
    "label_array_test = label_vec_test.astype(float)"
   ]
  },
  {
   "cell_type": "code",
   "execution_count": 50,
   "metadata": {
    "scrolled": true
   },
   "outputs": [
    {
     "data": {
      "text/html": [
       "<div>\n",
       "<style>\n",
       "    .dataframe thead tr:only-child th {\n",
       "        text-align: right;\n",
       "    }\n",
       "\n",
       "    .dataframe thead th {\n",
       "        text-align: left;\n",
       "    }\n",
       "\n",
       "    .dataframe tbody tr th {\n",
       "        vertical-align: top;\n",
       "    }\n",
       "</style>\n",
       "<table border=\"1\" class=\"dataframe\">\n",
       "  <thead>\n",
       "    <tr style=\"text-align: right;\">\n",
       "      <th></th>\n",
       "      <th>label</th>\n",
       "      <th>orig_name</th>\n",
       "      <th>score</th>\n",
       "    </tr>\n",
       "  </thead>\n",
       "  <tbody>\n",
       "    <tr>\n",
       "      <th>0</th>\n",
       "      <td>0.0</td>\n",
       "      <td>right_1.png</td>\n",
       "      <td>00008</td>\n",
       "    </tr>\n",
       "    <tr>\n",
       "      <th>1</th>\n",
       "      <td>0.0</td>\n",
       "      <td>right_10.png</td>\n",
       "      <td>00073</td>\n",
       "    </tr>\n",
       "    <tr>\n",
       "      <th>2</th>\n",
       "      <td>0.0</td>\n",
       "      <td>right_100.png</td>\n",
       "      <td>00172</td>\n",
       "    </tr>\n",
       "    <tr>\n",
       "      <th>3</th>\n",
       "      <td>0.0</td>\n",
       "      <td>right_101.png</td>\n",
       "      <td>00185</td>\n",
       "    </tr>\n",
       "    <tr>\n",
       "      <th>4</th>\n",
       "      <td>0.0</td>\n",
       "      <td>right_102.png</td>\n",
       "      <td>00190</td>\n",
       "    </tr>\n",
       "    <tr>\n",
       "      <th>5</th>\n",
       "      <td>0.0</td>\n",
       "      <td>right_105.png</td>\n",
       "      <td>00200</td>\n",
       "    </tr>\n",
       "    <tr>\n",
       "      <th>6</th>\n",
       "      <td>0.0</td>\n",
       "      <td>right_106.png</td>\n",
       "      <td>00200</td>\n",
       "    </tr>\n",
       "    <tr>\n",
       "      <th>7</th>\n",
       "      <td>0.0</td>\n",
       "      <td>right_107.png</td>\n",
       "      <td>00226</td>\n",
       "    </tr>\n",
       "    <tr>\n",
       "      <th>8</th>\n",
       "      <td>0.0</td>\n",
       "      <td>right_108.png</td>\n",
       "      <td>00238</td>\n",
       "    </tr>\n",
       "    <tr>\n",
       "      <th>9</th>\n",
       "      <td>0.0</td>\n",
       "      <td>right_109.png</td>\n",
       "      <td>00243</td>\n",
       "    </tr>\n",
       "    <tr>\n",
       "      <th>10</th>\n",
       "      <td>0.0</td>\n",
       "      <td>right_11.png</td>\n",
       "      <td>00089</td>\n",
       "    </tr>\n",
       "    <tr>\n",
       "      <th>11</th>\n",
       "      <td>0.0</td>\n",
       "      <td>right_110.png</td>\n",
       "      <td>00254</td>\n",
       "    </tr>\n",
       "    <tr>\n",
       "      <th>12</th>\n",
       "      <td>0.0</td>\n",
       "      <td>right_111.png</td>\n",
       "      <td>00261</td>\n",
       "    </tr>\n",
       "    <tr>\n",
       "      <th>13</th>\n",
       "      <td>0.0</td>\n",
       "      <td>right_112.png</td>\n",
       "      <td>00271</td>\n",
       "    </tr>\n",
       "    <tr>\n",
       "      <th>14</th>\n",
       "      <td>0.0</td>\n",
       "      <td>right_113.png</td>\n",
       "      <td>00277</td>\n",
       "    </tr>\n",
       "    <tr>\n",
       "      <th>15</th>\n",
       "      <td>0.0</td>\n",
       "      <td>right_114.png</td>\n",
       "      <td>00289</td>\n",
       "    </tr>\n",
       "    <tr>\n",
       "      <th>16</th>\n",
       "      <td>0.0</td>\n",
       "      <td>right_115.png</td>\n",
       "      <td>00295</td>\n",
       "    </tr>\n",
       "    <tr>\n",
       "      <th>17</th>\n",
       "      <td>0.0</td>\n",
       "      <td>right_118.png</td>\n",
       "      <td>00300</td>\n",
       "    </tr>\n",
       "    <tr>\n",
       "      <th>18</th>\n",
       "      <td>0.0</td>\n",
       "      <td>right_119.png</td>\n",
       "      <td>00334</td>\n",
       "    </tr>\n",
       "    <tr>\n",
       "      <th>19</th>\n",
       "      <td>0.0</td>\n",
       "      <td>right_12.png</td>\n",
       "      <td>00098</td>\n",
       "    </tr>\n",
       "    <tr>\n",
       "      <th>20</th>\n",
       "      <td>0.0</td>\n",
       "      <td>right_120.png</td>\n",
       "      <td>00340</td>\n",
       "    </tr>\n",
       "    <tr>\n",
       "      <th>21</th>\n",
       "      <td>0.0</td>\n",
       "      <td>right_121.png</td>\n",
       "      <td>00352</td>\n",
       "    </tr>\n",
       "    <tr>\n",
       "      <th>22</th>\n",
       "      <td>0.0</td>\n",
       "      <td>right_122.png</td>\n",
       "      <td>00358</td>\n",
       "    </tr>\n",
       "    <tr>\n",
       "      <th>23</th>\n",
       "      <td>0.0</td>\n",
       "      <td>right_123.png</td>\n",
       "      <td>00368</td>\n",
       "    </tr>\n",
       "    <tr>\n",
       "      <th>24</th>\n",
       "      <td>0.0</td>\n",
       "      <td>right_124.png</td>\n",
       "      <td>00373</td>\n",
       "    </tr>\n",
       "    <tr>\n",
       "      <th>25</th>\n",
       "      <td>0.0</td>\n",
       "      <td>right_125.png</td>\n",
       "      <td>00383</td>\n",
       "    </tr>\n",
       "    <tr>\n",
       "      <th>26</th>\n",
       "      <td>0.0</td>\n",
       "      <td>right_126.png</td>\n",
       "      <td>00396</td>\n",
       "    </tr>\n",
       "    <tr>\n",
       "      <th>27</th>\n",
       "      <td>0.0</td>\n",
       "      <td>right_130.png</td>\n",
       "      <td>00429</td>\n",
       "    </tr>\n",
       "    <tr>\n",
       "      <th>28</th>\n",
       "      <td>0.0</td>\n",
       "      <td>right_131.png</td>\n",
       "      <td>00439</td>\n",
       "    </tr>\n",
       "    <tr>\n",
       "      <th>29</th>\n",
       "      <td>0.0</td>\n",
       "      <td>right_132.png</td>\n",
       "      <td>00445</td>\n",
       "    </tr>\n",
       "    <tr>\n",
       "      <th>...</th>\n",
       "      <td>...</td>\n",
       "      <td>...</td>\n",
       "      <td>...</td>\n",
       "    </tr>\n",
       "    <tr>\n",
       "      <th>1047</th>\n",
       "      <td>1.0</td>\n",
       "      <td>up_881.png</td>\n",
       "      <td>00387</td>\n",
       "    </tr>\n",
       "    <tr>\n",
       "      <th>1048</th>\n",
       "      <td>1.0</td>\n",
       "      <td>up_895.png</td>\n",
       "      <td>00655</td>\n",
       "    </tr>\n",
       "    <tr>\n",
       "      <th>1049</th>\n",
       "      <td>1.0</td>\n",
       "      <td>up_896.png</td>\n",
       "      <td>00669</td>\n",
       "    </tr>\n",
       "    <tr>\n",
       "      <th>1050</th>\n",
       "      <td>1.0</td>\n",
       "      <td>up_897.png</td>\n",
       "      <td>00686</td>\n",
       "    </tr>\n",
       "    <tr>\n",
       "      <th>1051</th>\n",
       "      <td>1.0</td>\n",
       "      <td>up_898.png</td>\n",
       "      <td>00698</td>\n",
       "    </tr>\n",
       "    <tr>\n",
       "      <th>1052</th>\n",
       "      <td>1.0</td>\n",
       "      <td>up_899.png</td>\n",
       "      <td>00200</td>\n",
       "    </tr>\n",
       "    <tr>\n",
       "      <th>1053</th>\n",
       "      <td>1.0</td>\n",
       "      <td>up_9.png</td>\n",
       "      <td>00100</td>\n",
       "    </tr>\n",
       "    <tr>\n",
       "      <th>1054</th>\n",
       "      <td>1.0</td>\n",
       "      <td>up_90.png</td>\n",
       "      <td>00635</td>\n",
       "    </tr>\n",
       "    <tr>\n",
       "      <th>1055</th>\n",
       "      <td>1.0</td>\n",
       "      <td>up_901.png</td>\n",
       "      <td>00247</td>\n",
       "    </tr>\n",
       "    <tr>\n",
       "      <th>1056</th>\n",
       "      <td>1.0</td>\n",
       "      <td>up_902.png</td>\n",
       "      <td>00262</td>\n",
       "    </tr>\n",
       "    <tr>\n",
       "      <th>1057</th>\n",
       "      <td>1.0</td>\n",
       "      <td>up_903.png</td>\n",
       "      <td>00277</td>\n",
       "    </tr>\n",
       "    <tr>\n",
       "      <th>1058</th>\n",
       "      <td>1.0</td>\n",
       "      <td>up_904.png</td>\n",
       "      <td>00296</td>\n",
       "    </tr>\n",
       "    <tr>\n",
       "      <th>1059</th>\n",
       "      <td>1.0</td>\n",
       "      <td>up_905.png</td>\n",
       "      <td>00600</td>\n",
       "    </tr>\n",
       "    <tr>\n",
       "      <th>1060</th>\n",
       "      <td>1.0</td>\n",
       "      <td>up_907.png</td>\n",
       "      <td>00649</td>\n",
       "    </tr>\n",
       "    <tr>\n",
       "      <th>1061</th>\n",
       "      <td>1.0</td>\n",
       "      <td>up_908.png</td>\n",
       "      <td>00667</td>\n",
       "    </tr>\n",
       "    <tr>\n",
       "      <th>1062</th>\n",
       "      <td>1.0</td>\n",
       "      <td>up_909.png</td>\n",
       "      <td>00680</td>\n",
       "    </tr>\n",
       "    <tr>\n",
       "      <th>1063</th>\n",
       "      <td>1.0</td>\n",
       "      <td>up_91.png</td>\n",
       "      <td>00645</td>\n",
       "    </tr>\n",
       "    <tr>\n",
       "      <th>1064</th>\n",
       "      <td>1.0</td>\n",
       "      <td>up_910.png</td>\n",
       "      <td>00695</td>\n",
       "    </tr>\n",
       "    <tr>\n",
       "      <th>1065</th>\n",
       "      <td>1.0</td>\n",
       "      <td>up_911.png</td>\n",
       "      <td>00600</td>\n",
       "    </tr>\n",
       "    <tr>\n",
       "      <th>1066</th>\n",
       "      <td>1.0</td>\n",
       "      <td>up_912.png</td>\n",
       "      <td>00600</td>\n",
       "    </tr>\n",
       "    <tr>\n",
       "      <th>1067</th>\n",
       "      <td>1.0</td>\n",
       "      <td>up_913.png</td>\n",
       "      <td>00052</td>\n",
       "    </tr>\n",
       "    <tr>\n",
       "      <th>1068</th>\n",
       "      <td>1.0</td>\n",
       "      <td>up_914.png</td>\n",
       "      <td>00071</td>\n",
       "    </tr>\n",
       "    <tr>\n",
       "      <th>1069</th>\n",
       "      <td>1.0</td>\n",
       "      <td>up_915.png</td>\n",
       "      <td>00288</td>\n",
       "    </tr>\n",
       "    <tr>\n",
       "      <th>1070</th>\n",
       "      <td>1.0</td>\n",
       "      <td>up_917.png</td>\n",
       "      <td>00000</td>\n",
       "    </tr>\n",
       "    <tr>\n",
       "      <th>1071</th>\n",
       "      <td>1.0</td>\n",
       "      <td>up_918.png</td>\n",
       "      <td>00000</td>\n",
       "    </tr>\n",
       "    <tr>\n",
       "      <th>1072</th>\n",
       "      <td>1.0</td>\n",
       "      <td>up_919.png</td>\n",
       "      <td>00061</td>\n",
       "    </tr>\n",
       "    <tr>\n",
       "      <th>1073</th>\n",
       "      <td>1.0</td>\n",
       "      <td>up_92.png</td>\n",
       "      <td>00653</td>\n",
       "    </tr>\n",
       "    <tr>\n",
       "      <th>1074</th>\n",
       "      <td>1.0</td>\n",
       "      <td>up_920.png</td>\n",
       "      <td>00077</td>\n",
       "    </tr>\n",
       "    <tr>\n",
       "      <th>1075</th>\n",
       "      <td>1.0</td>\n",
       "      <td>up_921.png</td>\n",
       "      <td>00092</td>\n",
       "    </tr>\n",
       "    <tr>\n",
       "      <th>1076</th>\n",
       "      <td>1.0</td>\n",
       "      <td>up_93.png</td>\n",
       "      <td>00669</td>\n",
       "    </tr>\n",
       "  </tbody>\n",
       "</table>\n",
       "<p>1077 rows × 3 columns</p>\n",
       "</div>"
      ],
      "text/plain": [
       "      label      orig_name  score\n",
       "0       0.0    right_1.png  00008\n",
       "1       0.0   right_10.png  00073\n",
       "2       0.0  right_100.png  00172\n",
       "3       0.0  right_101.png  00185\n",
       "4       0.0  right_102.png  00190\n",
       "5       0.0  right_105.png  00200\n",
       "6       0.0  right_106.png  00200\n",
       "7       0.0  right_107.png  00226\n",
       "8       0.0  right_108.png  00238\n",
       "9       0.0  right_109.png  00243\n",
       "10      0.0   right_11.png  00089\n",
       "11      0.0  right_110.png  00254\n",
       "12      0.0  right_111.png  00261\n",
       "13      0.0  right_112.png  00271\n",
       "14      0.0  right_113.png  00277\n",
       "15      0.0  right_114.png  00289\n",
       "16      0.0  right_115.png  00295\n",
       "17      0.0  right_118.png  00300\n",
       "18      0.0  right_119.png  00334\n",
       "19      0.0   right_12.png  00098\n",
       "20      0.0  right_120.png  00340\n",
       "21      0.0  right_121.png  00352\n",
       "22      0.0  right_122.png  00358\n",
       "23      0.0  right_123.png  00368\n",
       "24      0.0  right_124.png  00373\n",
       "25      0.0  right_125.png  00383\n",
       "26      0.0  right_126.png  00396\n",
       "27      0.0  right_130.png  00429\n",
       "28      0.0  right_131.png  00439\n",
       "29      0.0  right_132.png  00445\n",
       "...     ...            ...    ...\n",
       "1047    1.0     up_881.png  00387\n",
       "1048    1.0     up_895.png  00655\n",
       "1049    1.0     up_896.png  00669\n",
       "1050    1.0     up_897.png  00686\n",
       "1051    1.0     up_898.png  00698\n",
       "1052    1.0     up_899.png  00200\n",
       "1053    1.0       up_9.png  00100\n",
       "1054    1.0      up_90.png  00635\n",
       "1055    1.0     up_901.png  00247\n",
       "1056    1.0     up_902.png  00262\n",
       "1057    1.0     up_903.png  00277\n",
       "1058    1.0     up_904.png  00296\n",
       "1059    1.0     up_905.png  00600\n",
       "1060    1.0     up_907.png  00649\n",
       "1061    1.0     up_908.png  00667\n",
       "1062    1.0     up_909.png  00680\n",
       "1063    1.0      up_91.png  00645\n",
       "1064    1.0     up_910.png  00695\n",
       "1065    1.0     up_911.png  00600\n",
       "1066    1.0     up_912.png  00600\n",
       "1067    1.0     up_913.png  00052\n",
       "1068    1.0     up_914.png  00071\n",
       "1069    1.0     up_915.png  00288\n",
       "1070    1.0     up_917.png  00000\n",
       "1071    1.0     up_918.png  00000\n",
       "1072    1.0     up_919.png  00061\n",
       "1073    1.0      up_92.png  00653\n",
       "1074    1.0     up_920.png  00077\n",
       "1075    1.0     up_921.png  00092\n",
       "1076    1.0      up_93.png  00669\n",
       "\n",
       "[1077 rows x 3 columns]"
      ]
     },
     "execution_count": 50,
     "metadata": {},
     "output_type": "execute_result"
    }
   ],
   "source": [
    "print_dat = pd.DataFrame({'score' : score_vec, 'label' : label_array, 'orig_name' : train_names_scores})\n",
    "print_dat"
   ]
  },
  {
   "cell_type": "code",
   "execution_count": 51,
   "metadata": {
    "collapsed": true
   },
   "outputs": [],
   "source": [
    "pic_array = np.zeros((len(train_names_pics), 75, 250, 3))\n",
    "\n",
    "for i in range(len(train_names_pics)):\n",
    "    x = load_img(train_pics + '/' + train_names_pics[i], target_size = (75, 250))\n",
    "    #x = img_to_array(x)\n",
    "    pic_array[i] = x\n",
    "    \n",
    "pic_array_test = np.zeros((len(test_names_pics), 75, 250, 3))\n",
    "\n",
    "for i in range(len(test_names_pics)):\n",
    "    x = load_img(test_pics + '/' + test_names_pics[i], target_size = (75, 250))\n",
    "    #x = img_to_array(x)\n",
    "    pic_array_test[i] = x"
   ]
  },
  {
   "cell_type": "code",
   "execution_count": 52,
   "metadata": {
    "collapsed": true
   },
   "outputs": [],
   "source": [
    "pic_array = np.array(pic_array)\n",
    "pic_array /= 255\n",
    "score_array = np.array(score_vec)\n",
    "score_array = np.float32(score_array)\n",
    "\n",
    "pic_array_test = np.array(pic_array_test)\n",
    "pic_array_test /= 255\n",
    "score_array_test = np.array(score_vec_test)\n",
    "score_array_test = np.float32(score_array_test)"
   ]
  },
  {
   "cell_type": "code",
   "execution_count": 53,
   "metadata": {},
   "outputs": [
    {
     "data": {
      "text/plain": [
       "(1077, 75, 250, 3)"
      ]
     },
     "execution_count": 53,
     "metadata": {},
     "output_type": "execute_result"
    }
   ],
   "source": [
    "pic_array.shape"
   ]
  },
  {
   "cell_type": "code",
   "execution_count": 54,
   "metadata": {},
   "outputs": [
    {
     "data": {
      "text/plain": [
       "(1077,)"
      ]
     },
     "execution_count": 54,
     "metadata": {},
     "output_type": "execute_result"
    }
   ],
   "source": [
    "score_array.shape"
   ]
  },
  {
   "cell_type": "code",
   "execution_count": 55,
   "metadata": {},
   "outputs": [
    {
     "data": {
      "text/plain": [
       "(1077,)"
      ]
     },
     "execution_count": 55,
     "metadata": {},
     "output_type": "execute_result"
    }
   ],
   "source": [
    "label_array.shape"
   ]
  },
  {
   "cell_type": "code",
   "execution_count": null,
   "metadata": {
    "scrolled": true
   },
   "outputs": [
    {
     "name": "stdout",
     "output_type": "stream",
     "text": [
      "Train on 646 samples, validate on 431 samples\n",
      "Epoch 1/5\n",
      "600/646 [==========================>...] - ETA: 2s - loss: 1.8680 - acc: 0.8400"
     ]
    }
   ],
   "source": [
    "model.fit([pic_array, score_array], label_array, epochs = 5, shuffle = True, batch_size = 100, validation_split = 0.4)"
   ]
  },
  {
   "cell_type": "code",
   "execution_count": 160,
   "metadata": {
    "collapsed": true
   },
   "outputs": [],
   "source": [
    "#model.save(\"C:/Users/bened/OneDrive/Arbeit/Lernen/python_training/models/model_dual_input_v3.h5\")"
   ]
  },
  {
   "cell_type": "code",
   "execution_count": 16,
   "metadata": {
    "collapsed": true
   },
   "outputs": [],
   "source": [
    "#model = load_model(\"C:/Users/bened/OneDrive/Arbeit/Lernen/python_training/models/model_dual_input.h5\")"
   ]
  },
  {
   "cell_type": "code",
   "execution_count": 210,
   "metadata": {
    "collapsed": true
   },
   "outputs": [],
   "source": [
    "results = model.predict([pic_array_test, score_array_test]) > 0.5"
   ]
  },
  {
   "cell_type": "code",
   "execution_count": 211,
   "metadata": {},
   "outputs": [],
   "source": [
    "label_array_test = label_array_test > 0.5\n",
    "results = [y for x in results.tolist() for y in x]\n",
    "correct = [r == l for (r, l) in zip(results, label_array_test)]\n",
    "\n",
    "test_df = pd.DataFrame({\"results\" : results, \"labels\" : label_array_test.tolist(),\n",
    "                        \"score\" : score_array_test.tolist(), \"correct_prediction\" : correct})"
   ]
  },
  {
   "cell_type": "code",
   "execution_count": 212,
   "metadata": {},
   "outputs": [
    {
     "data": {
      "text/plain": [
       "True     104\n",
       "False      4\n",
       "Name: correct_prediction, dtype: int64"
      ]
     },
     "execution_count": 212,
     "metadata": {},
     "output_type": "execute_result"
    }
   ],
   "source": [
    "test_df[\"correct_prediction\"].value_counts()"
   ]
  },
  {
   "cell_type": "code",
   "execution_count": 213,
   "metadata": {},
   "outputs": [
    {
     "data": {
      "text/plain": [
       "array([[69,  0],\n",
       "       [ 4, 35]])"
      ]
     },
     "execution_count": 213,
     "metadata": {},
     "output_type": "execute_result"
    }
   ],
   "source": [
    "confusion_matrix(label_array_test, results)"
   ]
  },
  {
   "cell_type": "code",
   "execution_count": null,
   "metadata": {
    "collapsed": true
   },
   "outputs": [],
   "source": []
  }
 ],
 "metadata": {
  "kernelspec": {
   "display_name": "Python 3",
   "language": "python",
   "name": "python3"
  },
  "language_info": {
   "codemirror_mode": {
    "name": "ipython",
    "version": 3
   },
   "file_extension": ".py",
   "mimetype": "text/x-python",
   "name": "python",
   "nbconvert_exporter": "python",
   "pygments_lexer": "ipython3",
   "version": "3.6.2"
  }
 },
 "nbformat": 4,
 "nbformat_minor": 2
}
