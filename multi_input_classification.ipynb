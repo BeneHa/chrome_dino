{
 "cells": [
  {
   "cell_type": "code",
   "execution_count": 1,
   "metadata": {},
   "outputs": [
    {
     "name": "stderr",
     "output_type": "stream",
     "text": [
      "C:\\ProgramData\\Anaconda3\\lib\\site-packages\\h5py\\__init__.py:34: FutureWarning: Conversion of the second argument of issubdtype from `float` to `np.floating` is deprecated. In future, it will be treated as `np.float64 == np.dtype(float).type`.\n",
      "  from ._conv import register_converters as _register_converters\n",
      "Using TensorFlow backend.\n"
     ]
    }
   ],
   "source": [
    "import tensorflow as tf\n",
    "import keras\n",
    "#from keras import layers\n",
    "from keras import models\n",
    "from keras import optimizers\n",
    "from keras.preprocessing.image import ImageDataGenerator\n",
    "from keras.models import load_model\n",
    "from keras.models import Model\n",
    "from keras.layers import *\n",
    "import os\n",
    "import matplotlib.pyplot as plt\n",
    "import sys\n",
    "import numpy as np\n",
    "from keras.preprocessing.image import ImageDataGenerator, array_to_img, img_to_array, load_img"
   ]
  },
  {
   "cell_type": "code",
   "execution_count": 2,
   "metadata": {
    "collapsed": true
   },
   "outputs": [],
   "source": [
    "base_dir = 'C:/Users/bened/OneDrive/Arbeit/Lernen/python_training/data_small/'\n",
    "train_dir = base_dir + 'train'\n",
    "validation_dir = base_dir + 'validation'\n",
    "test_dir = base_dir + 'test'"
   ]
  },
  {
   "cell_type": "markdown",
   "metadata": {},
   "source": [
    "## Define model"
   ]
  },
  {
   "cell_type": "code",
   "execution_count": 42,
   "metadata": {},
   "outputs": [],
   "source": [
    "f1, f2, f3 = 8,16,32\n",
    "k_size = (3,3)\n",
    "\n",
    "pics_input = Input(shape = (250, 75, 3))\n",
    "pics_c1 = Conv2D(filters = f1, kernel_size = k_size, activation = \"relu\")(pics_input)\n",
    "pics_m1 = MaxPooling2D((2,2))(pics_c1)\n",
    "pics_c2 = Conv2D(filters = f2, kernel_size = k_size, activation = \"relu\")(pics_m1)\n",
    "pics_m2 = MaxPooling2D((2,2))(pics_c2)\n",
    "pics_c3 = Conv2D(filters = f3, kernel_size = k_size, activation = \"relu\")(pics_m2)\n",
    "pics_m3 = MaxPooling2D((2,2))(pics_c3)\n",
    "pics_f = Flatten()(pics_m3)\n",
    "pics_d = Dense(512, activation = \"softmax\")(pics_f)\n",
    "\n",
    "nums_input = Input(shape = ([1]))\n",
    "nums_features = Dense(1, activation = \"softmax\")(nums_input)\n",
    "\n",
    "conc_layer = concatenate([pics_d, nums_features])\n",
    "dense_1 = Dense(10, activation = \"softmax\")(conc_layer)\n",
    "\n",
    "model = Model(inputs = [pics_input, nums_input], outputs = dense_1)"
   ]
  },
  {
   "cell_type": "code",
   "execution_count": 43,
   "metadata": {},
   "outputs": [
    {
     "name": "stdout",
     "output_type": "stream",
     "text": [
      "__________________________________________________________________________________________________\n",
      "Layer (type)                    Output Shape         Param #     Connected to                     \n",
      "==================================================================================================\n",
      "input_39 (InputLayer)           (None, 250, 75, 3)   0                                            \n",
      "__________________________________________________________________________________________________\n",
      "conv2d_6 (Conv2D)               (None, 248, 73, 8)   224         input_39[0][0]                   \n",
      "__________________________________________________________________________________________________\n",
      "max_pooling2d_6 (MaxPooling2D)  (None, 124, 36, 8)   0           conv2d_6[0][0]                   \n",
      "__________________________________________________________________________________________________\n",
      "conv2d_7 (Conv2D)               (None, 122, 34, 16)  1168        max_pooling2d_6[0][0]            \n",
      "__________________________________________________________________________________________________\n",
      "max_pooling2d_7 (MaxPooling2D)  (None, 61, 17, 16)   0           conv2d_7[0][0]                   \n",
      "__________________________________________________________________________________________________\n",
      "conv2d_8 (Conv2D)               (None, 59, 15, 32)   4640        max_pooling2d_7[0][0]            \n",
      "__________________________________________________________________________________________________\n",
      "max_pooling2d_8 (MaxPooling2D)  (None, 29, 7, 32)    0           conv2d_8[0][0]                   \n",
      "__________________________________________________________________________________________________\n",
      "flatten_2 (Flatten)             (None, 6496)         0           max_pooling2d_8[0][0]            \n",
      "__________________________________________________________________________________________________\n",
      "input_40 (InputLayer)           (None, 1)            0                                            \n",
      "__________________________________________________________________________________________________\n",
      "dense_26 (Dense)                (None, 512)          3326464     flatten_2[0][0]                  \n",
      "__________________________________________________________________________________________________\n",
      "dense_27 (Dense)                (None, 1)            2           input_40[0][0]                   \n",
      "__________________________________________________________________________________________________\n",
      "concatenate_13 (Concatenate)    (None, 513)          0           dense_26[0][0]                   \n",
      "                                                                 dense_27[0][0]                   \n",
      "__________________________________________________________________________________________________\n",
      "dense_28 (Dense)                (None, 10)           5140        concatenate_13[0][0]             \n",
      "==================================================================================================\n",
      "Total params: 3,337,638\n",
      "Trainable params: 3,337,638\n",
      "Non-trainable params: 0\n",
      "__________________________________________________________________________________________________\n"
     ]
    }
   ],
   "source": [
    "model.summary()"
   ]
  },
  {
   "cell_type": "code",
   "execution_count": null,
   "metadata": {},
   "outputs": [],
   "source": []
  },
  {
   "cell_type": "code",
   "execution_count": null,
   "metadata": {
    "collapsed": true
   },
   "outputs": [],
   "source": []
  }
 ],
 "metadata": {
  "kernelspec": {
   "display_name": "Python 3",
   "language": "python",
   "name": "python3"
  },
  "language_info": {
   "codemirror_mode": {
    "name": "ipython",
    "version": 3
   },
   "file_extension": ".py",
   "mimetype": "text/x-python",
   "name": "python",
   "nbconvert_exporter": "python",
   "pygments_lexer": "ipython3",
   "version": "3.6.2"
  }
 },
 "nbformat": 4,
 "nbformat_minor": 2
}
