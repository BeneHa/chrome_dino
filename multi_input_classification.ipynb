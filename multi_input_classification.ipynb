{
 "cells": [
  {
   "cell_type": "code",
   "execution_count": 31,
   "metadata": {},
   "outputs": [],
   "source": [
    "import tensorflow as tf\n",
    "import keras\n",
    "from keras import models\n",
    "from keras import optimizers\n",
    "from keras.preprocessing.image import ImageDataGenerator, array_to_img, img_to_array, load_img\n",
    "from keras.models import load_model, Model\n",
    "from keras.layers import *\n",
    "import os\n",
    "import sys\n",
    "import numpy as np\n",
    "from score_dataset_helpers import *\n",
    "import pandas as pd"
   ]
  },
  {
   "cell_type": "code",
   "execution_count": 2,
   "metadata": {
    "collapsed": true
   },
   "outputs": [],
   "source": [
    "base_dir = 'C:/Users/bened/OneDrive/Arbeit/Lernen/python_training/data_dual_inputs/'\n",
    "train_dir = base_dir + 'train'\n",
    "validation_dir = base_dir + 'validation'\n",
    "test_dir = base_dir + 'test'"
   ]
  },
  {
   "cell_type": "markdown",
   "metadata": {},
   "source": [
    "## Define model"
   ]
  },
  {
   "cell_type": "code",
   "execution_count": 82,
   "metadata": {
    "collapsed": true
   },
   "outputs": [],
   "source": [
    "f1, f2, f3 = 8,16,32\n",
    "k_size = (3,3)\n",
    "\n",
    "pics_input = Input(shape = (75, 250, 3))\n",
    "pics_c1 = Conv2D(filters = f1, kernel_size = k_size, activation = \"relu\")(pics_input)\n",
    "pics_m1 = MaxPooling2D(k_size)(pics_c1)\n",
    "pics_c2 = Conv2D(filters = f2, kernel_size = k_size, activation = \"relu\")(pics_m1)\n",
    "pics_m2 = MaxPooling2D(k_size)(pics_c2)\n",
    "pics_c3 = Conv2D(filters = f3, kernel_size = k_size, activation = \"relu\")(pics_m2)\n",
    "pics_m3 = MaxPooling2D((2,2))(pics_c3)\n",
    "pics_f = Flatten()(pics_m3)\n",
    "pics_d = Dense(512, activation = \"softmax\")(pics_f)\n",
    "\n",
    "nums_input = Input(shape = ([1]))\n",
    "nums_features = Dense(1, activation = \"softmax\")(nums_input)\n",
    "\n",
    "conc_layer = concatenate([pics_d, nums_features])\n",
    "dense_1 = Dense(10, activation = \"softmax\")(conc_layer)\n",
    "\n",
    "model = Model(inputs = [pics_input, nums_input], outputs = dense_1)\n",
    "model.compile(loss = \"categorical_crossentropy\", optimizer = \"sgd\", metrics = [\"accuracy\"])"
   ]
  },
  {
   "cell_type": "code",
   "execution_count": 49,
   "metadata": {
    "scrolled": true
   },
   "outputs": [
    {
     "name": "stdout",
     "output_type": "stream",
     "text": [
      "__________________________________________________________________________________________________\n",
      "Layer (type)                    Output Shape         Param #     Connected to                     \n",
      "==================================================================================================\n",
      "input_5 (InputLayer)            (None, 75, 250, 3)   0                                            \n",
      "__________________________________________________________________________________________________\n",
      "conv2d_7 (Conv2D)               (None, 73, 248, 8)   224         input_5[0][0]                    \n",
      "__________________________________________________________________________________________________\n",
      "max_pooling2d_7 (MaxPooling2D)  (None, 24, 82, 8)    0           conv2d_7[0][0]                   \n",
      "__________________________________________________________________________________________________\n",
      "conv2d_8 (Conv2D)               (None, 22, 80, 16)   1168        max_pooling2d_7[0][0]            \n",
      "__________________________________________________________________________________________________\n",
      "max_pooling2d_8 (MaxPooling2D)  (None, 7, 26, 16)    0           conv2d_8[0][0]                   \n",
      "__________________________________________________________________________________________________\n",
      "conv2d_9 (Conv2D)               (None, 5, 24, 32)    4640        max_pooling2d_8[0][0]            \n",
      "__________________________________________________________________________________________________\n",
      "max_pooling2d_9 (MaxPooling2D)  (None, 2, 12, 32)    0           conv2d_9[0][0]                   \n",
      "__________________________________________________________________________________________________\n",
      "flatten_3 (Flatten)             (None, 768)          0           max_pooling2d_9[0][0]            \n",
      "__________________________________________________________________________________________________\n",
      "input_6 (InputLayer)            (None, 1)            0                                            \n",
      "__________________________________________________________________________________________________\n",
      "dense_7 (Dense)                 (None, 512)          393728      flatten_3[0][0]                  \n",
      "__________________________________________________________________________________________________\n",
      "dense_8 (Dense)                 (None, 1)            2           input_6[0][0]                    \n",
      "__________________________________________________________________________________________________\n",
      "concatenate_3 (Concatenate)     (None, 513)          0           dense_7[0][0]                    \n",
      "                                                                 dense_8[0][0]                    \n",
      "__________________________________________________________________________________________________\n",
      "dense_9 (Dense)                 (None, 10)           5140        concatenate_3[0][0]              \n",
      "==================================================================================================\n",
      "Total params: 404,902\n",
      "Trainable params: 404,902\n",
      "Non-trainable params: 0\n",
      "__________________________________________________________________________________________________\n"
     ]
    }
   ],
   "source": [
    "model.summary()"
   ]
  },
  {
   "cell_type": "markdown",
   "metadata": {},
   "source": [
    "## Create vectors of scores from pictures"
   ]
  },
  {
   "cell_type": "code",
   "execution_count": 69,
   "metadata": {
    "collapsed": true
   },
   "outputs": [],
   "source": [
    "train_scores = train_dir + \"/score\"\n",
    "train_pics = train_dir + \"/pics\"\n",
    "\n",
    "#valid_scores_up = validation_dir + \"/up/score\"\n",
    "\n",
    "#test_scores_up = test_dir + \"/up/score\""
   ]
  },
  {
   "cell_type": "code",
   "execution_count": 70,
   "metadata": {
    "collapsed": true
   },
   "outputs": [],
   "source": [
    "train_names_scores = [f for f in os.listdir(train_scores)]\n",
    "train_names_pics = [f for f in os.listdir(train_pics)]\n",
    "\n",
    "#valid_names_up = [f for f in os.listdir(valid_scores_up)]\n",
    "\n",
    "#test_names_up = [f for f in os.listdir(test_scores_up)]"
   ]
  },
  {
   "cell_type": "code",
   "execution_count": 71,
   "metadata": {},
   "outputs": [
    {
     "name": "stdout",
     "output_type": "stream",
     "text": [
      "125 training files for scores\n",
      "138training files for pictures\n"
     ]
    }
   ],
   "source": [
    "print(str(len(train_names_scores)) + \" training files for scores\")\n",
    "print(str(len(train_names_pics)) + \" training files for pictures\")\n",
    "\n",
    "#print(str(len(valid_names_up)) + \" validation files up\")\n",
    "\n",
    "#print(str(len(test_names_up)) + \" test files up\")"
   ]
  },
  {
   "cell_type": "code",
   "execution_count": 72,
   "metadata": {},
   "outputs": [],
   "source": [
    "train_dataset_score = create_dataset(\"score\", train_names_scores, base_dir + \"train/\")\n",
    "#validation_dataset = create_dataset(\"validation/score\", valid_names)\n",
    "#test_dataset = create_dataset(\"test/score\", test_names)"
   ]
  },
  {
   "cell_type": "code",
   "execution_count": 73,
   "metadata": {
    "collapsed": true
   },
   "outputs": [],
   "source": [
    "def get_result(result):\n",
    "    resultstr = ''\n",
    "    for i in range(5):\n",
    "        resultstr += str(np.argmax(result[i]))\n",
    "    return resultstr"
   ]
  },
  {
   "cell_type": "code",
   "execution_count": 74,
   "metadata": {
    "collapsed": true
   },
   "outputs": [],
   "source": [
    "score_model = load_model(\"C:/Users/bened/OneDrive/Arbeit/Lernen/python_training/models/score_v2.h5\")"
   ]
  },
  {
   "cell_type": "code",
   "execution_count": 58,
   "metadata": {},
   "outputs": [],
   "source": [
    "#Create vectors for scores and for labels\n",
    "score_vec = []\n",
    "for i in range(len(train_names)):\n",
    "    y_pred = score_model.predict(train_dataset[i].reshape(1, 50, 160, 1))\n",
    "    score_vec.append(get_result(y_pred))\n",
    "\n",
    "label_vec = ['up' in x for x in train_names]"
   ]
  },
  {
   "cell_type": "code",
   "execution_count": 59,
   "metadata": {
    "scrolled": true
   },
   "outputs": [
    {
     "data": {
      "text/html": [
       "<div>\n",
       "<style>\n",
       "    .dataframe thead tr:only-child th {\n",
       "        text-align: right;\n",
       "    }\n",
       "\n",
       "    .dataframe thead th {\n",
       "        text-align: left;\n",
       "    }\n",
       "\n",
       "    .dataframe tbody tr th {\n",
       "        vertical-align: top;\n",
       "    }\n",
       "</style>\n",
       "<table border=\"1\" class=\"dataframe\">\n",
       "  <thead>\n",
       "    <tr style=\"text-align: right;\">\n",
       "      <th></th>\n",
       "      <th>label</th>\n",
       "      <th>orig_name</th>\n",
       "      <th>score</th>\n",
       "    </tr>\n",
       "  </thead>\n",
       "  <tbody>\n",
       "    <tr>\n",
       "      <th>0</th>\n",
       "      <td>False</td>\n",
       "      <td>right_1.png</td>\n",
       "      <td>00010</td>\n",
       "    </tr>\n",
       "    <tr>\n",
       "      <th>1</th>\n",
       "      <td>False</td>\n",
       "      <td>right_10.png</td>\n",
       "      <td>00050</td>\n",
       "    </tr>\n",
       "    <tr>\n",
       "      <th>2</th>\n",
       "      <td>False</td>\n",
       "      <td>right_11.png</td>\n",
       "      <td>00059</td>\n",
       "    </tr>\n",
       "    <tr>\n",
       "      <th>3</th>\n",
       "      <td>False</td>\n",
       "      <td>right_12.png</td>\n",
       "      <td>00067</td>\n",
       "    </tr>\n",
       "    <tr>\n",
       "      <th>4</th>\n",
       "      <td>False</td>\n",
       "      <td>right_13.png</td>\n",
       "      <td>00075</td>\n",
       "    </tr>\n",
       "    <tr>\n",
       "      <th>5</th>\n",
       "      <td>False</td>\n",
       "      <td>right_14.png</td>\n",
       "      <td>00082</td>\n",
       "    </tr>\n",
       "    <tr>\n",
       "      <th>6</th>\n",
       "      <td>False</td>\n",
       "      <td>right_15.png</td>\n",
       "      <td>00093</td>\n",
       "    </tr>\n",
       "    <tr>\n",
       "      <th>7</th>\n",
       "      <td>False</td>\n",
       "      <td>right_16.png</td>\n",
       "      <td>00097</td>\n",
       "    </tr>\n",
       "    <tr>\n",
       "      <th>8</th>\n",
       "      <td>False</td>\n",
       "      <td>right_18.png</td>\n",
       "      <td>00100</td>\n",
       "    </tr>\n",
       "    <tr>\n",
       "      <th>9</th>\n",
       "      <td>False</td>\n",
       "      <td>right_19.png</td>\n",
       "      <td>00125</td>\n",
       "    </tr>\n",
       "    <tr>\n",
       "      <th>10</th>\n",
       "      <td>False</td>\n",
       "      <td>right_2.png</td>\n",
       "      <td>00013</td>\n",
       "    </tr>\n",
       "    <tr>\n",
       "      <th>11</th>\n",
       "      <td>False</td>\n",
       "      <td>right_20.png</td>\n",
       "      <td>00129</td>\n",
       "    </tr>\n",
       "    <tr>\n",
       "      <th>12</th>\n",
       "      <td>False</td>\n",
       "      <td>right_21.png</td>\n",
       "      <td>00133</td>\n",
       "    </tr>\n",
       "    <tr>\n",
       "      <th>13</th>\n",
       "      <td>False</td>\n",
       "      <td>right_22.png</td>\n",
       "      <td>00142</td>\n",
       "    </tr>\n",
       "    <tr>\n",
       "      <th>14</th>\n",
       "      <td>False</td>\n",
       "      <td>right_23.png</td>\n",
       "      <td>00153</td>\n",
       "    </tr>\n",
       "    <tr>\n",
       "      <th>15</th>\n",
       "      <td>False</td>\n",
       "      <td>right_24.png</td>\n",
       "      <td>00162</td>\n",
       "    </tr>\n",
       "    <tr>\n",
       "      <th>16</th>\n",
       "      <td>False</td>\n",
       "      <td>right_25.png</td>\n",
       "      <td>00166</td>\n",
       "    </tr>\n",
       "    <tr>\n",
       "      <th>17</th>\n",
       "      <td>False</td>\n",
       "      <td>right_26.png</td>\n",
       "      <td>00175</td>\n",
       "    </tr>\n",
       "    <tr>\n",
       "      <th>18</th>\n",
       "      <td>False</td>\n",
       "      <td>right_27.png</td>\n",
       "      <td>00187</td>\n",
       "    </tr>\n",
       "    <tr>\n",
       "      <th>19</th>\n",
       "      <td>False</td>\n",
       "      <td>right_28.png</td>\n",
       "      <td>00191</td>\n",
       "    </tr>\n",
       "    <tr>\n",
       "      <th>20</th>\n",
       "      <td>False</td>\n",
       "      <td>right_29.png</td>\n",
       "      <td>00195</td>\n",
       "    </tr>\n",
       "    <tr>\n",
       "      <th>21</th>\n",
       "      <td>False</td>\n",
       "      <td>right_3.png</td>\n",
       "      <td>00017</td>\n",
       "    </tr>\n",
       "    <tr>\n",
       "      <th>22</th>\n",
       "      <td>False</td>\n",
       "      <td>right_31.png</td>\n",
       "      <td>00200</td>\n",
       "    </tr>\n",
       "    <tr>\n",
       "      <th>23</th>\n",
       "      <td>False</td>\n",
       "      <td>right_32.png</td>\n",
       "      <td>00224</td>\n",
       "    </tr>\n",
       "    <tr>\n",
       "      <th>24</th>\n",
       "      <td>False</td>\n",
       "      <td>right_33.png</td>\n",
       "      <td>00230</td>\n",
       "    </tr>\n",
       "    <tr>\n",
       "      <th>25</th>\n",
       "      <td>False</td>\n",
       "      <td>right_34.png</td>\n",
       "      <td>00241</td>\n",
       "    </tr>\n",
       "    <tr>\n",
       "      <th>26</th>\n",
       "      <td>False</td>\n",
       "      <td>right_35.png</td>\n",
       "      <td>00246</td>\n",
       "    </tr>\n",
       "    <tr>\n",
       "      <th>27</th>\n",
       "      <td>False</td>\n",
       "      <td>right_36.png</td>\n",
       "      <td>00254</td>\n",
       "    </tr>\n",
       "    <tr>\n",
       "      <th>28</th>\n",
       "      <td>False</td>\n",
       "      <td>right_37.png</td>\n",
       "      <td>00258</td>\n",
       "    </tr>\n",
       "    <tr>\n",
       "      <th>29</th>\n",
       "      <td>False</td>\n",
       "      <td>right_38.png</td>\n",
       "      <td>00267</td>\n",
       "    </tr>\n",
       "    <tr>\n",
       "      <th>...</th>\n",
       "      <td>...</td>\n",
       "      <td>...</td>\n",
       "      <td>...</td>\n",
       "    </tr>\n",
       "    <tr>\n",
       "      <th>95</th>\n",
       "      <td>True</td>\n",
       "      <td>up_22.png</td>\n",
       "      <td>00278</td>\n",
       "    </tr>\n",
       "    <tr>\n",
       "      <th>96</th>\n",
       "      <td>True</td>\n",
       "      <td>up_23.png</td>\n",
       "      <td>00297</td>\n",
       "    </tr>\n",
       "    <tr>\n",
       "      <th>97</th>\n",
       "      <td>True</td>\n",
       "      <td>up_24.png</td>\n",
       "      <td>00300</td>\n",
       "    </tr>\n",
       "    <tr>\n",
       "      <th>98</th>\n",
       "      <td>True</td>\n",
       "      <td>up_25.png</td>\n",
       "      <td>00300</td>\n",
       "    </tr>\n",
       "    <tr>\n",
       "      <th>99</th>\n",
       "      <td>True</td>\n",
       "      <td>up_26.png</td>\n",
       "      <td>00340</td>\n",
       "    </tr>\n",
       "    <tr>\n",
       "      <th>100</th>\n",
       "      <td>True</td>\n",
       "      <td>up_27.png</td>\n",
       "      <td>00353</td>\n",
       "    </tr>\n",
       "    <tr>\n",
       "      <th>101</th>\n",
       "      <td>True</td>\n",
       "      <td>up_28.png</td>\n",
       "      <td>00362</td>\n",
       "    </tr>\n",
       "    <tr>\n",
       "      <th>102</th>\n",
       "      <td>True</td>\n",
       "      <td>up_29.png</td>\n",
       "      <td>00371</td>\n",
       "    </tr>\n",
       "    <tr>\n",
       "      <th>103</th>\n",
       "      <td>True</td>\n",
       "      <td>up_3.png</td>\n",
       "      <td>00054</td>\n",
       "    </tr>\n",
       "    <tr>\n",
       "      <th>104</th>\n",
       "      <td>True</td>\n",
       "      <td>up_30.png</td>\n",
       "      <td>00378</td>\n",
       "    </tr>\n",
       "    <tr>\n",
       "      <th>105</th>\n",
       "      <td>True</td>\n",
       "      <td>up_31.png</td>\n",
       "      <td>00390</td>\n",
       "    </tr>\n",
       "    <tr>\n",
       "      <th>106</th>\n",
       "      <td>True</td>\n",
       "      <td>up_32.png</td>\n",
       "      <td>00400</td>\n",
       "    </tr>\n",
       "    <tr>\n",
       "      <th>107</th>\n",
       "      <td>True</td>\n",
       "      <td>up_34.png</td>\n",
       "      <td>00433</td>\n",
       "    </tr>\n",
       "    <tr>\n",
       "      <th>108</th>\n",
       "      <td>True</td>\n",
       "      <td>up_35.png</td>\n",
       "      <td>00451</td>\n",
       "    </tr>\n",
       "    <tr>\n",
       "      <th>109</th>\n",
       "      <td>True</td>\n",
       "      <td>up_36.png</td>\n",
       "      <td>00468</td>\n",
       "    </tr>\n",
       "    <tr>\n",
       "      <th>110</th>\n",
       "      <td>True</td>\n",
       "      <td>up_37.png</td>\n",
       "      <td>00485</td>\n",
       "    </tr>\n",
       "    <tr>\n",
       "      <th>111</th>\n",
       "      <td>True</td>\n",
       "      <td>up_39.png</td>\n",
       "      <td>00500</td>\n",
       "    </tr>\n",
       "    <tr>\n",
       "      <th>112</th>\n",
       "      <td>True</td>\n",
       "      <td>up_4.png</td>\n",
       "      <td>00063</td>\n",
       "    </tr>\n",
       "    <tr>\n",
       "      <th>113</th>\n",
       "      <td>True</td>\n",
       "      <td>up_40.png</td>\n",
       "      <td>00536</td>\n",
       "    </tr>\n",
       "    <tr>\n",
       "      <th>114</th>\n",
       "      <td>True</td>\n",
       "      <td>up_41.png</td>\n",
       "      <td>00552</td>\n",
       "    </tr>\n",
       "    <tr>\n",
       "      <th>115</th>\n",
       "      <td>True</td>\n",
       "      <td>up_42.png</td>\n",
       "      <td>00561</td>\n",
       "    </tr>\n",
       "    <tr>\n",
       "      <th>116</th>\n",
       "      <td>True</td>\n",
       "      <td>up_43.png</td>\n",
       "      <td>00574</td>\n",
       "    </tr>\n",
       "    <tr>\n",
       "      <th>117</th>\n",
       "      <td>True</td>\n",
       "      <td>up_44.png</td>\n",
       "      <td>00590</td>\n",
       "    </tr>\n",
       "    <tr>\n",
       "      <th>118</th>\n",
       "      <td>True</td>\n",
       "      <td>up_47.png</td>\n",
       "      <td>00648</td>\n",
       "    </tr>\n",
       "    <tr>\n",
       "      <th>119</th>\n",
       "      <td>True</td>\n",
       "      <td>up_48.png</td>\n",
       "      <td>00666</td>\n",
       "    </tr>\n",
       "    <tr>\n",
       "      <th>120</th>\n",
       "      <td>True</td>\n",
       "      <td>up_49.png</td>\n",
       "      <td>00699</td>\n",
       "    </tr>\n",
       "    <tr>\n",
       "      <th>121</th>\n",
       "      <td>True</td>\n",
       "      <td>up_5.png</td>\n",
       "      <td>00070</td>\n",
       "    </tr>\n",
       "    <tr>\n",
       "      <th>122</th>\n",
       "      <td>True</td>\n",
       "      <td>up_6.png</td>\n",
       "      <td>00079</td>\n",
       "    </tr>\n",
       "    <tr>\n",
       "      <th>123</th>\n",
       "      <td>True</td>\n",
       "      <td>up_7.png</td>\n",
       "      <td>00087</td>\n",
       "    </tr>\n",
       "    <tr>\n",
       "      <th>124</th>\n",
       "      <td>True</td>\n",
       "      <td>up_9.png</td>\n",
       "      <td>00100</td>\n",
       "    </tr>\n",
       "  </tbody>\n",
       "</table>\n",
       "<p>125 rows × 3 columns</p>\n",
       "</div>"
      ],
      "text/plain": [
       "     label     orig_name  score\n",
       "0    False   right_1.png  00010\n",
       "1    False  right_10.png  00050\n",
       "2    False  right_11.png  00059\n",
       "3    False  right_12.png  00067\n",
       "4    False  right_13.png  00075\n",
       "5    False  right_14.png  00082\n",
       "6    False  right_15.png  00093\n",
       "7    False  right_16.png  00097\n",
       "8    False  right_18.png  00100\n",
       "9    False  right_19.png  00125\n",
       "10   False   right_2.png  00013\n",
       "11   False  right_20.png  00129\n",
       "12   False  right_21.png  00133\n",
       "13   False  right_22.png  00142\n",
       "14   False  right_23.png  00153\n",
       "15   False  right_24.png  00162\n",
       "16   False  right_25.png  00166\n",
       "17   False  right_26.png  00175\n",
       "18   False  right_27.png  00187\n",
       "19   False  right_28.png  00191\n",
       "20   False  right_29.png  00195\n",
       "21   False   right_3.png  00017\n",
       "22   False  right_31.png  00200\n",
       "23   False  right_32.png  00224\n",
       "24   False  right_33.png  00230\n",
       "25   False  right_34.png  00241\n",
       "26   False  right_35.png  00246\n",
       "27   False  right_36.png  00254\n",
       "28   False  right_37.png  00258\n",
       "29   False  right_38.png  00267\n",
       "..     ...           ...    ...\n",
       "95    True     up_22.png  00278\n",
       "96    True     up_23.png  00297\n",
       "97    True     up_24.png  00300\n",
       "98    True     up_25.png  00300\n",
       "99    True     up_26.png  00340\n",
       "100   True     up_27.png  00353\n",
       "101   True     up_28.png  00362\n",
       "102   True     up_29.png  00371\n",
       "103   True      up_3.png  00054\n",
       "104   True     up_30.png  00378\n",
       "105   True     up_31.png  00390\n",
       "106   True     up_32.png  00400\n",
       "107   True     up_34.png  00433\n",
       "108   True     up_35.png  00451\n",
       "109   True     up_36.png  00468\n",
       "110   True     up_37.png  00485\n",
       "111   True     up_39.png  00500\n",
       "112   True      up_4.png  00063\n",
       "113   True     up_40.png  00536\n",
       "114   True     up_41.png  00552\n",
       "115   True     up_42.png  00561\n",
       "116   True     up_43.png  00574\n",
       "117   True     up_44.png  00590\n",
       "118   True     up_47.png  00648\n",
       "119   True     up_48.png  00666\n",
       "120   True     up_49.png  00699\n",
       "121   True      up_5.png  00070\n",
       "122   True      up_6.png  00079\n",
       "123   True      up_7.png  00087\n",
       "124   True      up_9.png  00100\n",
       "\n",
       "[125 rows x 3 columns]"
      ]
     },
     "execution_count": 59,
     "metadata": {},
     "output_type": "execute_result"
    }
   ],
   "source": [
    "print_dat = pd.DataFrame({'score' : score_vec, 'label' : label_vec, 'orig_name' : train_names})\n",
    "print_dat"
   ]
  },
  {
   "cell_type": "code",
   "execution_count": 76,
   "metadata": {},
   "outputs": [
    {
     "data": {
      "text/plain": [
       "(75, 250, 3)"
      ]
     },
     "execution_count": 76,
     "metadata": {},
     "output_type": "execute_result"
    }
   ],
   "source": [
    "x = load_img(train_pics + \"/\" + train_names[1], target_size = (75, 250))\n",
    "x = img_to_array(x)\n",
    "x.shape\n"
   ]
  },
  {
   "cell_type": "code",
   "execution_count": 77,
   "metadata": {
    "collapsed": true
   },
   "outputs": [],
   "source": [
    "pic_array = np.zeros((len(train_names_pics), 75, 250, 3))\n",
    "\n",
    "for i in range(len(train_names_pics)):\n",
    "    x = load_img(train_pics + '/' + train_names_pics[i], target_size = (75, 250))\n",
    "    x = img_to_array(x)\n",
    "    pic_array[i] = x\n",
    "    \n",
    "    "
   ]
  },
  {
   "cell_type": "code",
   "execution_count": 78,
   "metadata": {},
   "outputs": [
    {
     "data": {
      "text/plain": [
       "(138, 75, 250, 3)"
      ]
     },
     "execution_count": 78,
     "metadata": {},
     "output_type": "execute_result"
    }
   ],
   "source": [
    "pic_array.shape"
   ]
  },
  {
   "cell_type": "code",
   "execution_count": null,
   "metadata": {
    "collapsed": true
   },
   "outputs": [],
   "source": []
  },
  {
   "cell_type": "code",
   "execution_count": 81,
   "metadata": {},
   "outputs": [
    {
     "ename": "RuntimeError",
     "evalue": "You must compile a model before training/testing. Use `model.compile(optimizer, loss)`.",
     "output_type": "error",
     "traceback": [
      "\u001b[1;31m---------------------------------------------------------------------------\u001b[0m",
      "\u001b[1;31mRuntimeError\u001b[0m                              Traceback (most recent call last)",
      "\u001b[1;32m<ipython-input-81-89470ccc2c09>\u001b[0m in \u001b[0;36m<module>\u001b[1;34m()\u001b[0m\n\u001b[1;32m----> 1\u001b[1;33m \u001b[0mmodel\u001b[0m\u001b[1;33m.\u001b[0m\u001b[0mfit\u001b[0m\u001b[1;33m(\u001b[0m\u001b[1;33m[\u001b[0m\u001b[0mpic_array\u001b[0m\u001b[1;33m,\u001b[0m \u001b[0mscore_vec\u001b[0m\u001b[1;33m]\u001b[0m\u001b[1;33m,\u001b[0m \u001b[0mlabel_vec\u001b[0m\u001b[1;33m,\u001b[0m \u001b[0mepochs\u001b[0m \u001b[1;33m=\u001b[0m \u001b[1;36m3\u001b[0m\u001b[1;33m)\u001b[0m\u001b[1;33m\u001b[0m\u001b[0m\n\u001b[0m",
      "\u001b[1;32mC:\\ProgramData\\Anaconda3\\lib\\site-packages\\keras\\engine\\training.py\u001b[0m in \u001b[0;36mfit\u001b[1;34m(self, x, y, batch_size, epochs, verbose, callbacks, validation_split, validation_data, shuffle, class_weight, sample_weight, initial_epoch, steps_per_epoch, validation_steps, **kwargs)\u001b[0m\n\u001b[0;32m    950\u001b[0m             \u001b[0msample_weight\u001b[0m\u001b[1;33m=\u001b[0m\u001b[0msample_weight\u001b[0m\u001b[1;33m,\u001b[0m\u001b[1;33m\u001b[0m\u001b[0m\n\u001b[0;32m    951\u001b[0m             \u001b[0mclass_weight\u001b[0m\u001b[1;33m=\u001b[0m\u001b[0mclass_weight\u001b[0m\u001b[1;33m,\u001b[0m\u001b[1;33m\u001b[0m\u001b[0m\n\u001b[1;32m--> 952\u001b[1;33m             batch_size=batch_size)\n\u001b[0m\u001b[0;32m    953\u001b[0m         \u001b[1;31m# Prepare validation data.\u001b[0m\u001b[1;33m\u001b[0m\u001b[1;33m\u001b[0m\u001b[0m\n\u001b[0;32m    954\u001b[0m         \u001b[0mdo_validation\u001b[0m \u001b[1;33m=\u001b[0m \u001b[1;32mFalse\u001b[0m\u001b[1;33m\u001b[0m\u001b[0m\n",
      "\u001b[1;32mC:\\ProgramData\\Anaconda3\\lib\\site-packages\\keras\\engine\\training.py\u001b[0m in \u001b[0;36m_standardize_user_data\u001b[1;34m(self, x, y, sample_weight, class_weight, check_array_lengths, batch_size)\u001b[0m\n\u001b[0;32m    679\u001b[0m         \u001b[1;32mif\u001b[0m \u001b[0my\u001b[0m \u001b[1;32mis\u001b[0m \u001b[1;32mnot\u001b[0m \u001b[1;32mNone\u001b[0m\u001b[1;33m:\u001b[0m\u001b[1;33m\u001b[0m\u001b[0m\n\u001b[0;32m    680\u001b[0m             \u001b[1;32mif\u001b[0m \u001b[1;32mnot\u001b[0m \u001b[0mself\u001b[0m\u001b[1;33m.\u001b[0m\u001b[0moptimizer\u001b[0m\u001b[1;33m:\u001b[0m\u001b[1;33m\u001b[0m\u001b[0m\n\u001b[1;32m--> 681\u001b[1;33m                 raise RuntimeError('You must compile a model before '\n\u001b[0m\u001b[0;32m    682\u001b[0m                                    \u001b[1;34m'training/testing. '\u001b[0m\u001b[1;33m\u001b[0m\u001b[0m\n\u001b[0;32m    683\u001b[0m                                    'Use `model.compile(optimizer, loss)`.')\n",
      "\u001b[1;31mRuntimeError\u001b[0m: You must compile a model before training/testing. Use `model.compile(optimizer, loss)`."
     ]
    }
   ],
   "source": [
    "model.fit([pic_array, score_vec], label_vec, epochs = 3)"
   ]
  },
  {
   "cell_type": "code",
   "execution_count": null,
   "metadata": {
    "collapsed": true
   },
   "outputs": [],
   "source": []
  },
  {
   "cell_type": "code",
   "execution_count": null,
   "metadata": {
    "collapsed": true
   },
   "outputs": [],
   "source": []
  },
  {
   "cell_type": "code",
   "execution_count": null,
   "metadata": {
    "collapsed": true
   },
   "outputs": [],
   "source": [
    "\n",
    "\n",
    "\n",
    "#Remove same pictues for scores and pics (white, game over)???"
   ]
  },
  {
   "cell_type": "code",
   "execution_count": null,
   "metadata": {
    "collapsed": true
   },
   "outputs": [],
   "source": []
  },
  {
   "cell_type": "code",
   "execution_count": null,
   "metadata": {
    "collapsed": true
   },
   "outputs": [],
   "source": []
  },
  {
   "cell_type": "code",
   "execution_count": null,
   "metadata": {},
   "outputs": [],
   "source": []
  },
  {
   "cell_type": "code",
   "execution_count": null,
   "metadata": {
    "collapsed": true
   },
   "outputs": [],
   "source": []
  },
  {
   "cell_type": "code",
   "execution_count": null,
   "metadata": {
    "collapsed": true
   },
   "outputs": [],
   "source": []
  }
 ],
 "metadata": {
  "kernelspec": {
   "display_name": "Python 3",
   "language": "python",
   "name": "python3"
  },
  "language_info": {
   "codemirror_mode": {
    "name": "ipython",
    "version": 3
   },
   "file_extension": ".py",
   "mimetype": "text/x-python",
   "name": "python",
   "nbconvert_exporter": "python",
   "pygments_lexer": "ipython3",
   "version": "3.6.2"
  }
 },
 "nbformat": 4,
 "nbformat_minor": 2
}
